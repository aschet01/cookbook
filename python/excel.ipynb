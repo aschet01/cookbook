{
 "cells": [
  {
   "cell_type": "markdown",
   "metadata": {},
   "source": [
    "## virtualenv preface"
   ]
  },
  {
   "cell_type": "markdown",
   "metadata": {},
   "source": [
    "Install packages in separate environments, represented by directories that can be used to set up virtual environments using environment variables."
   ]
  },
  {
   "cell_type": "markdown",
   "metadata": {},
   "source": [
    "Get 'em like this"
   ]
  },
  {
   "cell_type": "code",
   "execution_count": null,
   "metadata": {
    "collapsed": true
   },
   "outputs": [],
   "source": [
    "pip install virtualenv"
   ]
  },
  {
   "cell_type": "markdown",
   "metadata": {},
   "source": [
    "Make 'em like this"
   ]
  },
  {
   "cell_type": "code",
   "execution_count": null,
   "metadata": {
    "collapsed": true
   },
   "outputs": [],
   "source": [
    "virtualenv [-p /usr/bin/python3.4] venv_name"
   ]
  },
  {
   "cell_type": "markdown",
   "metadata": {},
   "source": [
    "Run 'em like this"
   ]
  },
  {
   "cell_type": "code",
   "execution_count": null,
   "metadata": {
    "collapsed": true
   },
   "outputs": [],
   "source": [
    "source venv/bin/activate\n",
    "venv/Scripts/activate         # Windows people"
   ]
  },
  {
   "cell_type": "markdown",
   "metadata": {},
   "source": [
    "Quit 'em like this"
   ]
  },
  {
   "cell_type": "code",
   "execution_count": null,
   "metadata": {
    "collapsed": true
   },
   "outputs": [],
   "source": [
    "deactivate"
   ]
  },
  {
   "cell_type": "markdown",
   "metadata": {},
   "source": [
    "## openpyxl"
   ]
  },
  {
   "cell_type": "markdown",
   "metadata": {},
   "source": [
    "For .xl[st][xm] files.\n",
    "https://openpyxl.readthedocs.io/en/stable/"
   ]
  },
  {
   "cell_type": "code",
   "execution_count": 35,
   "metadata": {
    "collapsed": true
   },
   "outputs": [],
   "source": [
    "import openpyxl"
   ]
  },
  {
   "cell_type": "markdown",
   "metadata": {},
   "source": [
    "Reading an existing workbook."
   ]
  },
  {
   "cell_type": "code",
   "execution_count": 56,
   "metadata": {},
   "outputs": [
    {
     "name": "stdout",
     "output_type": "stream",
     "text": [
      "['Sheet 1', 'Sheet 2']\n"
     ]
    }
   ],
   "source": [
    "workbook = openpyxl.load_workbook('EXCL.xlsx')\n",
    "print(workbook.sheetnames)"
   ]
  },
  {
   "cell_type": "markdown",
   "metadata": {},
   "source": [
    "Creating a new workbook"
   ]
  },
  {
   "cell_type": "code",
   "execution_count": 146,
   "metadata": {},
   "outputs": [
    {
     "name": "stdout",
     "output_type": "stream",
     "text": [
      "['Extra', 'Original']\n"
     ]
    }
   ],
   "source": [
    "newbook = openpyxl.Workbook()\n",
    "# Get the original sheet\n",
    "sheet = newbook.active\n",
    "sheet.title = 'Original'\n",
    "\n",
    "# This index appears to be 0-indexed\n",
    "sheet2 = newbook.create_sheet(title='Extra', index=0)\n",
    "print(newbook.sheetnames)"
   ]
  },
  {
   "cell_type": "code",
   "execution_count": 147,
   "metadata": {},
   "outputs": [],
   "source": [
    "sheet = newbook.active\n",
    "if sheet.max_row < 2:\n",
    "    sheet.append(['Title', 'Author'])\n",
    "    sheet.append(['The Adventures of Huckleberry Finn', 'Mark Twain'])\n",
    "    sheet.append(['How to Win Friends and Influence People', 'Dale Carenegie'])\n",
    "\n",
    "newbook.save('NEW.xlsx')"
   ]
  },
  {
   "cell_type": "code",
   "execution_count": 142,
   "metadata": {},
   "outputs": [],
   "source": [
    "# Extend the length of the first column to give more space\n",
    "titles = [cell.value for col in sheet.iter_cols(min_col=0, max_col=0, min_row=2) for cell in col]\n",
    "sheet.column_dimensions['A'].width = max(len(title) for title in titles)"
   ]
  },
  {
   "cell_type": "markdown",
   "metadata": {},
   "source": [
    "Reading from a workbook"
   ]
  },
  {
   "cell_type": "code",
   "execution_count": 57,
   "metadata": {},
   "outputs": [
    {
     "name": "stdout",
     "output_type": "stream",
     "text": [
      "4 x 3\n",
      "Slice: A1:C4\n",
      "2, A (A2): 1\n"
     ]
    }
   ],
   "source": [
    "sheet1 = workbook['Sheet 1']\n",
    "# Get maximumm dimensions\n",
    "print('{} x {}'.format(sheet1.max_row, sheet1.max_column))\n",
    "print('Slice: {}'.format(sheet1.dimensions))\n",
    "\n",
    "# Read individual cells\n",
    "cA2 = sheet1['A2']\n",
    "print('{}, {} ({}): {}'.format(cA2.row, cA2.column,\n",
    "                               cA2.coordinate, cA2.value))"
   ]
  },
  {
   "cell_type": "code",
   "execution_count": 20,
   "metadata": {},
   "outputs": [
    {
     "name": "stdout",
     "output_type": "stream",
     "text": [
      "(1, B): AGE\n",
      "(2, B): 22\n",
      "(3, B): 15\n",
      "(4, B): 28\n"
     ]
    }
   ],
   "source": [
    "# Alterative, rather than string indexing.\n",
    "# The row and column in cell() are 1-indexed integers.\n",
    "for row in range(1, 5):\n",
    "    cell = sheet1.cell(row=row,\n",
    "        column=openpyxl.utils.column_index_from_string('B'))\n",
    "    print('({}, {}): {}'.format(cell.row, cell.column, cell.value))"
   ]
  },
  {
   "cell_type": "markdown",
   "metadata": {},
   "source": [
    "Reading through a block of cells"
   ]
  },
  {
   "cell_type": "code",
   "execution_count": 34,
   "metadata": {},
   "outputs": [
    {
     "name": "stdout",
     "output_type": "stream",
     "text": [
      "ID\tAGE\tSCORE\n",
      "1\t22\t5\n",
      "2\t15\t6\n",
      "3\t28\t9\n"
     ]
    }
   ],
   "source": [
    "for row in sheet1['A1':'C4']:\n",
    "    print('\\t'.join((str(cell.value) for cell in row)))"
   ]
  },
  {
   "cell_type": "markdown",
   "metadata": {},
   "source": [
    "Writing to a workbook"
   ]
  },
  {
   "cell_type": "code",
   "execution_count": 29,
   "metadata": {},
   "outputs": [
    {
     "name": "stdout",
     "output_type": "stream",
     "text": [
      "35\n"
     ]
    }
   ],
   "source": [
    "cell = sheet1['A5']\n",
    "cell.value = 35\n",
    "print(sheet1['A5'].value)"
   ]
  },
  {
   "cell_type": "code",
   "execution_count": 47,
   "metadata": {
    "collapsed": true
   },
   "outputs": [],
   "source": [
    "# Append a whole row at once\n",
    "sheet2 = workbook['Sheet 2']\n",
    "sheet2.append([10, 11, 12])"
   ]
  },
  {
   "cell_type": "markdown",
   "metadata": {},
   "source": [
    "Saving the workbook"
   ]
  },
  {
   "cell_type": "code",
   "execution_count": 48,
   "metadata": {},
   "outputs": [],
   "source": [
    "workbook.save('EXCL.xlsx')"
   ]
  }
 ],
 "metadata": {
  "kernelspec": {
   "display_name": "Python 3",
   "language": "python",
   "name": "python3"
  },
  "language_info": {
   "codemirror_mode": {
    "name": "ipython",
    "version": 3
   },
   "file_extension": ".py",
   "mimetype": "text/x-python",
   "name": "python",
   "nbconvert_exporter": "python",
   "pygments_lexer": "ipython3",
   "version": "3.6.3"
  }
 },
 "nbformat": 4,
 "nbformat_minor": 2
}
