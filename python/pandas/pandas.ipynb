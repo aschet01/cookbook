{
 "cells": [
  {
   "cell_type": "markdown",
   "metadata": {},
   "source": [
    "# Pandas cookbook"
   ]
  },
  {
   "cell_type": "code",
   "execution_count": 2,
   "metadata": {
    "collapsed": true
   },
   "outputs": [],
   "source": [
    "%matplotlib inline\n",
    "import pandas as pd\n",
    "import numpy as np\n",
    "import matplotlib.pyplot as plt"
   ]
  },
  {
   "cell_type": "markdown",
   "metadata": {},
   "source": [
    "## Exploring a DataFrame"
   ]
  },
  {
   "cell_type": "code",
   "execution_count": 4,
   "metadata": {},
   "outputs": [],
   "source": [
    "df = pd.read_csv('data/volc_holocene.csv', header=0, delimiter=',', comment='#',\n",
    "                 na_values='unknown', index_col='Number')"
   ]
  },
  {
   "cell_type": "markdown",
   "metadata": {},
   "source": [
    "### Examining values"
   ]
  },
  {
   "cell_type": "code",
   "execution_count": 13,
   "metadata": {},
   "outputs": [
    {
     "data": {
      "text/html": [
       "<div>\n",
       "<style>\n",
       "    .dataframe thead tr:only-child th {\n",
       "        text-align: right;\n",
       "    }\n",
       "\n",
       "    .dataframe thead th {\n",
       "        text-align: left;\n",
       "    }\n",
       "\n",
       "    .dataframe tbody tr th {\n",
       "        vertical-align: top;\n",
       "    }\n",
       "</style>\n",
       "<table border=\"1\" class=\"dataframe\">\n",
       "  <thead>\n",
       "    <tr style=\"text-align: right;\">\n",
       "      <th></th>\n",
       "      <th>Number</th>\n",
       "      <th>Name</th>\n",
       "      <th>Country</th>\n",
       "      <th>Region</th>\n",
       "      <th>Type</th>\n",
       "      <th>Activity Evidence</th>\n",
       "      <th>Last Known Eruption</th>\n",
       "      <th>Latitude</th>\n",
       "      <th>Longitude</th>\n",
       "      <th>Elevation (Meters)</th>\n",
       "      <th>Dominant Rock Type</th>\n",
       "      <th>Tectonic Setting</th>\n",
       "    </tr>\n",
       "  </thead>\n",
       "  <tbody>\n",
       "    <tr>\n",
       "      <th>1505</th>\n",
       "      <td>390812</td>\n",
       "      <td>Rittmann, Mount</td>\n",
       "      <td>Antarctica</td>\n",
       "      <td>Antarctica</td>\n",
       "      <td>Shield</td>\n",
       "      <td>Unrest / Pleistocene</td>\n",
       "      <td>Unknown</td>\n",
       "      <td>-73.45</td>\n",
       "      <td>165.50</td>\n",
       "      <td>2600</td>\n",
       "      <td>NaN</td>\n",
       "      <td>Intraplate / Continental Crust (&gt;25 km)</td>\n",
       "    </tr>\n",
       "    <tr>\n",
       "      <th>1506</th>\n",
       "      <td>390829</td>\n",
       "      <td>James Ross Island</td>\n",
       "      <td>Antarctica</td>\n",
       "      <td>Antarctica</td>\n",
       "      <td>Shield</td>\n",
       "      <td>Evidence Credible</td>\n",
       "      <td>Unknown</td>\n",
       "      <td>-64.15</td>\n",
       "      <td>-57.75</td>\n",
       "      <td>1630</td>\n",
       "      <td>Basalt / Picro-Basalt</td>\n",
       "      <td>Intraplate / Continental Crust (&gt;25 km)</td>\n",
       "    </tr>\n",
       "    <tr>\n",
       "      <th>1507</th>\n",
       "      <td>390847</td>\n",
       "      <td>Melville</td>\n",
       "      <td>Antarctica</td>\n",
       "      <td>Antarctica</td>\n",
       "      <td>Stratovolcano</td>\n",
       "      <td>Evidence Uncertain</td>\n",
       "      <td>Unknown</td>\n",
       "      <td>-62.02</td>\n",
       "      <td>-57.67</td>\n",
       "      <td>549</td>\n",
       "      <td>NaN</td>\n",
       "      <td>Intraplate / Continental Crust (&gt;25 km)</td>\n",
       "    </tr>\n",
       "  </tbody>\n",
       "</table>\n",
       "</div>"
      ],
      "text/plain": [
       "      Number               Name     Country      Region           Type  \\\n",
       "1505  390812    Rittmann, Mount  Antarctica  Antarctica         Shield   \n",
       "1506  390829  James Ross Island  Antarctica  Antarctica         Shield   \n",
       "1507  390847           Melville  Antarctica  Antarctica  Stratovolcano   \n",
       "\n",
       "         Activity Evidence Last Known Eruption  Latitude  Longitude  \\\n",
       "1505  Unrest / Pleistocene             Unknown    -73.45     165.50   \n",
       "1506     Evidence Credible             Unknown    -64.15     -57.75   \n",
       "1507    Evidence Uncertain             Unknown    -62.02     -57.67   \n",
       "\n",
       "      Elevation (Meters)     Dominant Rock Type  \\\n",
       "1505                2600                    NaN   \n",
       "1506                1630  Basalt / Picro-Basalt   \n",
       "1507                 549                    NaN   \n",
       "\n",
       "                             Tectonic Setting  \n",
       "1505  Intraplate / Continental Crust (>25 km)  \n",
       "1506  Intraplate / Continental Crust (>25 km)  \n",
       "1507  Intraplate / Continental Crust (>25 km)  "
      ]
     },
     "execution_count": 13,
     "metadata": {},
     "output_type": "execute_result"
    }
   ],
   "source": [
    "n = 3\n",
    "df.head(n)    # Show the first n rows, default 5\n",
    "df.tail(n)    # Show the last n rows, default 5"
   ]
  },
  {
   "cell_type": "code",
   "execution_count": 16,
   "metadata": {
    "scrolled": true
   },
   "outputs": [
    {
     "data": {
      "text/plain": [
       "array([[210010, 'West Eifel Volcanic Field', 'Germany', ..., 600,\n",
       "        'Foidite', 'Rift Zone / Continental Crust (>25 km)'],\n",
       "       [210020, 'Chaine des Puys', 'France', ..., 1464,\n",
       "        'Basalt / Picro-Basalt', 'Rift Zone / Continental Crust (>25 km)'],\n",
       "       [210030, 'Olot Volcanic Field', 'Spain', ..., 893,\n",
       "        'Trachybasalt / Tephrite Basanite',\n",
       "        'Intraplate / Continental Crust (>25 km)'],\n",
       "       ..., \n",
       "       [390812, 'Rittmann, Mount', 'Antarctica', ..., 2600, nan,\n",
       "        'Intraplate / Continental Crust (>25 km)'],\n",
       "       [390829, 'James Ross Island', 'Antarctica', ..., 1630,\n",
       "        'Basalt / Picro-Basalt', 'Intraplate / Continental Crust (>25 km)'],\n",
       "       [390847, 'Melville', 'Antarctica', ..., 549, nan,\n",
       "        'Intraplate / Continental Crust (>25 km)']], dtype=object)"
      ]
     },
     "execution_count": 16,
     "metadata": {},
     "output_type": "execute_result"
    }
   ],
   "source": [
    "df.values    # Convert to np.array"
   ]
  },
  {
   "cell_type": "code",
   "execution_count": 61,
   "metadata": {},
   "outputs": [
    {
     "data": {
      "text/plain": [
       "(3, 11)"
      ]
     },
     "execution_count": 61,
     "metadata": {},
     "output_type": "execute_result"
    }
   ],
   "source": [
    "df.shape"
   ]
  },
  {
   "cell_type": "code",
   "execution_count": 24,
   "metadata": {},
   "outputs": [
    {
     "data": {
      "text/plain": [
       "Index(['Number', 'Name', 'Country', 'Region', 'Type', 'Activity Evidence',\n",
       "       'Last Known Eruption', 'Latitude', 'Longitude', 'Elevation (Meters)',\n",
       "       'Dominant Rock Type', 'Tectonic Setting'],\n",
       "      dtype='object')"
      ]
     },
     "execution_count": 24,
     "metadata": {},
     "output_type": "execute_result"
    }
   ],
   "source": [
    "df.columns    # Get or set the column names"
   ]
  },
  {
   "cell_type": "code",
   "execution_count": 25,
   "metadata": {},
   "outputs": [
    {
     "data": {
      "text/plain": [
       "RangeIndex(start=0, stop=1508, step=1)"
      ]
     },
     "execution_count": 25,
     "metadata": {},
     "output_type": "execute_result"
    }
   ],
   "source": [
    "df.index    # Get or set the DataFrame's index"
   ]
  },
  {
   "cell_type": "code",
   "execution_count": 26,
   "metadata": {},
   "outputs": [
    {
     "data": {
      "text/html": [
       "<div>\n",
       "<style>\n",
       "    .dataframe thead tr:only-child th {\n",
       "        text-align: right;\n",
       "    }\n",
       "\n",
       "    .dataframe thead th {\n",
       "        text-align: left;\n",
       "    }\n",
       "\n",
       "    .dataframe tbody tr th {\n",
       "        vertical-align: top;\n",
       "    }\n",
       "</style>\n",
       "<table border=\"1\" class=\"dataframe\">\n",
       "  <thead>\n",
       "    <tr style=\"text-align: right;\">\n",
       "      <th></th>\n",
       "      <th>Name</th>\n",
       "      <th>Country</th>\n",
       "      <th>Region</th>\n",
       "      <th>Type</th>\n",
       "      <th>Activity Evidence</th>\n",
       "      <th>Last Known Eruption</th>\n",
       "      <th>Latitude</th>\n",
       "      <th>Longitude</th>\n",
       "      <th>Elevation (Meters)</th>\n",
       "      <th>Dominant Rock Type</th>\n",
       "      <th>Tectonic Setting</th>\n",
       "    </tr>\n",
       "    <tr>\n",
       "      <th>Number</th>\n",
       "      <th></th>\n",
       "      <th></th>\n",
       "      <th></th>\n",
       "      <th></th>\n",
       "      <th></th>\n",
       "      <th></th>\n",
       "      <th></th>\n",
       "      <th></th>\n",
       "      <th></th>\n",
       "      <th></th>\n",
       "      <th></th>\n",
       "    </tr>\n",
       "  </thead>\n",
       "  <tbody>\n",
       "    <tr>\n",
       "      <th>210040</th>\n",
       "      <td>Calatrava Volcanic Field</td>\n",
       "      <td>Spain</td>\n",
       "      <td>Mediterranean and Western Asia</td>\n",
       "      <td>Pyroclastic cone(s)</td>\n",
       "      <td>Eruption Dated</td>\n",
       "      <td>3600 BCE</td>\n",
       "      <td>38.87</td>\n",
       "      <td>-4.02</td>\n",
       "      <td>1117</td>\n",
       "      <td>Basalt / Picro-Basalt</td>\n",
       "      <td>Intraplate / Continental Crust (&gt;25 km)</td>\n",
       "    </tr>\n",
       "  </tbody>\n",
       "</table>\n",
       "</div>"
      ],
      "text/plain": [
       "                            Name Country                          Region  \\\n",
       "Number                                                                     \n",
       "210040  Calatrava Volcanic Field   Spain  Mediterranean and Western Asia   \n",
       "\n",
       "                       Type Activity Evidence Last Known Eruption  Latitude  \\\n",
       "Number                                                                        \n",
       "210040  Pyroclastic cone(s)    Eruption Dated            3600 BCE     38.87   \n",
       "\n",
       "        Longitude  Elevation (Meters)     Dominant Rock Type  \\\n",
       "Number                                                         \n",
       "210040      -4.02                1117  Basalt / Picro-Basalt   \n",
       "\n",
       "                               Tectonic Setting  \n",
       "Number                                           \n",
       "210040  Intraplate / Continental Crust (>25 km)  "
      ]
     },
     "execution_count": 26,
     "metadata": {},
     "output_type": "execute_result"
    }
   ],
   "source": [
    "# Access a column\n",
    "df['Name']            # As a Series\n",
    "df[['Name']]          # As a DataFrame\n",
    "df[['Name', 'Type']]  # Multiple columns!"
   ]
  },
  {
   "cell_type": "code",
   "execution_count": 32,
   "metadata": {},
   "outputs": [
    {
     "data": {
      "text/html": [
       "<div>\n",
       "<style>\n",
       "    .dataframe thead tr:only-child th {\n",
       "        text-align: right;\n",
       "    }\n",
       "\n",
       "    .dataframe thead th {\n",
       "        text-align: left;\n",
       "    }\n",
       "\n",
       "    .dataframe tbody tr th {\n",
       "        vertical-align: top;\n",
       "    }\n",
       "</style>\n",
       "<table border=\"1\" class=\"dataframe\">\n",
       "  <thead>\n",
       "    <tr style=\"text-align: right;\">\n",
       "      <th></th>\n",
       "      <th>Name</th>\n",
       "      <th>Country</th>\n",
       "      <th>Region</th>\n",
       "      <th>Type</th>\n",
       "      <th>Activity Evidence</th>\n",
       "      <th>Last Known Eruption</th>\n",
       "      <th>Latitude</th>\n",
       "      <th>Longitude</th>\n",
       "      <th>Elevation (Meters)</th>\n",
       "      <th>Dominant Rock Type</th>\n",
       "      <th>Tectonic Setting</th>\n",
       "    </tr>\n",
       "    <tr>\n",
       "      <th>Number</th>\n",
       "      <th></th>\n",
       "      <th></th>\n",
       "      <th></th>\n",
       "      <th></th>\n",
       "      <th></th>\n",
       "      <th></th>\n",
       "      <th></th>\n",
       "      <th></th>\n",
       "      <th></th>\n",
       "      <th></th>\n",
       "      <th></th>\n",
       "    </tr>\n",
       "  </thead>\n",
       "  <tbody>\n",
       "    <tr>\n",
       "      <th>210040</th>\n",
       "      <td>Calatrava Volcanic Field</td>\n",
       "      <td>Spain</td>\n",
       "      <td>Mediterranean and Western Asia</td>\n",
       "      <td>Pyroclastic cone(s)</td>\n",
       "      <td>Eruption Dated</td>\n",
       "      <td>3600 BCE</td>\n",
       "      <td>38.87</td>\n",
       "      <td>-4.020</td>\n",
       "      <td>1117</td>\n",
       "      <td>Basalt / Picro-Basalt</td>\n",
       "      <td>Intraplate / Continental Crust (&gt;25 km)</td>\n",
       "    </tr>\n",
       "    <tr>\n",
       "      <th>211004</th>\n",
       "      <td>Colli Alban</td>\n",
       "      <td>Italy</td>\n",
       "      <td>Mediterranean and Western Asia</td>\n",
       "      <td>Caldera</td>\n",
       "      <td>Evidence Uncertain</td>\n",
       "      <td>Unknown</td>\n",
       "      <td>41.73</td>\n",
       "      <td>12.700</td>\n",
       "      <td>949</td>\n",
       "      <td>Foidite</td>\n",
       "      <td>Subduction Zone / Continental Crust (&gt;25 km)</td>\n",
       "    </tr>\n",
       "    <tr>\n",
       "      <th>211030</th>\n",
       "      <td>Ischia</td>\n",
       "      <td>Italy</td>\n",
       "      <td>Mediterranean and Western Asia</td>\n",
       "      <td>Complex</td>\n",
       "      <td>Eruption Observed</td>\n",
       "      <td>1302 CE</td>\n",
       "      <td>40.73</td>\n",
       "      <td>13.897</td>\n",
       "      <td>789</td>\n",
       "      <td>Trachyte / Trachydacite</td>\n",
       "      <td>Subduction Zone / Continental Crust (&gt;25 km)</td>\n",
       "    </tr>\n",
       "  </tbody>\n",
       "</table>\n",
       "</div>"
      ],
      "text/plain": [
       "                            Name Country                          Region  \\\n",
       "Number                                                                     \n",
       "210040  Calatrava Volcanic Field   Spain  Mediterranean and Western Asia   \n",
       "211004               Colli Alban   Italy  Mediterranean and Western Asia   \n",
       "211030                    Ischia   Italy  Mediterranean and Western Asia   \n",
       "\n",
       "                       Type   Activity Evidence Last Known Eruption  Latitude  \\\n",
       "Number                                                                          \n",
       "210040  Pyroclastic cone(s)      Eruption Dated            3600 BCE     38.87   \n",
       "211004              Caldera  Evidence Uncertain             Unknown     41.73   \n",
       "211030              Complex   Eruption Observed             1302 CE     40.73   \n",
       "\n",
       "        Longitude  Elevation (Meters)       Dominant Rock Type  \\\n",
       "Number                                                           \n",
       "210040     -4.020                1117    Basalt / Picro-Basalt   \n",
       "211004     12.700                 949                  Foidite   \n",
       "211030     13.897                 789  Trachyte / Trachydacite   \n",
       "\n",
       "                                    Tectonic Setting  \n",
       "Number                                                \n",
       "210040       Intraplate / Continental Crust (>25 km)  \n",
       "211004  Subduction Zone / Continental Crust (>25 km)  \n",
       "211030  Subduction Zone / Continental Crust (>25 km)  "
      ]
     },
     "execution_count": 32,
     "metadata": {},
     "output_type": "execute_result"
    }
   ],
   "source": [
    "# Access rows\n",
    "df.loc[210010]               # By key. As a Series\n",
    "df.loc[[210010]]             # As a DataFrame\n",
    "df.loc[[210010, 390847]]     # Multiple rows\n",
    "\n",
    "df.iloc[0]                   # By row index. As a Series\n",
    "df.iloc[[0]]                 # As a DataFrame\n",
    "df[slice(3,10,3)]               # Use a slice! Also df.iloc[slice(3,4)]"
   ]
  },
  {
   "cell_type": "code",
   "execution_count": 21,
   "metadata": {},
   "outputs": [
    {
     "data": {
      "text/html": [
       "<div>\n",
       "<style>\n",
       "    .dataframe thead tr:only-child th {\n",
       "        text-align: right;\n",
       "    }\n",
       "\n",
       "    .dataframe thead th {\n",
       "        text-align: left;\n",
       "    }\n",
       "\n",
       "    .dataframe tbody tr th {\n",
       "        vertical-align: top;\n",
       "    }\n",
       "</style>\n",
       "<table border=\"1\" class=\"dataframe\">\n",
       "  <thead>\n",
       "    <tr style=\"text-align: right;\">\n",
       "      <th></th>\n",
       "      <th>Name</th>\n",
       "      <th>Country</th>\n",
       "      <th>Region</th>\n",
       "      <th>Type</th>\n",
       "      <th>Activity Evidence</th>\n",
       "      <th>Last Known Eruption</th>\n",
       "      <th>Latitude</th>\n",
       "      <th>Longitude</th>\n",
       "      <th>Elevation (Meters)</th>\n",
       "      <th>Dominant Rock Type</th>\n",
       "      <th>Tectonic Setting</th>\n",
       "    </tr>\n",
       "    <tr>\n",
       "      <th>Number</th>\n",
       "      <th></th>\n",
       "      <th></th>\n",
       "      <th></th>\n",
       "      <th></th>\n",
       "      <th></th>\n",
       "      <th></th>\n",
       "      <th></th>\n",
       "      <th></th>\n",
       "      <th></th>\n",
       "      <th></th>\n",
       "      <th></th>\n",
       "    </tr>\n",
       "  </thead>\n",
       "  <tbody>\n",
       "    <tr>\n",
       "      <th>210010</th>\n",
       "      <td>West Eifel Volcanic Field</td>\n",
       "      <td>Germany</td>\n",
       "      <td>Mediterranean and Western Asia</td>\n",
       "      <td>Maar(s)</td>\n",
       "      <td>Eruption Dated</td>\n",
       "      <td>8300 BCE</td>\n",
       "      <td>50.17</td>\n",
       "      <td>6.85</td>\n",
       "      <td>600</td>\n",
       "      <td>Foidite</td>\n",
       "      <td>Rift Zone / Continental Crust (&gt;25 km)</td>\n",
       "    </tr>\n",
       "    <tr>\n",
       "      <th>390847</th>\n",
       "      <td>Melville</td>\n",
       "      <td>Antarctica</td>\n",
       "      <td>Antarctica</td>\n",
       "      <td>Stratovolcano</td>\n",
       "      <td>Evidence Uncertain</td>\n",
       "      <td>Unknown</td>\n",
       "      <td>-62.02</td>\n",
       "      <td>-57.67</td>\n",
       "      <td>549</td>\n",
       "      <td>NaN</td>\n",
       "      <td>Intraplate / Continental Crust (&gt;25 km)</td>\n",
       "    </tr>\n",
       "  </tbody>\n",
       "</table>\n",
       "</div>"
      ],
      "text/plain": [
       "                             Name     Country                          Region  \\\n",
       "Number                                                                          \n",
       "210010  West Eifel Volcanic Field     Germany  Mediterranean and Western Asia   \n",
       "390847                   Melville  Antarctica                      Antarctica   \n",
       "\n",
       "                 Type   Activity Evidence Last Known Eruption  Latitude  \\\n",
       "Number                                                                    \n",
       "210010        Maar(s)      Eruption Dated            8300 BCE     50.17   \n",
       "390847  Stratovolcano  Evidence Uncertain             Unknown    -62.02   \n",
       "\n",
       "        Longitude  Elevation (Meters) Dominant Rock Type  \\\n",
       "Number                                                     \n",
       "210010       6.85                 600            Foidite   \n",
       "390847     -57.67                 549                NaN   \n",
       "\n",
       "                               Tectonic Setting  \n",
       "Number                                           \n",
       "210010   Rift Zone / Continental Crust (>25 km)  \n",
       "390847  Intraplate / Continental Crust (>25 km)  "
      ]
     },
     "execution_count": 21,
     "metadata": {},
     "output_type": "execute_result"
    }
   ],
   "source": [
    "# Rows and columns!\n",
    "df.loc[[210010, 390847], ['Name', 'Type']]\n",
    "df.loc[[210010, 390847], :]                  # Slice to get all values!\n",
    "df.iloc[:, ['Name', 'Type']]"
   ]
  },
  {
   "cell_type": "markdown",
   "metadata": {},
   "source": [
    "### Filtering"
   ]
  },
  {
   "cell_type": "markdown",
   "metadata": {},
   "source": [
    "Select based on a criteria by creating a boolean array, then passing it as an index to the DataFrame"
   ]
  },
  {
   "cell_type": "code",
   "execution_count": 19,
   "metadata": {},
   "outputs": [
    {
     "data": {
      "text/html": [
       "<div>\n",
       "<style>\n",
       "    .dataframe thead tr:only-child th {\n",
       "        text-align: right;\n",
       "    }\n",
       "\n",
       "    .dataframe thead th {\n",
       "        text-align: left;\n",
       "    }\n",
       "\n",
       "    .dataframe tbody tr th {\n",
       "        vertical-align: top;\n",
       "    }\n",
       "</style>\n",
       "<table border=\"1\" class=\"dataframe\">\n",
       "  <thead>\n",
       "    <tr style=\"text-align: right;\">\n",
       "      <th></th>\n",
       "      <th>A</th>\n",
       "      <th>B</th>\n",
       "      <th>C</th>\n",
       "    </tr>\n",
       "  </thead>\n",
       "  <tbody>\n",
       "    <tr>\n",
       "      <th>28</th>\n",
       "      <td>36</td>\n",
       "      <td>98</td>\n",
       "      <td>11</td>\n",
       "    </tr>\n",
       "    <tr>\n",
       "      <th>45</th>\n",
       "      <td>33</td>\n",
       "      <td>95</td>\n",
       "      <td>67</td>\n",
       "    </tr>\n",
       "    <tr>\n",
       "      <th>47</th>\n",
       "      <td>77</td>\n",
       "      <td>95</td>\n",
       "      <td>35</td>\n",
       "    </tr>\n",
       "    <tr>\n",
       "      <th>55</th>\n",
       "      <td>11</td>\n",
       "      <td>99</td>\n",
       "      <td>99</td>\n",
       "    </tr>\n",
       "    <tr>\n",
       "      <th>61</th>\n",
       "      <td>92</td>\n",
       "      <td>95</td>\n",
       "      <td>92</td>\n",
       "    </tr>\n",
       "    <tr>\n",
       "      <th>64</th>\n",
       "      <td>22</td>\n",
       "      <td>96</td>\n",
       "      <td>62</td>\n",
       "    </tr>\n",
       "  </tbody>\n",
       "</table>\n",
       "</div>"
      ],
      "text/plain": [
       "     A   B   C\n",
       "28  36  98  11\n",
       "45  33  95  67\n",
       "47  77  95  35\n",
       "55  11  99  99\n",
       "61  92  95  92\n",
       "64  22  96  62"
      ]
     },
     "execution_count": 19,
     "metadata": {},
     "output_type": "execute_result"
    }
   ],
   "source": [
    "df = pd.DataFrame(np.random.randint(10, 100, (100, 3)), columns=['A', 'B', 'C'])\n",
    "big_B = df.B > 90\n",
    "df[big_B]         # Or all together as df[df.B > 90]"
   ]
  },
  {
   "cell_type": "markdown",
   "metadata": {},
   "source": [
    "Apply a function to a DataFrame or Series."
   ]
  },
  {
   "cell_type": "code",
   "execution_count": 28,
   "metadata": {},
   "outputs": [
    {
     "data": {
      "text/plain": [
       "A    <class 'pandas.core.series.Series'>\n",
       "B    <class 'pandas.core.series.Series'>\n",
       "C    <class 'pandas.core.series.Series'>\n",
       "dtype: object"
      ]
     },
     "execution_count": 28,
     "metadata": {},
     "output_type": "execute_result"
    }
   ],
   "source": [
    "df.apply(type)"
   ]
  },
  {
   "cell_type": "markdown",
   "metadata": {},
   "source": [
    "### Iteration"
   ]
  },
  {
   "cell_type": "markdown",
   "metadata": {},
   "source": [
    "Iterate through the column names in the dataframe."
   ]
  },
  {
   "cell_type": "code",
   "execution_count": 24,
   "metadata": {
    "collapsed": true
   },
   "outputs": [],
   "source": [
    "for column_name in df:\n",
    "    if int(label) % 13 == 0:\n",
    "        print(column_name)"
   ]
  },
  {
   "cell_type": "markdown",
   "metadata": {},
   "source": [
    "Iterate through the rows, with the indices. The row comes as a Series."
   ]
  },
  {
   "cell_type": "code",
   "execution_count": 17,
   "metadata": {},
   "outputs": [
    {
     "name": "stdout",
     "output_type": "stream",
     "text": [
      "210010 West Eifel Volcanic Field\n",
      "210020 Chaine des Puys\n",
      "210030 Olot Volcanic Field\n"
     ]
    }
   ],
   "source": [
    "for label, row in df.iterrows():\n",
    "    print(label, row.iloc[0])"
   ]
  },
  {
   "cell_type": "markdown",
   "metadata": {},
   "source": [
    "### Datetimes"
   ]
  },
  {
   "cell_type": "markdown",
   "metadata": {},
   "source": [
    "You can have datetimes as columns, and as indices for special slicing. Use parse_dates=True in pd.read_csv() to infer dates from specific formats, along with the index_col parameter to choose the index. You can also pass a list of lists/tuples to parse_dates, where each list is the indices of the columns making up an individual datetime column for parsing."
   ]
  },
  {
   "cell_type": "code",
   "execution_count": 126,
   "metadata": {},
   "outputs": [
    {
     "name": "stdout",
     "output_type": "stream",
     "text": [
      "DatetimeIndex(['2015-06-22 14:19:44', '2019-02-24 09:15:02',\n",
      "               '2024-05-15 19:17:53'],\n",
      "              dtype='datetime64[ns]', name='Date', freq=None)\n"
     ]
    },
    {
     "data": {
      "text/html": [
       "<div>\n",
       "<style>\n",
       "    .dataframe thead tr:only-child th {\n",
       "        text-align: right;\n",
       "    }\n",
       "\n",
       "    .dataframe thead th {\n",
       "        text-align: left;\n",
       "    }\n",
       "\n",
       "    .dataframe tbody tr th {\n",
       "        vertical-align: top;\n",
       "    }\n",
       "</style>\n",
       "<table border=\"1\" class=\"dataframe\">\n",
       "  <thead>\n",
       "    <tr style=\"text-align: right;\">\n",
       "      <th></th>\n",
       "      <th>Colour</th>\n",
       "    </tr>\n",
       "    <tr>\n",
       "      <th>Date</th>\n",
       "      <th></th>\n",
       "    </tr>\n",
       "  </thead>\n",
       "  <tbody>\n",
       "    <tr>\n",
       "      <th>2015-06-22 14:19:44</th>\n",
       "      <td>Red</td>\n",
       "    </tr>\n",
       "    <tr>\n",
       "      <th>2019-02-24 09:15:02</th>\n",
       "      <td>Green</td>\n",
       "    </tr>\n",
       "    <tr>\n",
       "      <th>2024-05-15 19:17:53</th>\n",
       "      <td>Blue</td>\n",
       "    </tr>\n",
       "  </tbody>\n",
       "</table>\n",
       "</div>"
      ],
      "text/plain": [
       "                    Colour\n",
       "Date                      \n",
       "2015-06-22 14:19:44    Red\n",
       "2019-02-24 09:15:02  Green\n",
       "2024-05-15 19:17:53   Blue"
      ]
     },
     "execution_count": 126,
     "metadata": {},
     "output_type": "execute_result"
    }
   ],
   "source": [
    "# Here's an example using a custom\n",
    "# This example comes out with something weird: The 'Year' column is kept instead of the 'Colour' column...\n",
    "df = pd.read_excel('data/favorites.xlsx', sheetname='Colors', usecols=[0, 1, 2, 3, 4, 5, 6],\n",
    "                   parse_dates={'Date': [1, 2, 3, 4, 5, 6]}, index_col='Date',\n",
    "                   date_parser=lambda x: pd.datetime.strptime(x, \"%Y %m %d %H %M %S\")).sort_index()\n",
    "print(df.index)\n",
    "# Fix the issue with Year being the remaining value\n",
    "df.columns = ['Colour']; df.Colour = ['Red', 'Green', 'Blue']\n",
    "df.head()"
   ]
  },
  {
   "cell_type": "markdown",
   "metadata": {},
   "source": [
    "Datetimes can also be made from strings with the pd.to_datetime() function."
   ]
  },
  {
   "cell_type": "markdown",
   "metadata": {},
   "source": [
    "You can access and slice datetime indices by date, or by part of the date."
   ]
  },
  {
   "cell_type": "code",
   "execution_count": 129,
   "metadata": {},
   "outputs": [
    {
     "data": {
      "text/plain": [
       "Colour    Red\n",
       "Name: 2015-06-22 14:19:44, dtype: object"
      ]
     },
     "execution_count": 129,
     "metadata": {},
     "output_type": "execute_result"
    }
   ],
   "source": [
    "df.loc['2015-06-22 14:19:44']"
   ]
  },
  {
   "cell_type": "code",
   "execution_count": 131,
   "metadata": {},
   "outputs": [
    {
     "data": {
      "text/html": [
       "<div>\n",
       "<style>\n",
       "    .dataframe thead tr:only-child th {\n",
       "        text-align: right;\n",
       "    }\n",
       "\n",
       "    .dataframe thead th {\n",
       "        text-align: left;\n",
       "    }\n",
       "\n",
       "    .dataframe tbody tr th {\n",
       "        vertical-align: top;\n",
       "    }\n",
       "</style>\n",
       "<table border=\"1\" class=\"dataframe\">\n",
       "  <thead>\n",
       "    <tr style=\"text-align: right;\">\n",
       "      <th></th>\n",
       "      <th>Colour</th>\n",
       "    </tr>\n",
       "    <tr>\n",
       "      <th>Date</th>\n",
       "      <th></th>\n",
       "    </tr>\n",
       "  </thead>\n",
       "  <tbody>\n",
       "    <tr>\n",
       "      <th>2015-06-22 14:19:44</th>\n",
       "      <td>Red</td>\n",
       "    </tr>\n",
       "    <tr>\n",
       "      <th>2019-02-24 09:15:02</th>\n",
       "      <td>Green</td>\n",
       "    </tr>\n",
       "  </tbody>\n",
       "</table>\n",
       "</div>"
      ],
      "text/plain": [
       "                    Colour\n",
       "Date                      \n",
       "2015-06-22 14:19:44    Red\n",
       "2019-02-24 09:15:02  Green"
      ]
     },
     "execution_count": 131,
     "metadata": {},
     "output_type": "execute_result"
    }
   ],
   "source": [
    "df.loc['2015-06-22 14:19:44':'2019-02-24 09:15:02']"
   ]
  },
  {
   "cell_type": "code",
   "execution_count": 133,
   "metadata": {},
   "outputs": [
    {
     "data": {
      "text/html": [
       "<div>\n",
       "<style>\n",
       "    .dataframe thead tr:only-child th {\n",
       "        text-align: right;\n",
       "    }\n",
       "\n",
       "    .dataframe thead th {\n",
       "        text-align: left;\n",
       "    }\n",
       "\n",
       "    .dataframe tbody tr th {\n",
       "        vertical-align: top;\n",
       "    }\n",
       "</style>\n",
       "<table border=\"1\" class=\"dataframe\">\n",
       "  <thead>\n",
       "    <tr style=\"text-align: right;\">\n",
       "      <th></th>\n",
       "      <th>Colour</th>\n",
       "    </tr>\n",
       "    <tr>\n",
       "      <th>Date</th>\n",
       "      <th></th>\n",
       "    </tr>\n",
       "  </thead>\n",
       "  <tbody>\n",
       "    <tr>\n",
       "      <th>2015-06-22 14:19:44</th>\n",
       "      <td>Red</td>\n",
       "    </tr>\n",
       "    <tr>\n",
       "      <th>2019-02-24 09:15:02</th>\n",
       "      <td>Green</td>\n",
       "    </tr>\n",
       "  </tbody>\n",
       "</table>\n",
       "</div>"
      ],
      "text/plain": [
       "                    Colour\n",
       "Date                      \n",
       "2015-06-22 14:19:44    Red\n",
       "2019-02-24 09:15:02  Green"
      ]
     },
     "execution_count": 133,
     "metadata": {},
     "output_type": "execute_result"
    }
   ],
   "source": [
    "df.loc['2000-01-01':'2019-12-31']"
   ]
  },
  {
   "cell_type": "code",
   "execution_count": 134,
   "metadata": {},
   "outputs": [
    {
     "data": {
      "text/html": [
       "<div>\n",
       "<style>\n",
       "    .dataframe thead tr:only-child th {\n",
       "        text-align: right;\n",
       "    }\n",
       "\n",
       "    .dataframe thead th {\n",
       "        text-align: left;\n",
       "    }\n",
       "\n",
       "    .dataframe tbody tr th {\n",
       "        vertical-align: top;\n",
       "    }\n",
       "</style>\n",
       "<table border=\"1\" class=\"dataframe\">\n",
       "  <thead>\n",
       "    <tr style=\"text-align: right;\">\n",
       "      <th></th>\n",
       "      <th>Colour</th>\n",
       "    </tr>\n",
       "    <tr>\n",
       "      <th>Date</th>\n",
       "      <th></th>\n",
       "    </tr>\n",
       "  </thead>\n",
       "  <tbody>\n",
       "    <tr>\n",
       "      <th>2024-05-15 19:17:53</th>\n",
       "      <td>Blue</td>\n",
       "    </tr>\n",
       "  </tbody>\n",
       "</table>\n",
       "</div>"
      ],
      "text/plain": [
       "                    Colour\n",
       "Date                      \n",
       "2024-05-15 19:17:53   Blue"
      ]
     },
     "execution_count": 134,
     "metadata": {},
     "output_type": "execute_result"
    }
   ],
   "source": [
    "df.loc['2024']"
   ]
  },
  {
   "cell_type": "markdown",
   "metadata": {},
   "source": [
    "### Analysis"
   ]
  },
  {
   "cell_type": "code",
   "execution_count": 14,
   "metadata": {},
   "outputs": [
    {
     "name": "stdout",
     "output_type": "stream",
     "text": [
      "<class 'pandas.core.frame.DataFrame'>\n",
      "RangeIndex: 1508 entries, 0 to 1507\n",
      "Data columns (total 12 columns):\n",
      "Number                 1508 non-null int64\n",
      "Name                   1508 non-null object\n",
      "Country                1508 non-null object\n",
      "Region                 1508 non-null object\n",
      "Type                   1508 non-null object\n",
      "Activity Evidence      1507 non-null object\n",
      "Last Known Eruption    1508 non-null object\n",
      "Latitude               1508 non-null float64\n",
      "Longitude              1508 non-null float64\n",
      "Elevation (Meters)     1508 non-null int64\n",
      "Dominant Rock Type     1455 non-null object\n",
      "Tectonic Setting       1501 non-null object\n",
      "dtypes: float64(2), int64(2), object(8)\n",
      "memory usage: 141.5+ KB\n"
     ]
    }
   ],
   "source": [
    "df.info()    # Info on column types and counts"
   ]
  },
  {
   "cell_type": "code",
   "execution_count": 15,
   "metadata": {},
   "outputs": [
    {
     "data": {
      "text/html": [
       "<div>\n",
       "<style>\n",
       "    .dataframe thead tr:only-child th {\n",
       "        text-align: right;\n",
       "    }\n",
       "\n",
       "    .dataframe thead th {\n",
       "        text-align: left;\n",
       "    }\n",
       "\n",
       "    .dataframe tbody tr th {\n",
       "        vertical-align: top;\n",
       "    }\n",
       "</style>\n",
       "<table border=\"1\" class=\"dataframe\">\n",
       "  <thead>\n",
       "    <tr style=\"text-align: right;\">\n",
       "      <th></th>\n",
       "      <th>Number</th>\n",
       "      <th>Latitude</th>\n",
       "      <th>Longitude</th>\n",
       "      <th>Elevation (Meters)</th>\n",
       "    </tr>\n",
       "  </thead>\n",
       "  <tbody>\n",
       "    <tr>\n",
       "      <th>count</th>\n",
       "      <td>1508.000000</td>\n",
       "      <td>1508.000000</td>\n",
       "      <td>1508.000000</td>\n",
       "      <td>1508.000000</td>\n",
       "    </tr>\n",
       "    <tr>\n",
       "      <th>mean</th>\n",
       "      <td>296656.110743</td>\n",
       "      <td>14.083156</td>\n",
       "      <td>23.391469</td>\n",
       "      <td>1683.357427</td>\n",
       "    </tr>\n",
       "    <tr>\n",
       "      <th>std</th>\n",
       "      <td>48861.852600</td>\n",
       "      <td>31.871107</td>\n",
       "      <td>113.656588</td>\n",
       "      <td>1571.102885</td>\n",
       "    </tr>\n",
       "    <tr>\n",
       "      <th>min</th>\n",
       "      <td>210010.000000</td>\n",
       "      <td>-78.500000</td>\n",
       "      <td>-179.970000</td>\n",
       "      <td>-4200.000000</td>\n",
       "    </tr>\n",
       "    <tr>\n",
       "      <th>25%</th>\n",
       "      <td>261157.500000</td>\n",
       "      <td>-7.068750</td>\n",
       "      <td>-78.274250</td>\n",
       "      <td>687.250000</td>\n",
       "    </tr>\n",
       "    <tr>\n",
       "      <th>50%</th>\n",
       "      <td>300015.000000</td>\n",
       "      <td>13.861500</td>\n",
       "      <td>38.390000</td>\n",
       "      <td>1464.000000</td>\n",
       "    </tr>\n",
       "    <tr>\n",
       "      <th>75%</th>\n",
       "      <td>342123.250000</td>\n",
       "      <td>41.748750</td>\n",
       "      <td>138.578000</td>\n",
       "      <td>2352.250000</td>\n",
       "    </tr>\n",
       "    <tr>\n",
       "      <th>max</th>\n",
       "      <td>390847.000000</td>\n",
       "      <td>85.608000</td>\n",
       "      <td>179.580000</td>\n",
       "      <td>6879.000000</td>\n",
       "    </tr>\n",
       "  </tbody>\n",
       "</table>\n",
       "</div>"
      ],
      "text/plain": [
       "              Number     Latitude    Longitude  Elevation (Meters)\n",
       "count    1508.000000  1508.000000  1508.000000         1508.000000\n",
       "mean   296656.110743    14.083156    23.391469         1683.357427\n",
       "std     48861.852600    31.871107   113.656588         1571.102885\n",
       "min    210010.000000   -78.500000  -179.970000        -4200.000000\n",
       "25%    261157.500000    -7.068750   -78.274250          687.250000\n",
       "50%    300015.000000    13.861500    38.390000         1464.000000\n",
       "75%    342123.250000    41.748750   138.578000         2352.250000\n",
       "max    390847.000000    85.608000   179.580000         6879.000000"
      ]
     },
     "execution_count": 15,
     "metadata": {},
     "output_type": "execute_result"
    }
   ],
   "source": [
    "df.describe()   # Basic statistics on column values "
   ]
  },
  {
   "cell_type": "code",
   "execution_count": 39,
   "metadata": {},
   "outputs": [
    {
     "data": {
      "text/plain": [
       "Name                   1508\n",
       "Country                1508\n",
       "Region                 1508\n",
       "Type                   1508\n",
       "Activity Evidence      1507\n",
       "Last Known Eruption    1508\n",
       "Latitude               1508\n",
       "Longitude              1508\n",
       "Elevation (Meters)     1508\n",
       "Dominant Rock Type     1455\n",
       "Tectonic Setting       1501\n",
       "dtype: int64"
      ]
     },
     "execution_count": 39,
     "metadata": {},
     "output_type": "execute_result"
    }
   ],
   "source": [
    "df.count()    # The number of values in each column of a DataFrame, or in a Series"
   ]
  },
  {
   "cell_type": "code",
   "execution_count": 50,
   "metadata": {},
   "outputs": [
    {
     "data": {
      "text/plain": [
       "array(['Maar(s)', 'Lava dome(s)', 'Pyroclastic cone(s)',\n",
       "       'Explosion crater(s)', 'Caldera', 'Stratovolcano', 'Complex',\n",
       "       'Submarine', 'Stratovolcano(es)', 'Shield', 'Shield(s)',\n",
       "       'Caldera(s)', 'Lava dome', 'Lava cone(s)', 'Volcanic field',\n",
       "       'Volcanic field(s)', 'Fissure vent(s)', 'Fissure vent',\n",
       "       'Pyroclastic cone', 'Tuff cone(s)', 'Tuff cone',\n",
       "       'Pyroclastic shield', 'Submarine(es)', 'Maar', 'Compound',\n",
       "       'Lava cone', 'Unknown', 'Stratovolcano?', 'Crater rows',\n",
       "       'Complex(es)', 'Cone(s)', 'Tuff ring(s)', 'Subglacial'], dtype=object)"
      ]
     },
     "execution_count": 50,
     "metadata": {},
     "output_type": "execute_result"
    }
   ],
   "source": [
    "df.Type.unique()       # Looking at the cases we have"
   ]
  },
  {
   "cell_type": "markdown",
   "metadata": {},
   "source": [
    "Numeric analysis methods"
   ]
  },
  {
   "cell_type": "code",
   "execution_count": 34,
   "metadata": {},
   "outputs": [
    {
     "name": "stdout",
     "output_type": "stream",
     "text": [
      "Mean:\t1683.3574270557028\n",
      "Std:\t1571.1028849022337\n",
      "Median:\t1464.0\n",
      "Min:\t-4200\n",
      "Max:\t6879\n"
     ]
    }
   ],
   "source": [
    "for method in ('mean', 'std', 'median', 'min', 'max'):\n",
    "    print(method.capitalize(), getattr(df['Elevation (Meters)'], method)(), sep=':\\t')"
   ]
  },
  {
   "cell_type": "code",
   "execution_count": 37,
   "metadata": {},
   "outputs": [
    {
     "data": {
      "text/plain": [
       "0.25     687.25\n",
       "0.50    1464.00\n",
       "0.75    2352.25\n",
       "Name: Elevation (Meters), dtype: float64"
      ]
     },
     "execution_count": 37,
     "metadata": {},
     "output_type": "execute_result"
    }
   ],
   "source": [
    "# Quantiles: like medians at different percentages\n",
    "df['Elevation (Meters)'].quantile([0.25, 0.5, 0.75])"
   ]
  },
  {
   "cell_type": "markdown",
   "metadata": {},
   "source": [
    "## Cleaning\n",
    "### Exploratory Data Analysis"
   ]
  },
  {
   "cell_type": "code",
   "execution_count": 7,
   "metadata": {},
   "outputs": [
    {
     "name": "stdout",
     "output_type": "stream",
     "text": [
      "<class 'pandas.core.frame.DataFrame'>\n",
      "Int64Index: 1508 entries, 210010 to 390847\n",
      "Data columns (total 11 columns):\n",
      "Name                   1508 non-null object\n",
      "Country                1508 non-null object\n",
      "Region                 1508 non-null object\n",
      "Type                   1508 non-null object\n",
      "Activity Evidence      1507 non-null object\n",
      "Last Known Eruption    1508 non-null object\n",
      "Latitude               1508 non-null float64\n",
      "Longitude              1508 non-null float64\n",
      "Elevation (Meters)     1508 non-null int64\n",
      "Dominant Rock Type     1455 non-null object\n",
      "Tectonic Setting       1501 non-null object\n",
      "dtypes: float64(2), int64(1), object(8)\n",
      "memory usage: 141.4+ KB\n"
     ]
    }
   ],
   "source": [
    "# Reload this guy\n",
    "df = pd.read_csv('data/volc_holocene.csv', header=0, index_col='Number')\n",
    "# Check missing values and surprising data types. Strings appear as 'object'\n",
    "df.info()"
   ]
  },
  {
   "cell_type": "code",
   "execution_count": 75,
   "metadata": {},
   "outputs": [
    {
     "data": {
      "text/plain": [
       "South America                     197\n",
       "Indonesia                         142\n",
       "Japan, Taiwan, Marianas           141\n",
       "Kamchatka and Mainland Asia       132\n",
       "Africa and Red Sea                131\n",
       "México and Central America        120\n",
       "Alaska                             88\n",
       "Melanesia and Australia            80\n",
       "Canada and Western USA             71\n",
       "Philippines and SE Asia            62\n",
       "New Zealand to Fiji                60\n",
       "Middle East and Indian Ocean       46\n",
       "Kuril Islands                      46\n",
       "Mediterranean and Western Asia     44\n",
       "Antarctica                         34\n",
       "Iceland and Arctic Ocean           34\n",
       "Hawaii and Pacific Ocean           33\n",
       "Atlantic Ocean                     30\n",
       "West Indies                        17\n",
       "Name: Region, dtype: int64"
      ]
     },
     "execution_count": 75,
     "metadata": {},
     "output_type": "execute_result"
    }
   ],
   "source": [
    "# Check the frequency of values\n",
    "df.Region.value_counts(dropna=False)"
   ]
  },
  {
   "cell_type": "markdown",
   "metadata": {},
   "source": [
    "#### With graphs"
   ]
  },
  {
   "cell_type": "code",
   "execution_count": 74,
   "metadata": {},
   "outputs": [
    {
     "data": {
      "text/plain": [
       "[]"
      ]
     },
     "execution_count": 74,
     "metadata": {},
     "output_type": "execute_result"
    },
    {
     "data": {
      "image/png": "[encoded data removed]",
      "text/plain": [
       "<matplotlib.figure.Figure at 0x1cc6fdc94e0>"
      ]
     },
     "metadata": {},
     "output_type": "display_data"
    }
   ],
   "source": [
    "df['Elevation (Meters)'].hist() # Optional parameters include logx, logy (booleans)\n",
    "                                # rot (degrees to rotate x label)\n",
    "plt.plot()"
   ]
  },
  {
   "cell_type": "code",
   "execution_count": 77,
   "metadata": {},
   "outputs": [
    {
     "name": "stderr",
     "output_type": "stream",
     "text": [
      "C:\\ProgramData\\Anaconda3\\lib\\site-packages\\numpy\\core\\fromnumeric.py:57: FutureWarning: reshape is deprecated and will raise in a subsequent release. Please use .values.reshape(...) instead\n",
      "  return getattr(obj, method)(*args, **kwds)\n"
     ]
    },
    {
     "data": {
      "text/plain": [
       "[]"
      ]
     },
     "execution_count": 77,
     "metadata": {},
     "output_type": "execute_result"
    },
    {
     "data": {
      "image/png": "[encoded data removed]",
      "text/plain": [
       "<matplotlib.figure.Figure at 0x1cc70779898>"
      ]
     },
     "metadata": {},
     "output_type": "display_data"
    }
   ],
   "source": [
    "# Another slightly nonsensical plot...\n",
    "df.boxplot(column='Latitude', by='Region', rot=80)\n",
    "plt.plot()"
   ]
  },
  {
   "cell_type": "markdown",
   "metadata": {},
   "source": [
    "### Tidy Data"
   ]
  },
  {
   "cell_type": "markdown",
   "metadata": {},
   "source": [
    "Named for Hadley Wickham's paper (https://vita.had.co.nz/papers/tidy-data.pdf), the idea that columns represent observed variables, rows represent individual observations, and observational units are grouped in tables. That means separate columns that each represent different cases of a variable can be 'melted' into a single column."
   ]
  },
  {
   "cell_type": "code",
   "execution_count": 3,
   "metadata": {
    "collapsed": true
   },
   "outputs": [],
   "source": [
    "# Me again\n",
    "df = pd.read_csv('data/volc_holocene.csv', header=0, index_col='Number')"
   ]
  },
  {
   "cell_type": "markdown",
   "metadata": {},
   "source": [
    "The melted version is better for analysis"
   ]
  },
  {
   "cell_type": "code",
   "execution_count": 4,
   "metadata": {},
   "outputs": [
    {
     "data": {
      "text/html": [
       "<div>\n",
       "<style>\n",
       "    .dataframe thead tr:only-child th {\n",
       "        text-align: right;\n",
       "    }\n",
       "\n",
       "    .dataframe thead th {\n",
       "        text-align: left;\n",
       "    }\n",
       "\n",
       "    .dataframe tbody tr th {\n",
       "        vertical-align: top;\n",
       "    }\n",
       "</style>\n",
       "<table border=\"1\" class=\"dataframe\">\n",
       "  <thead>\n",
       "    <tr style=\"text-align: right;\">\n",
       "      <th></th>\n",
       "      <th>Name</th>\n",
       "      <th>Country</th>\n",
       "      <th>Region</th>\n",
       "      <th>Datum</th>\n",
       "      <th>Value</th>\n",
       "    </tr>\n",
       "  </thead>\n",
       "  <tbody>\n",
       "    <tr>\n",
       "      <th>0</th>\n",
       "      <td>West Eifel Volcanic Field</td>\n",
       "      <td>Germany</td>\n",
       "      <td>Mediterranean and Western Asia</td>\n",
       "      <td>Type</td>\n",
       "      <td>Maar(s)</td>\n",
       "    </tr>\n",
       "    <tr>\n",
       "      <th>1</th>\n",
       "      <td>Chaine des Puys</td>\n",
       "      <td>France</td>\n",
       "      <td>Mediterranean and Western Asia</td>\n",
       "      <td>Type</td>\n",
       "      <td>Lava dome(s)</td>\n",
       "    </tr>\n",
       "    <tr>\n",
       "      <th>2</th>\n",
       "      <td>Olot Volcanic Field</td>\n",
       "      <td>Spain</td>\n",
       "      <td>Mediterranean and Western Asia</td>\n",
       "      <td>Type</td>\n",
       "      <td>Pyroclastic cone(s)</td>\n",
       "    </tr>\n",
       "    <tr>\n",
       "      <th>3</th>\n",
       "      <td>Calatrava Volcanic Field</td>\n",
       "      <td>Spain</td>\n",
       "      <td>Mediterranean and Western Asia</td>\n",
       "      <td>Type</td>\n",
       "      <td>Pyroclastic cone(s)</td>\n",
       "    </tr>\n",
       "    <tr>\n",
       "      <th>4</th>\n",
       "      <td>Larderello</td>\n",
       "      <td>Italy</td>\n",
       "      <td>Mediterranean and Western Asia</td>\n",
       "      <td>Type</td>\n",
       "      <td>Explosion crater(s)</td>\n",
       "    </tr>\n",
       "  </tbody>\n",
       "</table>\n",
       "</div>"
      ],
      "text/plain": [
       "                        Name  Country                          Region Datum  \\\n",
       "0  West Eifel Volcanic Field  Germany  Mediterranean and Western Asia  Type   \n",
       "1            Chaine des Puys   France  Mediterranean and Western Asia  Type   \n",
       "2        Olot Volcanic Field    Spain  Mediterranean and Western Asia  Type   \n",
       "3   Calatrava Volcanic Field    Spain  Mediterranean and Western Asia  Type   \n",
       "4                 Larderello    Italy  Mediterranean and Western Asia  Type   \n",
       "\n",
       "                 Value  \n",
       "0              Maar(s)  \n",
       "1         Lava dome(s)  \n",
       "2  Pyroclastic cone(s)  \n",
       "3  Pyroclastic cone(s)  \n",
       "4  Explosion crater(s)  "
      ]
     },
     "execution_count": 4,
     "metadata": {},
     "output_type": "execute_result"
    }
   ],
   "source": [
    "melted = df.melt(id_vars=['Name', 'Country', 'Region'],    # Identify columns to leave as columns on each row\n",
    "                                                           # The entries for each of the other columns in each row will be\n",
    "                                                           #   made rows, with a column for the old column name and a column\n",
    "                                                           #   for that entry's value\n",
    "                 var_name='Datum',\n",
    "                 value_name='Value')\n",
    "melted.head()"
   ]
  },
  {
   "cell_type": "markdown",
   "metadata": {},
   "source": [
    "The pivoted form is better for reporting"
   ]
  },
  {
   "cell_type": "code",
   "execution_count": 5,
   "metadata": {},
   "outputs": [
    {
     "data": {
      "text/html": [
       "<div>\n",
       "<style>\n",
       "    .dataframe thead tr:only-child th {\n",
       "        text-align: right;\n",
       "    }\n",
       "\n",
       "    .dataframe thead th {\n",
       "        text-align: left;\n",
       "    }\n",
       "\n",
       "    .dataframe tbody tr th {\n",
       "        vertical-align: top;\n",
       "    }\n",
       "</style>\n",
       "<table border=\"1\" class=\"dataframe\">\n",
       "  <thead>\n",
       "    <tr style=\"text-align: right;\">\n",
       "      <th></th>\n",
       "      <th></th>\n",
       "      <th>Datum</th>\n",
       "      <th>Activity Evidence</th>\n",
       "      <th>Dominant Rock Type</th>\n",
       "      <th>Elevation (Meters)</th>\n",
       "      <th>Last Known Eruption</th>\n",
       "      <th>Latitude</th>\n",
       "      <th>Longitude</th>\n",
       "      <th>Tectonic Setting</th>\n",
       "      <th>Type</th>\n",
       "    </tr>\n",
       "    <tr>\n",
       "      <th>Name</th>\n",
       "      <th>Country</th>\n",
       "      <th>Region</th>\n",
       "      <th></th>\n",
       "      <th></th>\n",
       "      <th></th>\n",
       "      <th></th>\n",
       "      <th></th>\n",
       "      <th></th>\n",
       "      <th></th>\n",
       "      <th></th>\n",
       "    </tr>\n",
       "  </thead>\n",
       "  <tbody>\n",
       "    <tr>\n",
       "      <th>Abu</th>\n",
       "      <th>Japan</th>\n",
       "      <th>Japan, Taiwan, Marianas</th>\n",
       "      <td>Eruption Dated</td>\n",
       "      <td>Andesite / Basaltic Andesite</td>\n",
       "      <td>641</td>\n",
       "      <td>6850 BCE</td>\n",
       "      <td>34.5</td>\n",
       "      <td>131.6</td>\n",
       "      <td>Subduction Zone / Continental Crust (&gt;25 km)</td>\n",
       "      <td>Shield(s)</td>\n",
       "    </tr>\n",
       "    <tr>\n",
       "      <th>Acamarachi</th>\n",
       "      <th>Chile</th>\n",
       "      <th>South America</th>\n",
       "      <td>Evidence Credible</td>\n",
       "      <td>Dacite</td>\n",
       "      <td>6046</td>\n",
       "      <td>Unknown</td>\n",
       "      <td>-23.3</td>\n",
       "      <td>-67.62</td>\n",
       "      <td>Subduction Zone / Continental Crust (&gt;25 km)</td>\n",
       "      <td>Stratovolcano</td>\n",
       "    </tr>\n",
       "    <tr>\n",
       "      <th>Acatenango</th>\n",
       "      <th>Guatemala</th>\n",
       "      <th>México and Central America</th>\n",
       "      <td>Eruption Observed</td>\n",
       "      <td>Andesite / Basaltic Andesite</td>\n",
       "      <td>3976</td>\n",
       "      <td>1972 CE</td>\n",
       "      <td>14.501</td>\n",
       "      <td>-90.876</td>\n",
       "      <td>Subduction Zone / Continental Crust (&gt;25 km)</td>\n",
       "      <td>Stratovolcano(es)</td>\n",
       "    </tr>\n",
       "    <tr>\n",
       "      <th>Acigol-Nevsehir</th>\n",
       "      <th>Turkey</th>\n",
       "      <th>Mediterranean and Western Asia</th>\n",
       "      <td>Eruption Dated</td>\n",
       "      <td>Rhyolite</td>\n",
       "      <td>1683</td>\n",
       "      <td>2080 BCE</td>\n",
       "      <td>38.537</td>\n",
       "      <td>34.621</td>\n",
       "      <td>Intraplate / Continental Crust (&gt;25 km)</td>\n",
       "      <td>Caldera</td>\n",
       "    </tr>\n",
       "    <tr>\n",
       "      <th>Adagdak</th>\n",
       "      <th>United States</th>\n",
       "      <th>Alaska</th>\n",
       "      <td>Unrest / Pleistocene</td>\n",
       "      <td>NaN</td>\n",
       "      <td>610</td>\n",
       "      <td>Unknown</td>\n",
       "      <td>51.988</td>\n",
       "      <td>-176.592</td>\n",
       "      <td>Subduction Zone / Intermediate Crust (15-25 km)</td>\n",
       "      <td>Stratovolcano</td>\n",
       "    </tr>\n",
       "  </tbody>\n",
       "</table>\n",
       "</div>"
      ],
      "text/plain": [
       "Datum                                                            Activity Evidence  \\\n",
       "Name            Country       Region                                                 \n",
       "Abu             Japan         Japan, Taiwan, Marianas               Eruption Dated   \n",
       "Acamarachi      Chile         South America                      Evidence Credible   \n",
       "Acatenango      Guatemala     México and Central America         Eruption Observed   \n",
       "Acigol-Nevsehir Turkey        Mediterranean and Western Asia        Eruption Dated   \n",
       "Adagdak         United States Alaska                          Unrest / Pleistocene   \n",
       "\n",
       "Datum                                                                   Dominant Rock Type  \\\n",
       "Name            Country       Region                                                         \n",
       "Abu             Japan         Japan, Taiwan, Marianas         Andesite / Basaltic Andesite   \n",
       "Acamarachi      Chile         South America                                         Dacite   \n",
       "Acatenango      Guatemala     México and Central America      Andesite / Basaltic Andesite   \n",
       "Acigol-Nevsehir Turkey        Mediterranean and Western Asia                      Rhyolite   \n",
       "Adagdak         United States Alaska                                                   NaN   \n",
       "\n",
       "Datum                                                        Elevation (Meters)  \\\n",
       "Name            Country       Region                                              \n",
       "Abu             Japan         Japan, Taiwan, Marianas                       641   \n",
       "Acamarachi      Chile         South America                                6046   \n",
       "Acatenango      Guatemala     México and Central America                   3976   \n",
       "Acigol-Nevsehir Turkey        Mediterranean and Western Asia               1683   \n",
       "Adagdak         United States Alaska                                        610   \n",
       "\n",
       "Datum                                                        Last Known Eruption  \\\n",
       "Name            Country       Region                                               \n",
       "Abu             Japan         Japan, Taiwan, Marianas                   6850 BCE   \n",
       "Acamarachi      Chile         South America                              Unknown   \n",
       "Acatenango      Guatemala     México and Central America                 1972 CE   \n",
       "Acigol-Nevsehir Turkey        Mediterranean and Western Asia            2080 BCE   \n",
       "Adagdak         United States Alaska                                     Unknown   \n",
       "\n",
       "Datum                                                        Latitude  \\\n",
       "Name            Country       Region                                    \n",
       "Abu             Japan         Japan, Taiwan, Marianas            34.5   \n",
       "Acamarachi      Chile         South America                     -23.3   \n",
       "Acatenango      Guatemala     México and Central America       14.501   \n",
       "Acigol-Nevsehir Turkey        Mediterranean and Western Asia   38.537   \n",
       "Adagdak         United States Alaska                           51.988   \n",
       "\n",
       "Datum                                                        Longitude  \\\n",
       "Name            Country       Region                                     \n",
       "Abu             Japan         Japan, Taiwan, Marianas            131.6   \n",
       "Acamarachi      Chile         South America                     -67.62   \n",
       "Acatenango      Guatemala     México and Central America       -90.876   \n",
       "Acigol-Nevsehir Turkey        Mediterranean and Western Asia    34.621   \n",
       "Adagdak         United States Alaska                          -176.592   \n",
       "\n",
       "Datum                                                                                        Tectonic Setting  \\\n",
       "Name            Country       Region                                                                            \n",
       "Abu             Japan         Japan, Taiwan, Marianas            Subduction Zone / Continental Crust (>25 km)   \n",
       "Acamarachi      Chile         South America                      Subduction Zone / Continental Crust (>25 km)   \n",
       "Acatenango      Guatemala     México and Central America         Subduction Zone / Continental Crust (>25 km)   \n",
       "Acigol-Nevsehir Turkey        Mediterranean and Western Asia          Intraplate / Continental Crust (>25 km)   \n",
       "Adagdak         United States Alaska                          Subduction Zone / Intermediate Crust (15-25 km)   \n",
       "\n",
       "Datum                                                                      Type  \n",
       "Name            Country       Region                                             \n",
       "Abu             Japan         Japan, Taiwan, Marianas                 Shield(s)  \n",
       "Acamarachi      Chile         South America                       Stratovolcano  \n",
       "Acatenango      Guatemala     México and Central America      Stratovolcano(es)  \n",
       "Acigol-Nevsehir Turkey        Mediterranean and Western Asia            Caldera  \n",
       "Adagdak         United States Alaska                              Stratovolcano  "
      ]
     },
     "execution_count": 5,
     "metadata": {},
     "output_type": "execute_result"
    }
   ],
   "source": [
    "pivoted = melted.pivot_table(index=['Name', 'Country', 'Region'],     # Which columns don't get unstacked\n",
    "                             columns='Datum',                         # Which column does get unstacked\n",
    "                             values='Value',                          # Which of the other columns is used to fill in the values\n",
    "                             aggfunc='first')                         # How to resolve multiple entries for an index entry\n",
    "                                                                      # This one works with string data.\n",
    "pivoted.head()"
   ]
  },
  {
   "cell_type": "markdown",
   "metadata": {},
   "source": [
    "Pivoting with multiple indices causes a multi-level index. If you'd rather have a straight numeric index, you can use df.reset_index(), then maybe df.set_index()"
   ]
  },
  {
   "cell_type": "code",
   "execution_count": 16,
   "metadata": {},
   "outputs": [
    {
     "name": "stdout",
     "output_type": "stream",
     "text": [
      "MultiIndex(levels=[['Abu', 'Acamarachi', 'Acatenango', 'Acigol-Nevsehir', 'Adagdak', 'Adams', 'Adams Seamount', 'Adatarayama', 'Adwa', 'Afdera', 'Agrigan', 'Agua', 'Agua de Pau', 'Aguajito, El', 'Aguilera', 'Agung', 'Ahyi', 'Aira', 'Akademia Nauk', 'Akagisan', 'Akan', 'Akandanayama', 'Akhtang', 'Akita-Komagatake', 'Akita-Yakeyama', 'Akuseki-jima', 'Akutan', 'Alaid', 'Alamagan', 'Alayta', 'Alcedo', 'Ale Bagu', 'Alid', 'Aliso', 'Alligator Lake', 'Almolonga', 'Alney-Chashakondzha', 'Alngey', 'Alu-Dalafilla', 'Alutu', 'Amak', 'Amasing', 'Ambalatungan Group', 'Ambang', 'Ambitle', 'Ambre-Bobaomby', 'Ambrym', 'Amiata', 'Amorong', 'Amsterdam Island', 'Amukta', 'Anatahan', 'Anaun', 'Andahua-Orcopampa', 'Andrus', 'Aneityum', 'Aniakchak', 'Ankaizina Field', 'Ankaratra Field', 'Antillanca Group', 'Antisana', 'Antofagasta Volcanic Field', 'Antuco', 'Aoba', 'Aogashima', 'Apagado', 'Apaneca Range', 'Apastepeque Field', 'Apo', 'Apoyeque', 'Aracar', 'Aragats', 'Aramuaca, Laguna', 'Ararat', 'Arayat', 'Ardoukoba', 'Arenal', 'Arenales', 'Arhab, Harra of', 'Arjuno-Welirang', 'Arshan', 'Asacha', 'Asamayama', 'Asavyo', 'Ascension', 'Askja', 'Asosan', 'Assab Volcanic Field', 'Asuncion', 'Ata', 'Atacazo', 'Atakor Volcanic Field', 'Atitlan', 'Atka', 'Atlin Volcanic Field', 'Atlixcos, Los', 'Atuel, Caldera del', 'Aucanquilcha', 'Auckland Field', 'Augustine', 'Auquihuato, Cerro', 'Avachinsky', 'Awu', 'Axial Seamount', 'Ayelu', 'Azas Plateau', 'Azufral', 'Azufre, Cerro del', 'Azufres, Los', 'Azul, Cerro', 'Azul, Volcan', 'Azumayama', 'Babuyan Claro', 'Bachelor', 'Bagana', 'Bakening', 'Baker', 'Bal Haf, Harra of', 'Balatukan', 'Balbi', 'Baluan', 'Baluran', 'Balut', 'Bam', 'Bamus', 'Banahaw', 'Banda Api', 'Bandaisan', 'Banua Wuhu', 'Barcena', 'Bardarbunga', 'Barkhatnaya Sopka', 'Barren Island', 'Barrier, The', 'Baru', 'Barva', 'Bas Dong Nai', 'Batur', 'Bayo Gorbea, Cerro', 'Bayuda Volcanic Field', 'Bazman', 'Behm Canal-Rudyerd Bay', 'Belenkaya', 'Belirang-Beriti', 'Belknap', 'Bely', 'Berlin', 'Beru', 'Berutarubesan [Berutarube]', 'Besar', 'Bezymianny', 'Bibinoi', 'Bilate River Field', 'Biliran', 'Billy Mitchell', 'Bir Borhut', 'Birk, Harrat al', 'Bishoftu Volcanic Field', 'Biu Plateau', 'Black Butte Crater Lava Field', 'Black Peak', 'Black Rock Desert', 'Blanca, Laguna', 'Blancas, Lomas', 'Blanco, Cerro', 'Bliznets', 'Bliznetsy', 'Blue Lake Crater', 'Blup Blup', 'Bobrof', 'Bogoria', 'Bogoslof', 'Boisa', 'Bola', 'Bolshe-Bannaya', 'Bolshoi Payalpan', 'Bolshoi Semiachik', 'Bolshoi-Kekuknaysky', 'Bombalai', 'Boomerang Seamount', 'Bora Ale', 'Bora-Bericcio', 'Borawli', 'Boset-Bericha', 'Bouillante Chain', 'Bouvet', 'Brava', 'Bravo, Cerro', 'Brennisteinsfjoll', 'Bridge River Cones', 'Bridgeman Island', 'Bristol Island', 'Brothers', 'Buckle Island', 'Bufumbira', 'Buldir', 'Bulusan', 'Bunyaruguru', 'Burney, Monte', 'Bus-Obo', 'Butajiri-Silti Field', 'Buyan-Bratan', 'Buzzard Creek', 'Cabalían', 'Caburgua-Huelemolle', 'Cagua', 'Caichinque', 'Calabozos', 'Calatrava Volcanic Field', 'Calbuco', 'Callaqui', 'Cameroon', 'Camiguin', 'Camiguin de Babuyanes', 'Campi Flegrei', 'Campi Flegrei Mar Sicilia', 'Candlemas Island', 'Carlisle', 'Carrizozo', 'Carrán-Los Venados', 'Casiri, Nevados', 'Cay', 'Cayambe', 'Cayley Volcanic Field', 'Cayutue-La Vigueria', 'Ceboruco', 'Cendres, Ile des', 'Central Island', 'Cereme', 'Ch'uga-ryong', 'Chacana', 'Chachadake [Tiatia]', 'Chachani, Nevado', 'Chachimbiro', 'Chagulak', 'Chaine des Puys', 'Chaiten', 'Changbaishan', 'Cherny', 'Cherpuk Group', 'Chichinautzin', 'Chichon, El', 'Chiginagak', 'Chikurachki', 'Chiles-Cerro Negro', 'Chiliques', 'Chillan, Nevados de', 'Chimborazo', 'Chinameca', 'Chingo', 'Chiquimula Volcanic Field', 'Chiracha', 'Chirinkotan', 'Chirippusan [Chirip]', 'Chirpoi', 'Chokaisan', 'Churchill', 'Chyulu Hills', 'Ciguatepe, Cerro el', 'Cinnamon Butte', 'Cinotepeque, Cerro', 'Clark', 'Clear Lake', 'Cleft Segment', 'Cleveland', 'CoAxial Segment', 'Coatepeque Caldera', 'Cobb Segment', 'Cochons, Ile aux', 'Cofre de Perote', 'Colachi', 'Coleman Seamount', 'Colima', 'Colli Alban', 'Colo', 'Comondu-La Purisima', 'Concepcion', 'Condor, El', 'Copahue', 'Copiapo', 'Corbetti Caldera', 'Corcovado', 'Cordon de Puntas Negras', 'Cordon del Azufre', 'Coronado', 'Coropuna', 'Corvo', 'Cosiguina', 'Coso Volcanic Field', 'Cotopaxi', 'Crater Basalt Volcanic Field', 'Crater Lake', 'Craters of the Moon', 'Crow Lagoon', 'Cu-Lao Re Group', 'Cuernos de Negros', 'Cuicocha', 'Cuilapa-Barbarena', 'Cumbal', 'Cumbres,  Las', 'Curacoa', 'Curtis Island', 'Dabbahu', 'Dabbayra', 'Daikoku', 'Dakataua', 'Dallol', 'Dama Ali', 'Damavand', 'Dana', 'Dar-Alages', 'Dariganga Volcanic Field', 'Darwin', 'Daun, Bukit', 'Davidof', 'Davis Lake', 'Dawson Strait Group', 'Deception Island', 'Dempo', 'Denison', 'Descabezado Grande', 'Devils Garden', 'Dhamar, Harras of', 'Diables, Morne aux', 'Diablotins, Morne', 'Diamond Craters', 'Didicas', 'Dieng Volcanic Complex', 'Diky Greben', 'Dofan', 'Doma Peaks', 'Domuyo', 'Don Joao de Castro Bank', 'Dona Juana', 'Dotsero', 'Douglas', 'Doyo Seamount', 'Dubbi', 'Dugong', 'Dukono', 'Duncan Canal', 'Durango Volcanic Field', 'Dutton', 'Dzenzursky', 'East Blanco Depression', 'East Diamante', 'East Gakkel Ridge at 85°E', 'East Zway', 'Easter Island', 'Eastern Gemini Seamount', 'Ebeko', 'Ebulobo', 'Eburru, Ol Doinyo', 'Ecuador', 'Edgecumbe', 'Edziza', 'Eggella', 'Egon', 'Ekarma', 'Elbrus', 'Elmenteita Badlands', 'Elovsky', 'Emmons Lake', 'Emuruangogolak', 'Endeavour Segment', 'Epi', 'Erciyes Dagi', 'Erebus', 'Erta Ale', 'Esan', 'Escanaba Segment', 'Escondido, El', 'Escorial', 'Esjufjoll', 'Esmeralda Bank', 'Est, Ile de l'', 'Esteli', 'Etna', 'Etorofu-Atosanupuri [Atosanupuri]', 'Etorofu-Yakeyama [Grozny Group]', 'Eyjafjallajokull', 'Falcon Island', 'Falso Azufre', 'Farallon de Pajaros', 'Fayal', 'Fedotych', 'Fentale', 'Fernandina', 'Fisher', 'Flores', 'Fogo', 'Fonualei', 'Forecast Seamount', 'Fort Portal', 'Fort Selkirk', 'Fournaise, Piton de la', 'Fourpeaked', 'Fremrinamar', 'Frosty', 'Fuego', 'Fueguino', 'Fuerteventura', 'Fujisan', 'Fukue', 'Fukujin', 'Fukutoku-Oka-no-Ba', 'Furnas', 'Fuss Peak', 'Gabillema', 'Gada Ale', 'Galapagos Rift', 'Galeras', 'Gallego', 'Galunggung', 'Gamalama', 'Gamchen', 'Gamkonora', 'Gareloi', 'Garibaldi', 'Garibaldi Lake', 'Garove', 'Garua Harbour', 'Gaua', 'Gedamsa', 'Gede-Pangrango', 'Genovesa', 'Geodesistoy', 'Geureudong', 'Geysir', 'Ghegam Ridge', 'Giggenbach', 'Glacier Peak', 'Gloria, La', 'Golaya', 'Golden Trout Creek', 'Gollu Dag', 'Goodenough', 'Gorely', 'Gorny Institute', 'Graciosa', 'Gran Canaria', 'Granada', 'Great Sitkin', 'Grensdalur', 'Griggs', 'Grille, La', 'Grimsnes', 'Grimsvotn', 'Groppo', 'Guadalupe', 'Guagua Pichincha', 'Guallatiri', 'Guayaques', 'Guazapa', 'Gufa', 'Guguan', 'Guntur', 'Gunungapi Wetar', 'Hachijojima', 'Hachimantai', 'Hainan Dao', 'Hakkodasan', 'Hakoneyama', 'Hakusan', 'Haleakala', 'Halla', 'Hanish', 'Hankow Reef', 'Hargy', 'Harrat Ash Shamah', 'Harunasan', 'Hasan Dagi', 'Haut Dong Nai', 'Havre Seamount', 'Hayes', 'Haylan, Jabal', 'Hayli Gubbi', 'Healy', 'Heard', 'Heart Peaks', 'Hekla', 'Helgrindur', 'Hell's Half Acre', 'Hengill', 'Herbert', 'Hertali', 'Hierro', 'Hijiori', 'Hiri', 'Hiuchigatake', 'Hobicha Caldera', 'Hodson', 'Hofsjokull', 'Hokkaido-Komagatake', 'Hollister Ridge', 'Homa Mountain', 'Home Reef', 'Honggeertu', 'Hood', 'Hoodoo Mountain', 'Hornopiren', 'Hrómundartindur', 'Hualalai', 'Huambo', 'Huanquihue Group', 'Huaynaputina', 'Hudson Mountains', 'Hudson, Cerro', 'Huequi', 'Huila, Nevado del', 'Hulubelu', 'Humeros, Los', 'Hunga Tonga-Hunga Ha'apai', 'Hunter Island', 'Hutapanjang', 'Hydrographers Range', 'Iamalele', 'Ibu', 'Ichinsky', 'Iettunup', 'Igwisi Hills', 'Ijen', 'Iktunup', 'Iliamna', 'Iliboleng', 'Iliinsky', 'Ilikedeka', 'Ililabalekan', 'Ilimuda', 'Iliwerung', 'Illiniza', 'Ilopango', 'Imbabura', 'Imuruk Lake', 'In Ezzane Volcanic Field', 'Incahuasi, Nevado de', 'Indian Heaven', 'Infiernillo', 'Ingakslugwat Hills', 'Inielika', 'Inierie', 'Inyo Craters', 'Io-Torishima', 'Ioto', 'Ipala', 'Iraya', 'Irazu', 'Iriga', 'Irruputuncu', 'Isabel, Isla', 'Isanotski', 'Isarog', 'Ischia', 'Iskut-Unuk River Cones', 'Isluga', 'Itasy Volcanic Field', 'Ithnayn, Harrat', 'Ivao Group', 'Iwakisan', 'Iwatesan', 'Ixtepeque', 'Iya', 'Iyang-Argapura', 'Izalco', 'Iztaccihuatl', 'Izu-Oshima', 'Izu-Tobu', 'Izu-Torishima', 'Jackson Segment', 'Jailolo', 'Jalua', 'James Ross Island', 'Jan Mayen', 'Jaraguay Volcanic Field', 'Jatun Mundo Quri Warani', 'Jayu Khota, Laguna', 'Jefferson', 'Jingbo', 'Jocotitlan', 'Jolo', 'Jom-Bolok', 'Jordan Craters', 'Jumaytepeque', 'Kaba', 'Kadovar', 'Kagamil', 'Kaguyak', 'Kaikata Seamount', 'Kaikohe-Bay of Islands', 'Kaileney', 'Kaitoku Seamount', 'Kalatungan', 'Kambalny', 'Kamen', 'Kamojang, Kawah', 'Kana Keoki', 'Kanaga', 'Kanlaon', 'Kao', 'Karaca Dag', 'Karang', 'Karangetang', 'Karapinar Field', 'Karisimbi', 'Karkar', 'Karpinsky Group', 'Karthala', 'Karymsky', 'Kasatochi', 'Kasuga 1', 'Kasuga 2', 'Katla', 'Katmai', 'Katunga', 'Katwe-Kikorongo', 'Kavachi', 'Kawi-Butak', 'Kazbek', 'Kebeney', 'Kekurny', 'Kelimutu', 'Kell', 'Keluo Group', 'Kelut', 'Kembar', 'Kendang', 'Kerguelen Islands', 'Kerinci', 'Ketoi', 'Khangar', 'Khanuy Gol', 'Kharimkotan', 'Khaybar, Harrat', 'Khodutka', 'Kialagvik', 'Kick 'em Jenny', 'Kikai', 'Kikhpinych', 'Kilauea', 'Kilimanjaro', 'Kinenin', 'Kirishimayama', 'Kishb, Harrat', 'Kiska', 'Kita-Bayonnaise', 'Kita-Fukutokutai', 'Kita-Ioto', 'Kizimen', 'Klabat', 'Klyuchevskoy', 'Kogaja-jima', 'Kolbeinsey Ridge', 'Kolokol Group', 'Komarov', 'Kone', 'Koniuji', 'Koranga', 'Korath Range', 'Koro', 'Korosi', 'Korovin', 'Koryaksky', 'Kos', 'Koshelev', 'Kostakan', 'Koussi, Emi', 'Kozushima', 'Kozyrevsky', 'Krafla', 'Krainy', 'Krakatau', 'Krasheninnikov', 'Kronotsky', 'Krummel-Garbuna-Welcker', 'Krysuvik', 'Ksudach', 'Kuchinoerabujima', 'Kuchinoshima', 'Kueishantao', 'Kuh-e Nader', 'Kujusan', 'Kukak', 'Kula', 'Kulkev', 'Kunlun Volcanic Group', 'Kuntomintar', 'Kunyit', 'Kupreanof', 'Kurikomayama', 'Kurile Lake', 'Kurose Hole', 'Kurub', 'Kusatsu-Shiranesan', 'Kussharo', 'Kuttara', 'Kutum Volcanic Field', 'Kuwae', 'Kverkfjoll', 'Kyatwa', 'Kyejo', 'La Palma', 'Labo', 'Laguna Caldera', 'Lajas, Las', 'Lamington', 'Lamongan', 'Langila', 'Langjokull', 'Lanin', 'Lanzarote', 'Larderello', 'Lascar', 'Lassen Volcanic Center', 'Lastarria', 'Late', 'Latukan', 'Lautaro', 'Lavic Lake', 'Lawu', 'Leizhou Bandao', 'Lengai, Ol Doinyo', 'Leonard Range', 'Leroboleng', 'Leskov Island', 'Leutongey', 'Level Mountain', 'Lewotobi', 'Lewotolo', 'Liado Hayk', 'Liamuiga', 'Licancabur', 'Licto', 'Lihir', 'Lipari', 'Little Sitkin', 'Ljosufjoll', 'Llaima', 'Llullaillaco', 'Lobster', 'Loihi', 'Lokon-Empung', 'Lolo', 'Lolobau', 'Loloru', 'Long Island', 'Long Valley', 'Longavi, Nevado de', 'Longgang Group', 'Longonot', 'Lonquimay', 'Lopevi', 'Lower Chindwin', 'Lubukraya', 'Lumut Balai, Bukit', 'Lunayyir, Harrat', 'Lurus', 'Ma Alalta', 'Maca', 'Macauley', 'Macdonald', 'Machin', 'Madeira', 'Madilogo', 'Mageik', 'Mahagnao', 'Mahawu', 'Maipo', 'Makaturing', 'Makian', 'Makushin', 'Malang Plain', 'Malinao', 'Malinche, La', 'Malindang', 'Malindig', 'Malintang', 'Mallahle', 'Maly Payalpan', 'Maly Semyachik', 'Mammoth Mountain', 'Managlase Plateau', 'Manam', 'Manda Gargori', 'Manda Hararo', 'Manda-Inakir', 'Mandalagan', 'Manuk', 'Manzaz Volcanic Field', 'Marapi', 'Marchena', 'Mare', 'Marha, Jabal el-', 'Mariana Back-Arc Segment at 15.5°N', 'Marion Island', 'Mariveles', 'Mariñaqui, Laguna', 'Markagunt Plateau', 'Maroa', 'Marra, Jebel', 'Marsabit', 'Marsili', 'Martin', 'Maruyama', 'Masaraga', 'Masaya', 'Mascota Volcanic Field', 'Mashkovtsev', 'Mashu', 'Mat Ala', 'Matthew Island', 'Matutum', 'Maug Islands', 'Maule, Laguna del', 'Mauna Kea', 'Mauna Loa', 'Mayon', 'Mayor Island', 'Mayotte Island', 'McDonald Islands', 'Meager', 'Medicine Lake', 'Mega Basalt Field', 'Megata', 'Mehetia', 'Meidob Volcanic Field', 'Melbourne', 'Melimoyu', 'Melville', 'Menengai', 'Mentolat', 'Merapi', 'Merbabu', 'Mere Lava', 'Meru', 'Methana', 'Metis Shoal', 'Meullin', 'Mezhdusopochny', 'Michinmahuida', 'Michoacan-Guanajuato', 'Midagahara', 'Middle Gobi', 'Mikurajima', 'Milbanke Sound Group', 'Milna', 'Milos', 'Minami Hiyoshi', 'Miniques', 'Miravalles', 'Misti, El', 'Miyakejima', 'Mocho-Choshuenco', 'Moekeshiwan [Lvinaya Past]', 'Moffett', 'Mojanda', 'Mokuyo Seamount', 'Mombacho', 'Momotombo', 'Monaco Bank', 'Mono Craters', 'Mono Lake Volcanic Field', 'Monowai', 'Montagu Island', 'Morning', 'Moti', 'Motlav', 'Moua Pihaa', 'Mousa Alli', 'Moutohora Island', 'Moyorodake [Medvezhia]', 'Moyuta', 'Muhavura', 'Mundua', 'Muria', 'Musuan', 'Mutnovsky', 'Mutsu-Hiuchi-dake', 'Myojinsho', 'Myokosan', 'NE Shepherd Islands', 'NW Eifuku', 'NW Rota-1', 'Nabro', 'Nabukelevu', 'Nakanoshima', 'Namarunu', 'Nantai', 'Naolinco Volcanic Field', 'Narage', 'Narcondum', 'Naruko', 'Nasudake', 'Natib', 'Nazko', 'Negra, Sierra', 'Negrillar, El', 'Negrillar, La', 'Negro, Cerro', 'Nejapa-Miraflores', 'Nemo Peak', 'Nemrut Dagi', 'Nevada, Sierra', 'Nevis Peak', 'Newberry', 'Newer Volcanics Province', 'Ngaoundere Plateau', 'Ngozi', 'Nicholson, Cerro', 'Nightingale Island', 'Nigorikawa', 'Niigata-Yakeyama', 'Niijima', 'Nikko', 'Nikko-Shiranesan', 'Nila', 'Niseko', 'Nishihitokappuyama [Bogatyr Ridge]', 'Nishinoshima', 'Nisyros', 'Niuafo'ou', 'Niuatahi', 'Nonda', 'Norikuradake', 'North Gorda Ridge Segment', 'North Island', 'North Vate', 'Northern EPR-Segment RO2', 'Northern EPR-Segment RO3', 'Nosy-Be', 'Novarupta', 'Numazawa', 'Nyambeni Hills', 'Nyamuragira', 'Nyiragongo', 'Nylgimelkin', 'O'a Caldera', 'Odamoisan [Tebenkov]', 'Ofu-Olosega', 'Ojos del Salado, Nevados', 'Okataina', 'Oki-Dogo', 'Okmok', 'Oku Volcanic Field', 'Ol Kokwe', 'Olca-Paruma', 'Olkaria', 'Olkoviy Volcanic Group', 'Ollague', 'Olot Volcanic Field', 'Omanago Group', 'Onikobe', 'Ontakesan', 'Opala', 'Oraefajokull', 'Orizaba, Pico de', 'Orosi', 'Oshima-Oshima', 'Osorezan', 'Osorno', 'Ostanets', 'Ostry', 'Otdelniy', 'Overo, Cerro', 'Ozernoy', 'Pacaya', 'Paco-Maniayao', 'Pagan', 'Paka', 'Palena Volcanic Group', 'Pali-Aike Volcanic Field', 'Palinuro', 'Palomo', 'Paluweh', 'Pampa Luxsar', 'Panarea', 'Panay', 'Pantelleria', 'Pantojo, Cerro', 'Papandayan', 'Papayo', 'Parinacota', 'Parker', 'Patah', 'Patoc', 'Patuha', 'Paulet', 'Pavlof', 'Pavlof Sister', 'Payun Matru', 'Peinado', 'Pelee', 'Penanggungan', 'Pendan', 'Penguin Island', 'Perbakti-Gagak', 'Petacas', 'Peter I Island', 'Peuet Sague', 'Pico', 'Pico Fracture Zone', 'Picos Volcanic System', 'Piip', 'Pilas, Las', 'Pinacate', 'Pinatubo', 'Pinta', 'Piratkovsky', 'Planchon-Peteroa', 'Plat Pays, Morne', 'Platanar', 'Pleiades, The', 'Plosky', 'Poas', 'Pocdol Mountains', 'Poco Leok', 'Pogranychny', 'Popa', 'Popocatepetl', 'Porak', 'Possession, Ile de la', 'Prestahnukur', 'Prevo Peak', 'Prieto, Cerro', 'Primavera, Sierra la', 'Prince Edward Island', 'Protector Seamounts', 'Pular', 'Pulau Weh', 'Pulosari', 'Pululagua', 'Puntiagudo-Cordon Cenizos', 'Purace', 'Purico Complex', 'Putana', 'Puyehue-Cordon Caulle', 'Puyuhuapi', 'Púlpito, Punta', 'Qal'eh Hasan Ali', 'Qualibou', 'Quetrupillan', 'Quezaltepeque', 'Quill, The', 'Quilotoa', 'Quimsachata', 'Rabaul', 'Ragang', 'Rahah, Harrat ar', 'Rahat, Harrat', 'Raikoke', 'Rainier', 'Rajabasa', 'Rakkibetsudake [Demon]', 'Ranakah', 'Ranau', 'Raoul Island', 'Rasshua', 'Raung', 'Rausudake', 'Raususan [Mendeleev]', 'Recheschnoi', 'Reclus', 'Redoubt', 'Reporoa', 'Resago, Volcan', 'Reventador', 'Reykjanes', 'Riendengan-Sempu', 'Rincon de la Vieja', 'Rinjani', 'Risco Plateado', 'Rishirizan', 'Ritter Island', 'Rittmann, Mount', 'Rocard', 'Romanche Fracture Zone', 'Romanovka', 'Romeral', 'Rota', 'Rotorua', 'Roundtop', 'Royal Society Range', 'Ruang', 'Ruapehu', 'Ruby', 'Rucharuyama [Golets-Tornyi Group]', 'Rudakov', 'Ruiz, Nevado del', 'Rumble II West', 'Rumble III', 'Rumble IV', 'Rumble V', 'Rungwe', 'Ruruidake [Smirnov]', 'Río Murta', 'Saba', 'Sabalan', 'Sabancaya', 'Sahand', 'Sairecabur', 'Sakar', 'Salak', 'Salton Buttes', 'Samsari Volcanic Center', 'San Borja Volcanic Field', 'San Carlos', 'San Cristobal', 'San Cristóbal', 'San Diego', 'San Francisco Volcanic Field', 'San Joaquin', 'San Jorge', 'San Jose', 'San Luis, Isla', 'San Martin', 'San Miguel', 'San Pablo Volcanic Field', 'San Pedro-Pellado', 'San Pedro-San Pablo', 'San Quintin Volcanic Field', 'San Salvador', 'San Vicente', 'Sanbesan', 'Sand Mountain Field', 'Sanganguey', 'Sangay', 'Sangeang Api', 'Sano, Wai', 'Santa Ana', 'Santa Cruz', 'Santa Fe', 'Santa Isabel', 'Santa Maria', 'Santiago', 'Santiago, Cerro', 'Santo Tomas', 'Santorini', 'Sara Sara', 'Sarigan', 'Sarik-Gajah', 'Sarychev Peak', 'Sashiusudake [Baransky]', 'Saunders', 'Savai'i', 'Savo', 'Sawad, Harra Es-', 'Schmidt', 'Seal Nunataks Group', 'Seamount X', 'Sedankinsky', 'Segererua Plateau', 'Seguam', 'Segula', 'Sekincau Belirang', 'Semeru', 'Semisopochnoi', 'Serdan-Oriental', 'Serua', 'Sessagara', 'Sete Cidades', 'Seulawah Agam', 'Severny', 'Sharat Kovakab', 'Shasta', 'Sheveluch', 'Shiga', 'Shikaribetsu Group', 'Shikotsu', 'Shiretoko-Iozan', 'Shirinki', 'Shishaldin', 'Shisheika', 'Shishel', 'Sibualbuali', 'Silali', 'Silay', 'Silverthrone', 'Simbo', 'Sinabung', 'Sinarka', 'Singkut', 'Singu Plateau', 'Singuil, Cerro', 'Siple', 'Sirung', 'Slamet', 'Snaefellsjokull', 'Snegovoy', 'Snezhniy', 'Snowy Mountain', 'Soche', 'Socompa', 'Socorro', 'Soda Lakes', 'Sodore', 'Sofugan', 'Sollipulli', 'Solo, El', 'Soputan', 'Sorikmarapi', 'Sork Ale', 'Sotara', 'Soufriere Guadeloupe', 'Soufrière Hills', 'Soufrière St. Vincent', 'South Island', 'South Sarigan Seamount', 'Southern EPR-Segment I', 'Southern EPR-Segment J', 'Southern EPR-Segment K', 'Southern Thule', 'Spectrum Range', 'Spokoiny', 'Spurr', 'Srednii', 'St. Andrew Strait', 'St. Catherine', 'St. Helens', 'St. Michael', 'St. Paul', 'St. Paul Island', 'Steamboat Springs', 'Steller', 'Stepovak Bay 2', 'Stepovak Bay 3', 'Stepovak Bay 4', 'Stromboli', 'Sturge Island', 'Submarine Volcano NNE of Iriomotejima', 'Suchitan', 'Suiyo Seamount', 'Sukaria Caldera', 'Sulu Range', 'Sumaco', 'Sumbing', 'Sumisujima', 'Sundoro', 'Suoh', 'Supply Reef', 'Suretamatai', 'Suswa', 'Suwanosejima', 'Ta'u', 'Taal', 'Taapaca', 'Taburete', 'Tacana', 'Tacora', 'Tafahi', 'Taftan', 'Tafu-Maka', 'Tahalra Volcanic Field', 'Tahual', 'Tair, Jebel at', 'Taisetsuzan', 'Tajumulco', 'Takaharayama', 'Takahe', 'Takawangha', 'Takuan Group', 'Talagabodas', 'Talakmau', 'Talang', 'Tambo Quemado', 'Tambora', 'Tampomas', 'Tana', 'Tanaga', 'Tandikat-Singgalang', 'Tanga', 'Tangaroa', 'Tangkoko-Duasudara', 'Tangkubanparahu', 'Tao-Rusyr Caldera', 'Tara, Batu', 'Tarakan', 'Taranaki [Egmont]', 'Taryatu-Chulutu', 'Tat Ali', 'Tata Sabaya', 'Tatun Group', 'Taunshits', 'Taupo', 'Taveuni', 'Tavui', 'Teahitia', 'Tecapa', 'Tecuamburro', 'Telica', 'Telomoyo', 'Telong, Bur ni', 'Tenchozan', 'Tenduruk Dagi', 'Tenerife', 'Tengchong', 'Tengger Caldera', 'Tenorio', 'Teon', 'Tepi', 'Terceira', 'Terpuk', 'Theistareykir', 'Three Sisters', 'Tianshan Volcanic Group', 'Ticsani', 'Tidore', 'Tigalalu', 'Tigre, El', 'Tigre, Isla el', 'Tilocalar', 'Tin Zaouatene Volcanic Field', 'Tinakula', 'Tindfjallajokull', 'Tinguiririca', 'Tipas', 'Titila', 'Tjornes Fracture Zone', 'Tlevak Strait-Suemez Is.', 'Toba', 'Tobaru', 'Todoko-Ranu', 'Todra Volcanic Field', 'Tofua', 'Toh, Tarso', 'Tokachidake', 'Tolbachik', 'Tolhuaca', 'Tolima, Nevado del', 'Toliman', 'Tolmachev Dol', 'Toluca, Nevado de', 'Tomariyama [Golovnin]', 'Tombel Graben', 'Tondano Caldera', 'Toney Mountain', 'Tongariro', 'Tore', 'Torfajokull', 'Toroeng Prong', 'Tortuga, Isla', 'Tosa Sucha', 'Toshima', 'Tousside, Tarso', 'Towada', 'Toya', 'Traitor's Head', 'Tralihue', 'Tres Virgenes', 'Tri Sestry', 'Trident', 'Trindade', 'Tristan da Cunha', 'Trois Pitons, Morne', 'Trolon', 'Tromen', 'Tronador', 'Tseax River Cone', 'Tshibinda', 'Tskhouk-Karckar', 'Tujle, Cerro', 'Tullu Moje', 'Tungnafellsjokull', 'Tungurahua', 'Tunkin Depression', 'Tupungatito', 'Turrialba', 'Tutuila', 'Tutupaca', 'Tuya Volcanic Field', 'Tuzgle', 'Tuzovsky', 'Ubehebe Craters', 'Ubinas', 'Udina', 'Udintsev Transform', 'Udokan Plateau', 'Ugashik-Peulik', 'Uinkaret Field', 'Uka', 'Ukinrek Maars', 'Uksichan', 'Ulawun', 'Uliaga', 'Ulreung', 'Umboi', 'Ungaran', 'Unnamed', 'Unzendake', 'Upolu', 'Uratman', 'Ushishur', 'Ushkovsky', 'Usulutan', 'Utila Island', 'Uturuncu', 'Uwayrid, Harrat', 'Uzon', 'Vailulu'u', 'Valle, El', 'Valles Caldera', 'Veer', 'Veniaminof', 'Verkhovoy', 'Vernadskii Ridge', 'Vestmannaeyjar', 'Vesuvius', 'Veteran', 'Victory', 'Viedma', 'Villarrica', 'Vilyuchik', 'Visoke', 'Visokiy', 'Vitim Plateau', 'Voon, Tarso', 'Voyampolsky', 'Vsevidof', 'Vulcano', 'Vulsini', 'Vysoky', 'Waesche', 'Waiowa', 'Wallis Islands', 'Wapi Lava Field', 'Washiba-Kumonotaira', 'Watt, Morne', 'Wayang-Windu', 'Wells Gray-Clearwater', 'West Crater', 'West Eifel Volcanic Field', 'West Mata', 'West Valley Segment', 'Westdahl', 'Whangarei', 'White Island', 'Wilis', 'Witori', 'Wolf', 'Wrangell', 'Wright', 'Wudalianchi', 'Wurlali', 'Xianjindao', 'Yakedake', 'Yali', 'Yangudi', 'Yantarni', 'Yanteles', 'Yar, Jabal', 'Yasur', 'Yate', 'Yavinsky', 'Yeguada, La', 'Yelia', 'Yellowstone', 'Yojoa, Lake', 'Yokoate-jima', 'Yokodake', 'Yonemaru-Sumiyoshiike', 'Yoteizan', 'Young Island', 'Yucamane', 'Yufu-Tsurumi', 'Yunaska', 'Zacate Grande, Isla', 'Zaozan', 'Zaozerny', 'Zapatera', 'Zavaritsky', 'Zavaritzki Caldera', 'Zavodovski', 'Zealandia Bank', 'Zheltovsky', 'Zhupanovsky', 'Zimina', 'Zitacuaro-Valle de Bravo', 'Zubair Group', 'Zukur', 'Zuni-Bandera'], ['Algeria', 'Algeria-Niger', 'Antarctica', 'Argentina', 'Armenia', 'Armenia-Azerbaijan', 'Australia', 'Bolivia', 'Brazil', 'Burma (Myanmar)', 'Cameroon', 'Canada', 'Cape Verde', 'Chad', 'Chile', 'Chile-Argentina', 'Chile-Bolivia', 'Chile-Peru', 'China', 'China-North Korea', 'Colombia', 'Colombia-Ecuador', 'Comoros', 'Costa Rica', 'DR Congo', 'DR Congo-Rwanda', 'Djibouti', 'Dominica', 'Ecuador', 'El Salvador', 'El Salvador-Guatemala', 'Equatorial Guinea', 'Eritrea', 'Eritrea-Djibouti', 'Ethiopia', 'Ethiopia-Djibouti', 'Ethiopia-Eritrea', 'Ethiopia-Eritrea-Djibouti', 'Ethiopia-Kenya', 'Fiji', 'France', 'Georgia', 'Germany', 'Greece', 'Grenada', 'Guatemala', 'Guatemala-El Salvador', 'Honduras', 'Iceland', 'India', 'Indonesia', 'Iran', 'Italy', 'Japan', 'Japan - administered by Russia', 'Kenya', 'Madagascar', 'Malaysia', 'Mali', 'Mexico', 'Mexico-Guatemala', 'Mongolia', 'Netherlands', 'New Zealand', 'Nicaragua', 'Niger', 'Nigeria', 'North Korea', 'North Korea-South Korea', 'Norway', 'Panama', 'Papua New Guinea', 'Peru', 'Philippines', 'Portugal', 'Russia', 'Saint Kitts and Nevis', 'Saint Lucia', 'Saint Vincent and the Grenadines', 'Samoa', 'Saudi Arabia', 'Solomon Islands', 'South Africa', 'South Korea', 'Spain', 'Sudan', 'Syria', 'Syria-Jordan-Saudi Arabia', 'Taiwan', 'Tanzania', 'Tonga', 'Turkey', 'Uganda', 'Uganda-Rwanda', 'Undersea Features', 'United Kingdom', 'United States', 'Vanuatu', 'Vietnam', 'Yemen'], ['Africa and Red Sea', 'Alaska', 'Antarctica', 'Atlantic Ocean', 'Canada and Western USA', 'Hawaii and Pacific Ocean', 'Iceland and Arctic Ocean', 'Indonesia', 'Japan, Taiwan, Marianas', 'Kamchatka and Mainland Asia', 'Kuril Islands', 'Mediterranean and Western Asia', 'Melanesia and Australia', 'Middle East and Indian Ocean', 'México and Central America', 'New Zealand to Fiji', 'Philippines and SE Asia', 'South America', 'West Indies']],\n",
      "           labels=[[0, 1, 2, 3, 4, 5, 6, 7, 8, 9, 10, 11, 12, 13, 14, 15, 16, 17, 18, 19, 20, 21, 22, 23, 24, 25, 26, 27, 28, 29, 30, 31, 32, 33, 34, 35, 36, 37, 38, 39, 40, 41, 42, 43, 44, 45, 46, 47, 48, 49, 50, 51, 52, 53, 54, 55, 56, 57, 58, 59, 60, 61, 62, 63, 64, 65, 66, 67, 68, 69, 70, 71, 72, 73, 74, 75, 76, 77, 78, 79, 80, 81, 82, 83, 84, 85, 86, 87, 88, 89, 90, 91, 92, 93, 94, 95, 96, 97, 98, 99, 100, 101, 102, 103, 104, 105, 106, 107, 108, 109, 109, 110, 111, 112, 113, 114, 115, 116, 117, 118, 119, 120, 121, 122, 123, 124, 125, 126, 127, 128, 129, 130, 131, 132, 133, 134, 135, 136, 137, 138, 139, 140, 141, 142, 143, 144, 145, 146, 147, 148, 149, 150, 151, 152, 153, 154, 155, 156, 157, 158, 159, 160, 161, 162, 163, 164, 165, 166, 167, 168, 169, 170, 171, 172, 173, 174, 175, 176, 177, 178, 179, 180, 181, 182, 183, 184, 185, 186, 187, 188, 189, 190, 191, 192, 193, 194, 195, 196, 197, 198, 199, 200, 201, 202, 203, 204, 205, 206, 207, 208, 209, 210, 211, 212, 213, 214, 215, 216, 217, 218, 219, 220, 221, 222, 223, 224, 225, 226, 227, 228, 229, 230, 231, 232, 233, 234, 235, 236, 237, 238, 239, 240, 241, 242, 243, 244, 245, 246, 247, 248, 249, 250, 251, 252, 253, 254, 255, 256, 257, 258, 259, 260, 261, 262, 263, 264, 265, 266, 267, 268, 269, 270, 271, 272, 273, 274, 275, 276, 277, 278, 279, 280, 281, 282, 283, 284, 285, 286, 287, 288, 289, 290, 291, 292, 293, 294, 295, 296, 297, 298, 299, 300, 301, 302, 303, 304, 305, 306, 307, 308, 309, 310, 311, 312, 313, 314, 315, 316, 317, 318, 319, 320, 321, 322, 323, 324, 325, 326, 327, 328, 329, 330, 331, 332, 333, 334, 335, 336, 337, 338, 339, 340, 341, 342, 343, 344, 345, 346, 347, 348, 349, 350, 351, 352, 353, 354, 355, 356, 357, 358, 359, 360, 361, 362, 363, 364, 365, 366, 367, 368, 369, 370, 371, 372, 373, 374, 375, 376, 377, 378, 379, 380, 381, 382, 383, 384, 385, 386, 387, 388, 389, 389, 390, 391, 392, 393, 394, 395, 396, 397, 398, 399, 400, 401, 402, 403, 404, 405, 406, 407, 408, 409, 410, 411, 412, 413, 414, 415, 416, 417, 418, 419, 420, 421, 422, 423, 424, 425, 426, 427, 428, 429, 430, 431, 432, 433, 434, 435, 436, 437, 438, 439, 440, 441, 442, 443, 444, 445, 446, 447, 448, 449, 450, 451, 452, 453, 454, 455, 456, 457, 458, 459, 460, 461, 462, 463, 464, 465, 466, 467, 468, 469, 470, 471, 472, 473, 474, 475, 476, 477, 478, 479, 480, 481, 482, 483, 484, 485, 486, 487, 488, 489, 490, 491, 492, 493, 494, 495, 496, 497, 498, 499, 500, 501, 502, 503, 504, 505, 506, 507, 508, 509, 510, 511, 512, 513, 514, 515, 516, 517, 518, 519, 520, 521, 522, 523, 524, 525, 526, 527, 528, 529, 530, 531, 532, 533, 534, 535, 536, 537, 538, 539, 540, 541, 542, 543, 544, 545, 546, 547, 548, 549, 550, 551, 552, 553, 554, 555, 556, 557, 558, 559, 560, 561, 562, 563, 564, 565, 566, 567, 568, 569, 570, 571, 572, 573, 574, 575, 576, 577, 578, 579, 580, 581, 582, 583, 584, 585, 586, 587, 588, 589, 590, 591, 592, 593, 594, 595, 596, 597, 598, 599, 600, 601, 602, 603, 604, 605, 606, 607, 608, 609, 610, 611, 612, 613, 614, 615, 616, 617, 618, 619, 620, 621, 622, 623, 624, 625, 626, 627, 628, 629, 630, 631, 632, 633, 634, 635, 636, 637, 638, 639, 640, 641, 642, 643, 644, 645, 646, 647, 648, 649, 650, 651, 652, 653, 654, 655, 656, 657, 658, 659, 660, 661, 662, 663, 664, 665, 666, 667, 668, 669, 670, 671, 672, 673, 674, 675, 676, 677, 678, 679, 680, 681, 682, 683, 684, 685, 686, 687, 688, 689, 690, 691, 692, 693, 694, 695, 696, 697, 698, 699, 700, 701, 702, 703, 704, 705, 706, 707, 708, 709, 710, 711, 712, 713, 714, 715, 716, 717, 718, 719, 720, 721, 722, 723, 724, 725, 726, 727, 728, 729, 730, 731, 732, 733, 734, 735, 736, 737, 738, 739, 740, 741, 742, 743, 744, 745, 746, 747, 748, 749, 750, 751, 752, 753, 754, 755, 756, 757, 758, 759, 760, 761, 762, 763, 764, 765, 766, 767, 768, 769, 770, 771, 772, 773, 774, 775, 776, 777, 778, 779, 780, 781, 782, 783, 784, 785, 786, 787, 788, 789, 790, 791, 792, 793, 794, 795, 796, 797, 798, 799, 800, 801, 802, 803, 804, 805, 806, 807, 808, 809, 810, 811, 812, 813, 814, 815, 816, 817, 818, 819, 820, 821, 822, 823, 824, 825, 826, 827, 828, 829, 830, 831, 832, 833, 834, 835, 836, 837, 838, 839, 840, 841, 842, 843, 844, 845, 846, 847, 848, 849, 850, 851, 852, 853, 854, 855, 856, 857, 858, 859, 860, 861, 862, 863, 864, 865, 866, 867, 868, 869, 870, 871, 872, 873, 874, 875, 876, 877, 878, 879, 880, 881, 882, 883, 884, 885, 886, 887, 888, 889, 890, 891, 892, 893, 894, 895, 896, 897, 898, 899, 900, 901, 902, 903, 904, 905, 906, 907, 908, 909, 910, 911, 912, 913, 914, 915, 916, 917, 918, 919, 920, 921, 922, 923, 924, 925, 926, 927, 928, 929, 930, 931, 932, 933, 934, 935, 936, 937, 938, 939, 940, 941, 942, 943, 944, 945, 946, 947, 948, 949, 950, 951, 952, 953, 954, 955, 956, 957, 958, 959, 960, 961, 962, 963, 964, 965, 966, 967, 968, 969, 970, 971, 972, 973, 974, 975, 976, 977, 978, 979, 980, 981, 982, 983, 984, 985, 986, 987, 988, 989, 990, 991, 992, 993, 994, 995, 996, 997, 998, 999, 1000, 1001, 1002, 1003, 1004, 1005, 1006, 1007, 1008, 1009, 1010, 1011, 1012, 1013, 1014, 1015, 1016, 1017, 1018, 1019, 1020, 1021, 1022, 1023, 1024, 1025, 1026, 1027, 1028, 1029, 1030, 1031, 1032, 1033, 1034, 1035, 1036, 1037, 1038, 1039, 1040, 1041, 1042, 1043, 1044, 1045, 1046, 1047, 1048, 1049, 1050, 1051, 1052, 1053, 1054, 1055, 1056, 1057, 1058, 1059, 1060, 1061, 1062, 1063, 1064, 1065, 1066, 1067, 1068, 1069, 1070, 1071, 1072, 1073, 1074, 1075, 1076, 1077, 1078, 1079, 1080, 1081, 1082, 1083, 1084, 1085, 1086, 1087, 1088, 1089, 1090, 1091, 1092, 1093, 1094, 1095, 1096, 1097, 1098, 1099, 1100, 1101, 1102, 1103, 1104, 1105, 1106, 1107, 1107, 1108, 1109, 1110, 1111, 1112, 1113, 1114, 1115, 1116, 1117, 1118, 1119, 1120, 1121, 1122, 1123, 1124, 1125, 1126, 1127, 1128, 1129, 1130, 1130, 1131, 1132, 1133, 1134, 1134, 1135, 1136, 1137, 1138, 1139, 1140, 1141, 1142, 1143, 1144, 1145, 1146, 1147, 1148, 1149, 1150, 1151, 1152, 1153, 1154, 1155, 1156, 1157, 1158, 1159, 1160, 1161, 1162, 1163, 1164, 1165, 1166, 1167, 1168, 1169, 1170, 1171, 1172, 1173, 1174, 1175, 1176, 1177, 1178, 1179, 1180, 1181, 1182, 1183, 1184, 1185, 1186, 1187, 1188, 1189, 1190, 1191, 1192, 1193, 1194, 1195, 1196, 1197, 1198, 1199, 1200, 1201, 1202, 1203, 1204, 1205, 1206, 1207, 1208, 1209, 1210, 1211, 1212, 1213, 1214, 1215, 1216, 1217, 1218, 1219, 1220, 1221, 1222, 1223, 1224, 1225, 1226, 1227, 1228, 1229, 1230, 1231, 1232, 1233, 1234, 1235, 1236, 1237, 1238, 1239, 1240, 1241, 1242, 1243, 1244, 1245, 1246, 1247, 1248, 1249, 1250, 1251, 1252, 1253, 1254, 1255, 1256, 1257, 1258, 1259, 1260, 1261, 1262, 1263, 1264, 1265, 1266, 1267, 1268, 1269, 1270, 1271, 1272, 1273, 1274, 1275, 1276, 1277, 1278, 1279, 1280, 1281, 1282, 1283, 1284, 1285, 1286, 1287, 1288, 1289, 1290, 1291, 1292, 1293, 1294, 1295, 1296, 1297, 1298, 1299, 1300, 1301, 1302, 1303, 1304, 1305, 1306, 1307, 1308, 1309, 1310, 1311, 1312, 1313, 1314, 1315, 1316, 1317, 1318, 1319, 1320, 1321, 1322, 1323, 1324, 1325, 1326, 1327, 1328, 1329, 1330, 1331, 1332, 1333, 1334, 1335, 1336, 1337, 1338, 1339, 1340, 1341, 1342, 1343, 1344, 1345, 1346, 1347, 1348, 1349, 1350, 1351, 1352, 1353, 1354, 1355, 1356, 1357, 1358, 1359, 1360, 1361, 1362, 1363, 1364, 1365, 1366, 1367, 1368, 1369, 1370, 1371, 1372, 1373, 1374, 1375, 1376, 1377, 1378, 1379, 1380, 1381, 1382, 1383, 1384, 1385, 1385, 1385, 1385, 1385, 1385, 1385, 1385, 1385, 1385, 1385, 1385, 1385, 1385, 1385, 1386, 1387, 1388, 1389, 1390, 1391, 1392, 1393, 1394, 1395, 1396, 1397, 1398, 1399, 1400, 1401, 1402, 1403, 1404, 1405, 1406, 1407, 1408, 1409, 1410, 1411, 1412, 1413, 1414, 1415, 1416, 1417, 1418, 1419, 1420, 1421, 1422, 1423, 1424, 1425, 1426, 1427, 1428, 1429, 1430, 1431, 1432, 1433, 1434, 1435, 1436, 1437, 1438, 1439, 1440, 1441, 1442, 1443, 1444, 1445, 1446, 1447, 1448, 1449, 1450, 1451, 1452, 1453, 1454, 1455, 1456, 1457, 1458, 1459, 1460, 1461, 1462, 1463, 1464, 1465, 1466, 1467, 1468, 1469, 1470, 1471, 1472, 1473, 1474, 1475, 1476, 1477], [53, 14, 45, 91, 96, 96, 94, 53, 34, 34, 96, 45, 74, 59, 14, 50, 96, 53, 75, 53, 53, 53, 75, 53, 53, 53, 96, 75, 96, 34, 28, 34, 32, 28, 11, 45, 75, 75, 34, 34, 96, 50, 73, 50, 71, 56, 97, 52, 73, 40, 96, 96, 75, 72, 2, 97, 96, 56, 56, 14, 28, 3, 14, 97, 53, 14, 29, 29, 73, 64, 3, 4, 29, 91, 73, 26, 23, 14, 99, 50, 18, 75, 53, 34, 95, 48, 53, 32, 96, 53, 28, 0, 45, 96, 11, 59, 3, 14, 63, 96, 72, 75, 50, 94, 34, 75, 20, 14, 59, 14, 28, 64, 53, 73, 96, 71, 75, 96, 99, 73, 71, 71, 50, 73, 71, 71, 73, 50, 53, 50, 59, 48, 75, 49, 55, 70, 23, 98, 50, 15, 85, 51, 96, 75, 50, 96, 75, 2, 34, 54, 50, 75, 50, 34, 73, 71, 99, 80, 34, 66, 96, 96, 96, 3, 14, 3, 75, 75, 96, 71, 96, 55, 96, 71, 71, 75, 75, 75, 75, 57, 40, 34, 34, 34, 34, 40, 69, 12, 20, 48, 11, 2, 95, 63, 2, 92, 96, 73, 92, 14, 61, 34, 50, 96, 73, 14, 73, 14, 14, 84, 14, 14, 10, 73, 73, 52, 52, 95, 96, 96, 14, 72, 14, 28, 11, 14, 59, 98, 55, 50, 68, 28, 54, 72, 28, 96, 40, 14, 19, 75, 75, 59, 59, 96, 75, 21, 14, 14, 28, 29, 46, 45, 34, 75, 54, 75, 53, 96, 55, 64, 96, 29, 63, 96, 94, 96, 94, 29, 11, 40, 59, 14, 81, 59, 52, 50, 59, 64, 3, 15, 14, 34, 14, 14, 15, 59, 72, 74, 64, 96, 28, 3, 96, 96, 11, 98, 73, 28, 45, 20, 59, 90, 63, 34, 34, 96, 71, 34, 34, 51, 96, 4, 61, 28, 50, 96, 96, 71, 2, 50, 96, 14, 96, 99, 27, 27, 96, 73, 50, 75, 34, 71, 3, 74, 20, 96, 96, 53, 32, 90, 50, 96, 59, 96, 75, 94, 96, 94, 34, 14, 40, 75, 50, 55, 28, 96, 11, 75, 50, 75, 75, 55, 75, 96, 55, 11, 97, 91, 2, 34, 53, 94, 20, 15, 48, 96, 40, 64, 52, 54, 54, 48, 90, 15, 96, 74, 75, 34, 28, 96, 45, 74, 12, 90, 96, 92, 11, 40, 96, 48, 96, 45, 14, 84, 53, 53, 96, 53, 74, 75, 34, 34, 94, 20, 81, 50, 50, 75, 50, 96, 11, 11, 71, 71, 97, 34, 50, 28, 75, 50, 48, 4, 63, 96, 59, 75, 96, 91, 71, 75, 75, 74, 84, 64, 96, 48, 96, 22, 48, 48, 34, 59, 28, 14, 16, 29, 33, 96, 50, 50, 53, 53, 18, 53, 53, 53, 96, 83, 99, 71, 71, 87, 53, 91, 98, 63, 96, 99, 34, 63, 6, 11, 48, 48, 96, 48, 96, 34, 84, 53, 50, 53, 34, 95, 48, 53, 94, 55, 90, 18, 96, 11, 14, 48, 96, 72, 3, 72, 2, 14, 14, 20, 50, 59, 90, 40, 50, 71, 71, 50, 75, 75, 89, 50, 75, 96, 50, 75, 50, 50, 50, 50, 28, 29, 28, 96, 1, 15, 96, 3, 96, 50, 50, 96, 53, 53, 45, 73, 23, 73, 16, 59, 96, 73, 52, 11, 14, 56, 80, 75, 53, 53, 45, 50, 50, 29, 59, 53, 53, 53, 94, 50, 32, 2, 69, 59, 7, 7, 96, 18, 59, 73, 75, 96, 45, 50, 71, 96, 96, 53, 63, 75, 53, 73, 75, 75, 50, 81, 96, 73, 90, 91, 50, 50, 91, 25, 71, 75, 22, 75, 96, 96, 96, 48, 96, 92, 92, 81, 50, 41, 75, 75, 50, 75, 18, 50, 50, 50, 40, 50, 75, 75, 61, 75, 80, 75, 96, 44, 53, 75, 96, 89, 75, 53, 80, 96, 53, 53, 53, 75, 50, 75, 53, 48, 75, 75, 34, 96, 71, 34, 39, 55, 96, 75, 43, 75, 75, 13, 53, 75, 48, 75, 50, 75, 75, 71, 48, 75, 53, 53, 88, 51, 53, 96, 91, 75, 18, 75, 50, 96, 53, 75, 53, 34, 53, 53, 53, 85, 97, 48, 92, 89, 84, 73, 73, 64, 71, 50, 71, 48, 15, 84, 52, 14, 96, 15, 90, 73, 14, 96, 50, 18, 89, 73, 50, 95, 75, 11, 50, 50, 34, 76, 16, 28, 71, 52, 96, 48, 14, 15, 90, 96, 50, 71, 71, 71, 71, 96, 14, 18, 55, 14, 97, 9, 50, 50, 80, 50, 34, 14, 63, 94, 20, 74, 71, 96, 73, 50, 15, 73, 50, 96, 50, 73, 59, 73, 73, 50, 36, 75, 75, 96, 71, 71, 34, 34, 35, 73, 50, 0, 50, 28, 50, 99, 96, 82, 73, 14, 96, 63, 85, 55, 52, 96, 53, 73, 64, 59, 75, 53, 34, 40, 73, 96, 14, 96, 96, 73, 63, 40, 6, 11, 96, 38, 53, 40, 85, 2, 14, 2, 55, 14, 50, 50, 97, 89, 43, 90, 14, 75, 14, 59, 53, 61, 53, 11, 75, 43, 53, 14, 23, 72, 53, 14, 54, 96, 28, 53, 64, 64, 74, 96, 96, 63, 95, 2, 50, 97, 40, 37, 63, 54, 45, 93, 71, 50, 73, 75, 53, 53, 53, 97, 96, 96, 32, 39, 53, 55, 53, 59, 71, 49, 53, 53, 73, 11, 28, 14, 14, 64, 64, 75, 91, 15, 76, 96, 6, 10, 89, 72, 95, 53, 53, 53, 53, 53, 50, 53, 54, 53, 43, 90, 90, 81, 53, 94, 55, 97, 94, 94, 56, 96, 53, 55, 24, 24, 75, 34, 54, 96, 15, 63, 53, 96, 10, 55, 16, 55, 75, 16, 84, 53, 53, 53, 75, 48, 59, 23, 53, 53, 14, 75, 75, 75, 14, 75, 45, 73, 96, 55, 14, 15, 52, 14, 50, 7, 52, 73, 52, 15, 50, 59, 16, 73, 50, 73, 50, 2, 96, 96, 3, 3, 40, 50, 50, 2, 50, 20, 2, 50, 74, 94, 74, 75, 64, 59, 73, 28, 75, 14, 27, 23, 2, 75, 23, 73, 50, 75, 9, 59, 5, 40, 48, 75, 59, 59, 82, 95, 14, 50, 50, 28, 14, 20, 14, 14, 14, 14, 59, 51, 77, 14, 45, 62, 28, 72, 71, 73, 80, 80, 75, 96, 50, 54, 50, 50, 63, 75, 50, 53, 54, 96, 14, 96, 63, 14, 28, 48, 50, 23, 50, 3, 53, 71, 2, 40, 94, 75, 20, 64, 63, 96, 2, 50, 63, 96, 54, 75, 20, 63, 63, 63, 63, 89, 54, 14, 62, 51, 72, 51, 16, 71, 50, 96, 41, 59, 31, 64, 28, 20, 30, 96, 31, 74, 15, 59, 59, 29, 73, 14, 14, 59, 29, 29, 53, 96, 59, 28, 50, 50, 29, 28, 28, 20, 31, 45, 28, 45, 45, 73, 43, 72, 96, 50, 75, 54, 95, 79, 81, 99, 75, 2, 96, 75, 55, 96, 96, 50, 50, 96, 59, 50, 71, 74, 50, 75, 86, 96, 75, 53, 53, 53, 53, 75, 96, 75, 75, 50, 55, 73, 11, 81, 50, 75, 50, 9, 29, 2, 50, 50, 48, 75, 75, 96, 28, 15, 59, 96, 34, 53, 14, 15, 50, 50, 36, 20, 40, 95, 78, 55, 96, 94, 94, 94, 95, 11, 75, 96, 75, 71, 44, 96, 96, 40, 96, 96, 96, 96, 96, 96, 52, 2, 53, 45, 53, 50, 71, 28, 50, 53, 50, 50, 96, 97, 55, 53, 96, 73, 14, 29, 60, 17, 90, 51, 90, 0, 45, 99, 53, 45, 53, 2, 96, 71, 50, 50, 50, 7, 50, 50, 96, 96, 50, 71, 63, 50, 50, 75, 50, 50, 63, 61, 34, 7, 88, 75, 63, 39, 71, 40, 29, 45, 64, 50, 50, 53, 91, 84, 18, 50, 23, 50, 34, 74, 75, 48, 96, 18, 72, 50, 50, 29, 47, 14, 58, 81, 48, 14, 3, 75, 48, 96, 50, 50, 50, 65, 90, 13, 53, 75, 14, 20, 45, 75, 59, 54, 10, 50, 2, 63, 71, 48, 98, 59, 34, 53, 13, 53, 53, 97, 3, 59, 75, 96, 8, 95, 27, 3, 3, 15, 11, 24, 5, 14, 34, 48, 28, 75, 15, 23, 96, 72, 11, 3, 75, 96, 72, 75, 94, 75, 96, 96, 75, 96, 75, 71, 96, 83, 71, 50, 2, 3, 34, 54, 71, 73, 75, 81, 86, 88, 90, 94, 94, 94, 96, 53, 79, 75, 75, 75, 29, 47, 7, 80, 75, 96, 70, 96, 75, 96, 75, 75, 48, 52, 98, 71, 3, 14, 75, 25, 75, 75, 13, 75, 96, 52, 52, 75, 2, 71, 40, 96, 53, 27, 50, 11, 96, 42, 90, 11, 96, 63, 63, 50, 71, 28, 96, 63, 18, 50, 67, 53, 43, 34, 96, 14, 80, 97, 14, 75, 70, 71, 96, 47, 53, 53, 53, 53, 2, 72, 53, 96, 47, 53, 75, 64, 75, 75, 95, 96, 75, 75, 75, 59, 99, 99, 96], [8, 17, 14, 11, 1, 4, 5, 8, 0, 0, 8, 14, 3, 14, 17, 7, 8, 8, 9, 8, 8, 8, 9, 8, 8, 8, 1, 10, 8, 0, 17, 0, 0, 17, 4, 14, 9, 9, 0, 0, 1, 7, 16, 7, 12, 13, 12, 11, 16, 13, 1, 8, 9, 17, 2, 12, 1, 13, 13, 17, 17, 17, 17, 12, 8, 17, 14, 14, 16, 14, 17, 11, 14, 11, 16, 0, 14, 17, 13, 7, 9, 9, 8, 0, 3, 6, 8, 0, 8, 8, 17, 0, 14, 1, 4, 14, 17, 17, 15, 1, 17, 9, 7, 5, 0, 9, 17, 17, 14, 17, 17, 14, 8, 16, 4, 12, 9, 4, 13, 16, 12, 12, 7, 16, 12, 12, 16, 7, 8, 7, 14, 6, 9, 7, 0, 14, 14, 16, 7, 17, 0, 13, 1, 9, 7, 4, 9, 2, 0, 10, 7, 9, 7, 0, 16, 12, 13, 13, 0, 0, 4, 1, 4, 17, 17, 17, 9, 9, 4, 12, 1, 0, 1, 12, 12, 9, 9, 9, 9, 7, 13, 0, 0, 0, 0, 18, 3, 3, 17, 6, 4, 2, 2, 15, 2, 0, 1, 16, 0, 17, 9, 0, 7, 1, 16, 17, 16, 17, 17, 11, 17, 17, 0, 16, 16, 11, 11, 2, 1, 4, 17, 17, 17, 17, 4, 17, 14, 16, 0, 7, 9, 17, 10, 17, 17, 1, 11, 17, 9, 9, 9, 14, 14, 1, 10, 17, 17, 17, 17, 14, 14, 14, 0, 10, 10, 10, 8, 1, 0, 14, 4, 14, 15, 4, 5, 1, 5, 14, 5, 13, 14, 17, 12, 14, 11, 7, 14, 14, 17, 17, 17, 0, 17, 17, 17, 14, 17, 3, 14, 4, 17, 17, 4, 4, 4, 16, 16, 17, 14, 17, 14, 15, 15, 0, 0, 8, 12, 0, 0, 13, 1, 11, 9, 17, 7, 1, 4, 12, 2, 7, 1, 17, 4, 13, 18, 18, 4, 16, 7, 9, 0, 12, 17, 3, 17, 4, 1, 8, 0, 15, 7, 1, 14, 1, 9, 5, 8, 6, 0, 17, 12, 10, 7, 0, 17, 1, 4, 9, 7, 10, 11, 0, 9, 1, 0, 5, 12, 11, 2, 0, 8, 5, 17, 17, 6, 8, 13, 14, 11, 10, 10, 6, 15, 17, 8, 3, 9, 0, 17, 1, 14, 3, 3, 15, 8, 0, 4, 13, 1, 6, 1, 14, 17, 3, 8, 8, 8, 8, 3, 10, 0, 0, 5, 17, 12, 7, 7, 9, 7, 1, 4, 4, 12, 12, 12, 0, 7, 17, 9, 7, 6, 11, 15, 4, 14, 9, 4, 11, 12, 9, 9, 3, 3, 14, 1, 6, 1, 13, 6, 6, 0, 14, 17, 17, 17, 14, 0, 8, 7, 7, 8, 8, 16, 8, 8, 8, 5, 9, 0, 12, 12, 13, 8, 11, 16, 15, 1, 13, 0, 15, 13, 4, 6, 6, 4, 6, 1, 0, 3, 8, 7, 8, 0, 2, 6, 8, 5, 0, 15, 9, 4, 4, 17, 6, 5, 17, 17, 17, 2, 17, 17, 17, 7, 14, 15, 12, 7, 12, 12, 7, 9, 9, 0, 7, 9, 1, 7, 9, 7, 7, 7, 7, 17, 14, 17, 1, 0, 17, 4, 17, 1, 7, 7, 4, 8, 8, 14, 16, 14, 16, 17, 14, 1, 16, 11, 4, 17, 13, 13, 10, 8, 8, 14, 7, 7, 14, 14, 8, 8, 8, 5, 7, 0, 2, 6, 14, 17, 17, 4, 9, 14, 16, 9, 4, 14, 7, 12, 1, 1, 8, 15, 9, 8, 16, 9, 9, 7, 12, 1, 16, 15, 11, 7, 7, 11, 0, 12, 10, 13, 9, 1, 8, 8, 6, 1, 0, 0, 12, 7, 11, 9, 9, 7, 9, 9, 7, 7, 7, 13, 7, 10, 9, 9, 10, 13, 9, 1, 18, 8, 9, 5, 0, 9, 8, 13, 1, 8, 8, 8, 9, 7, 9, 8, 6, 10, 9, 0, 1, 12, 0, 15, 0, 1, 9, 11, 9, 9, 0, 8, 9, 6, 9, 7, 9, 9, 12, 6, 9, 8, 8, 8, 13, 8, 1, 11, 9, 9, 10, 7, 1, 8, 9, 8, 0, 8, 8, 8, 0, 12, 6, 0, 0, 3, 16, 16, 14, 12, 7, 12, 6, 17, 3, 11, 17, 4, 17, 15, 16, 17, 4, 7, 16, 0, 16, 7, 2, 9, 4, 7, 7, 0, 18, 17, 17, 12, 11, 1, 6, 17, 17, 15, 5, 7, 12, 12, 12, 12, 4, 17, 9, 0, 17, 12, 16, 7, 7, 13, 7, 0, 17, 15, 5, 17, 3, 12, 1, 16, 7, 17, 16, 7, 1, 7, 16, 14, 16, 16, 7, 0, 9, 9, 4, 12, 12, 0, 0, 0, 16, 7, 0, 7, 17, 7, 13, 8, 13, 16, 17, 4, 15, 0, 0, 11, 1, 8, 16, 14, 14, 9, 8, 0, 12, 16, 8, 17, 5, 5, 16, 15, 13, 13, 4, 4, 0, 8, 5, 0, 2, 17, 2, 0, 17, 7, 7, 12, 0, 11, 15, 17, 9, 17, 14, 8, 9, 8, 4, 10, 11, 8, 17, 14, 17, 8, 17, 10, 1, 17, 8, 14, 14, 3, 4, 4, 15, 2, 2, 7, 12, 5, 0, 15, 10, 14, 0, 12, 7, 16, 9, 8, 8, 8, 12, 8, 8, 0, 15, 8, 0, 8, 14, 12, 7, 8, 8, 16, 4, 17, 17, 17, 14, 14, 10, 11, 17, 18, 4, 12, 0, 0, 17, 3, 8, 8, 8, 8, 8, 7, 8, 10, 8, 11, 15, 15, 12, 8, 5, 0, 12, 5, 5, 13, 1, 8, 0, 0, 0, 9, 0, 10, 15, 17, 15, 8, 1, 0, 0, 17, 0, 9, 17, 11, 8, 8, 8, 9, 6, 14, 14, 8, 8, 17, 9, 9, 9, 17, 9, 14, 16, 8, 0, 17, 17, 11, 17, 7, 17, 11, 16, 11, 17, 7, 14, 17, 16, 7, 16, 7, 2, 1, 1, 17, 17, 18, 7, 7, 2, 7, 17, 2, 7, 3, 3, 3, 9, 14, 14, 16, 17, 9, 17, 18, 14, 2, 9, 14, 16, 7, 9, 16, 14, 11, 13, 6, 10, 14, 14, 13, 2, 17, 7, 7, 17, 17, 17, 17, 17, 17, 17, 14, 13, 18, 17, 14, 18, 17, 17, 12, 16, 13, 13, 10, 4, 7, 10, 7, 7, 15, 10, 7, 8, 10, 1, 17, 1, 15, 17, 17, 6, 7, 14, 7, 17, 8, 12, 2, 5, 3, 9, 17, 14, 15, 1, 2, 7, 15, 8, 10, 10, 17, 15, 15, 15, 15, 0, 10, 17, 18, 13, 17, 13, 17, 12, 7, 4, 11, 14, 0, 14, 17, 17, 14, 4, 0, 3, 17, 14, 14, 14, 16, 17, 17, 14, 14, 14, 8, 4, 14, 17, 7, 7, 14, 17, 17, 17, 0, 14, 17, 14, 14, 16, 11, 17, 8, 7, 10, 10, 2, 15, 12, 13, 9, 2, 8, 9, 0, 1, 1, 7, 7, 1, 14, 7, 12, 3, 7, 9, 13, 4, 9, 8, 8, 8, 8, 10, 1, 9, 9, 7, 0, 16, 4, 12, 7, 10, 7, 16, 14, 2, 7, 7, 6, 9, 9, 1, 17, 17, 14, 4, 0, 8, 17, 17, 7, 7, 0, 17, 18, 18, 18, 0, 8, 5, 5, 5, 2, 4, 9, 1, 10, 12, 18, 4, 1, 13, 1, 4, 1, 1, 1, 1, 11, 2, 8, 14, 8, 7, 12, 17, 7, 8, 7, 7, 8, 12, 0, 8, 15, 16, 17, 14, 14, 17, 15, 13, 15, 0, 14, 0, 8, 14, 8, 2, 1, 12, 7, 7, 7, 17, 7, 7, 1, 1, 7, 12, 15, 7, 7, 10, 7, 7, 15, 9, 0, 17, 8, 9, 15, 15, 12, 5, 14, 14, 14, 7, 7, 8, 11, 3, 16, 7, 14, 7, 0, 3, 9, 6, 4, 9, 17, 7, 7, 14, 14, 17, 0, 12, 6, 17, 17, 9, 6, 1, 7, 7, 7, 0, 15, 0, 8, 9, 17, 17, 14, 9, 14, 10, 0, 7, 2, 15, 12, 6, 16, 14, 0, 8, 0, 8, 8, 12, 17, 14, 10, 1, 3, 3, 18, 17, 17, 17, 4, 0, 11, 17, 0, 6, 17, 9, 17, 14, 15, 17, 4, 17, 9, 4, 17, 9, 5, 9, 1, 4, 9, 1, 9, 12, 1, 9, 12, 7, 2, 17, 0, 10, 12, 16, 10, 12, 13, 8, 15, 3, 5, 15, 1, 8, 15, 10, 10, 9, 14, 14, 17, 13, 9, 15, 14, 4, 9, 1, 9, 10, 6, 11, 16, 12, 17, 17, 9, 0, 9, 9, 0, 9, 1, 11, 11, 9, 2, 12, 15, 4, 8, 18, 7, 4, 4, 11, 15, 5, 1, 15, 15, 7, 12, 17, 1, 15, 9, 7, 9, 8, 11, 0, 1, 17, 13, 12, 17, 9, 14, 12, 4, 14, 8, 8, 8, 8, 2, 17, 8, 1, 14, 8, 9, 14, 9, 10, 2, 8, 9, 9, 9, 14, 0, 0, 4]],\n",
      "           names=['Name', 'Country', 'Region'])\n",
      "\n",
      "becomes\n",
      "\n",
      "Index(['Abu', 'Acamarachi', 'Acatenango', 'Acigol-Nevsehir', 'Adagdak',\n",
      "       'Adams', 'Adams Seamount', 'Adatarayama', 'Adwa', 'Afdera',\n",
      "       ...\n",
      "       'Zavaritzki Caldera', 'Zavodovski', 'Zealandia Bank', 'Zheltovsky',\n",
      "       'Zhupanovsky', 'Zimina', 'Zitacuaro-Valle de Bravo', 'Zubair Group',\n",
      "       'Zukur', 'Zuni-Bandera'],\n",
      "      dtype='object', name='Name', length=1497)\n"
     ]
    }
   ],
   "source": [
    "print(pivoted.index)\n",
    "df = pivoted.reset_index().set_index('Name')\n",
    "print('\\nbecomes\\n', df.index, sep='\\n')"
   ]
  },
  {
   "cell_type": "markdown",
   "metadata": {
    "collapsed": true
   },
   "source": [
    "To access strings stored in the data, use the str method on the column. To index lists stored in column values, use .str.get(index). Each returns a series, but you can chain them together."
   ]
  },
  {
   "cell_type": "code",
   "execution_count": 33,
   "metadata": {
    "scrolled": true
   },
   "outputs": [
    {
     "data": {
      "text/html": [
       "<div>\n",
       "<style>\n",
       "    .dataframe thead tr:only-child th {\n",
       "        text-align: right;\n",
       "    }\n",
       "\n",
       "    .dataframe thead th {\n",
       "        text-align: left;\n",
       "    }\n",
       "\n",
       "    .dataframe tbody tr th {\n",
       "        vertical-align: top;\n",
       "    }\n",
       "</style>\n",
       "<table border=\"1\" class=\"dataframe\">\n",
       "  <thead>\n",
       "    <tr style=\"text-align: right;\">\n",
       "      <th></th>\n",
       "      <th>Name</th>\n",
       "      <th>Country</th>\n",
       "      <th>Region</th>\n",
       "      <th>Type</th>\n",
       "      <th>Activity Evidence</th>\n",
       "      <th>Last Known Eruption</th>\n",
       "      <th>Latitude</th>\n",
       "      <th>Longitude</th>\n",
       "      <th>Elevation (Meters)</th>\n",
       "      <th>Dominant Rock Type</th>\n",
       "      <th>Tectonic Setting</th>\n",
       "      <th>Tectonic Zone</th>\n",
       "      <th>Tectonic Range</th>\n",
       "    </tr>\n",
       "    <tr>\n",
       "      <th>Number</th>\n",
       "      <th></th>\n",
       "      <th></th>\n",
       "      <th></th>\n",
       "      <th></th>\n",
       "      <th></th>\n",
       "      <th></th>\n",
       "      <th></th>\n",
       "      <th></th>\n",
       "      <th></th>\n",
       "      <th></th>\n",
       "      <th></th>\n",
       "      <th></th>\n",
       "      <th></th>\n",
       "    </tr>\n",
       "  </thead>\n",
       "  <tbody>\n",
       "    <tr>\n",
       "      <th>390812</th>\n",
       "      <td>Rittmann, Mount</td>\n",
       "      <td>Antarctica</td>\n",
       "      <td>Antarctica</td>\n",
       "      <td>Shield</td>\n",
       "      <td>Unrest / Pleistocene</td>\n",
       "      <td>Unknown</td>\n",
       "      <td>-73.45</td>\n",
       "      <td>165.50</td>\n",
       "      <td>2600</td>\n",
       "      <td>NaN</td>\n",
       "      <td>Intraplate / Continental Crust (&gt;25 km)</td>\n",
       "      <td>Intraplate / Continental Crust</td>\n",
       "      <td>&gt;25 km</td>\n",
       "    </tr>\n",
       "    <tr>\n",
       "      <th>390829</th>\n",
       "      <td>James Ross Island</td>\n",
       "      <td>Antarctica</td>\n",
       "      <td>Antarctica</td>\n",
       "      <td>Shield</td>\n",
       "      <td>Evidence Credible</td>\n",
       "      <td>Unknown</td>\n",
       "      <td>-64.15</td>\n",
       "      <td>-57.75</td>\n",
       "      <td>1630</td>\n",
       "      <td>Basalt / Picro-Basalt</td>\n",
       "      <td>Intraplate / Continental Crust (&gt;25 km)</td>\n",
       "      <td>Intraplate / Continental Crust</td>\n",
       "      <td>&gt;25 km</td>\n",
       "    </tr>\n",
       "    <tr>\n",
       "      <th>390847</th>\n",
       "      <td>Melville</td>\n",
       "      <td>Antarctica</td>\n",
       "      <td>Antarctica</td>\n",
       "      <td>Stratovolcano</td>\n",
       "      <td>Evidence Uncertain</td>\n",
       "      <td>Unknown</td>\n",
       "      <td>-62.02</td>\n",
       "      <td>-57.67</td>\n",
       "      <td>549</td>\n",
       "      <td>NaN</td>\n",
       "      <td>Intraplate / Continental Crust (&gt;25 km)</td>\n",
       "      <td>Intraplate / Continental Crust</td>\n",
       "      <td>&gt;25 km</td>\n",
       "    </tr>\n",
       "  </tbody>\n",
       "</table>\n",
       "</div>"
      ],
      "text/plain": [
       "                     Name     Country      Region           Type  \\\n",
       "Number                                                             \n",
       "390812    Rittmann, Mount  Antarctica  Antarctica         Shield   \n",
       "390829  James Ross Island  Antarctica  Antarctica         Shield   \n",
       "390847           Melville  Antarctica  Antarctica  Stratovolcano   \n",
       "\n",
       "           Activity Evidence Last Known Eruption  Latitude  Longitude  \\\n",
       "Number                                                                  \n",
       "390812  Unrest / Pleistocene             Unknown    -73.45     165.50   \n",
       "390829     Evidence Credible             Unknown    -64.15     -57.75   \n",
       "390847    Evidence Uncertain             Unknown    -62.02     -57.67   \n",
       "\n",
       "        Elevation (Meters)     Dominant Rock Type  \\\n",
       "Number                                              \n",
       "390812                2600                    NaN   \n",
       "390829                1630  Basalt / Picro-Basalt   \n",
       "390847                 549                    NaN   \n",
       "\n",
       "                               Tectonic Setting  \\\n",
       "Number                                            \n",
       "390812  Intraplate / Continental Crust (>25 km)   \n",
       "390829  Intraplate / Continental Crust (>25 km)   \n",
       "390847  Intraplate / Continental Crust (>25 km)   \n",
       "\n",
       "                          Tectonic Zone Tectonic Range  \n",
       "Number                                                  \n",
       "390812  Intraplate / Continental Crust          >25 km  \n",
       "390829  Intraplate / Continental Crust          >25 km  \n",
       "390847  Intraplate / Continental Crust          >25 km  "
      ]
     },
     "execution_count": 33,
     "metadata": {},
     "output_type": "execute_result"
    }
   ],
   "source": [
    "tectonic_info = df['Tectonic Setting'].str.split('(', 1)\n",
    "df['Tectonic Zone'] = tectonic_info.str.get(0)\n",
    "df['Tectonic Range'] = tectonic_info.str.get(1).str.rstrip(')')\n",
    "df.tail(3)"
   ]
  },
  {
   "cell_type": "markdown",
   "metadata": {},
   "source": [
    "### Concatenating Data"
   ]
  },
  {
   "cell_type": "markdown",
   "metadata": {},
   "source": [
    "Combining dataframes, maybe a large dataset split into multiple files."
   ]
  },
  {
   "cell_type": "code",
   "execution_count": 58,
   "metadata": {
    "collapsed": true
   },
   "outputs": [],
   "source": [
    "# Let's split our dataframe as an example\n",
    "df = pd.read_csv('data/volc_holocene.csv', header=0, index_col='Number')\n",
    "half_row = len(df) // 2\n",
    "set1, set2 = df.iloc[:half_row], df.iloc[half_row:]\n",
    "\n",
    "# And column-wise\n",
    "half_col = len(df.columns) // 2\n",
    "setA, setB = df.iloc[:,:half_col], df.iloc[:,half_col:]"
   ]
  },
  {
   "cell_type": "code",
   "execution_count": 48,
   "metadata": {},
   "outputs": [
    {
     "data": {
      "text/plain": [
       "True"
      ]
     },
     "execution_count": 48,
     "metadata": {},
     "output_type": "execute_result"
    }
   ],
   "source": [
    "# Combine two sets of rows. This is axis 0\n",
    "df_concat = pd.concat([set1, set2],\n",
    "                      ignore_index=False)       # Discard the indices and use a range\n",
    "                                                # This can avoid duplicate indices\n",
    "df.equals(df_concat)"
   ]
  },
  {
   "cell_type": "code",
   "execution_count": 49,
   "metadata": {},
   "outputs": [
    {
     "data": {
      "text/plain": [
       "True"
      ]
     },
     "execution_count": 49,
     "metadata": {},
     "output_type": "execute_result"
    }
   ],
   "source": [
    "# Combine two frames of columns\n",
    "df_concat = pd.concat([setA, setB], axis=1)\n",
    "df.equals(df_concat)"
   ]
  },
  {
   "cell_type": "markdown",
   "metadata": {},
   "source": [
    "You can merge dataframes like in SQL based on a key column. This will work for 1-1, 1-N, and N-M merges:\n",
    "* 1-1: Each row will be combined into a single row with the row with the same key from the other dataframe\n",
    "* 1-N: Each of the N rows with a key will get the columns from the 1 row with that key\n",
    "* N-M: Every combination of rows with the same key, one from each dataframe, will be included in the result (this is really the same as what happens with the other two)"
   ]
  },
  {
   "cell_type": "code",
   "execution_count": 60,
   "metadata": {},
   "outputs": [
    {
     "data": {
      "text/plain": [
       "True"
      ]
     },
     "execution_count": 60,
     "metadata": {},
     "output_type": "execute_result"
    }
   ],
   "source": [
    "# Lets take our split dataframes and give them a common key\n",
    "setC = setB.copy()\n",
    "setC.insert(0, 'Volcano', setA['Name'])          # Insert the column at the front of the frame!\n",
    "setC['Volcano'].equals(setA['Name'])"
   ]
  },
  {
   "cell_type": "code",
   "execution_count": 75,
   "metadata": {},
   "outputs": [
    {
     "data": {
      "text/plain": [
       "Unnamed         529\n",
       "Santa Isabel      4\n",
       "Sumbing           4\n",
       "Santo Tomas       4\n",
       "Flores            4\n",
       "Name: Name, dtype: int64"
      ]
     },
     "execution_count": 75,
     "metadata": {},
     "output_type": "execute_result"
    }
   ],
   "source": [
    "merged = pd.merge(left=setA, right=setC,               # Which dataframes to merge\n",
    "                  # on=None,                           # If the key columns had the same name, we could put it in 'on'\n",
    "                  left_on='Name', right_on='Volcano')  # Which columns to use as the keys\n",
    "# Turns out this was a 1-N! Or N-M?\n",
    "merged.Name.value_counts().head()"
   ]
  },
  {
   "cell_type": "markdown",
   "metadata": {},
   "source": [
    "### Data Types"
   ]
  },
  {
   "cell_type": "markdown",
   "metadata": {},
   "source": [
    "Check the types of the columns with DataFrame.info(). Columns of type 'object' are represented by strings."
   ]
  },
  {
   "cell_type": "code",
   "execution_count": 43,
   "metadata": {},
   "outputs": [
    {
     "name": "stdout",
     "output_type": "stream",
     "text": [
      "<class 'pandas.core.frame.DataFrame'>\n",
      "Int64Index: 1508 entries, 210010 to 390847\n",
      "Data columns (total 11 columns):\n",
      "Name                   1508 non-null object\n",
      "Country                1508 non-null object\n",
      "Region                 1508 non-null object\n",
      "Type                   1508 non-null object\n",
      "Activity Evidence      1507 non-null object\n",
      "Last Known Eruption    1508 non-null object\n",
      "Latitude               1508 non-null float64\n",
      "Longitude              1508 non-null float64\n",
      "Elevation (Meters)     1508 non-null int64\n",
      "Dominant Rock Type     1455 non-null object\n",
      "Tectonic Setting       1501 non-null object\n",
      "dtypes: float64(2), int64(1), object(8)\n",
      "memory usage: 141.4+ KB\n"
     ]
    }
   ],
   "source": [
    "df = pd.read_csv('data/volc_holocene.csv', header=0, index_col='Number')\n",
    "df.info()"
   ]
  },
  {
   "cell_type": "markdown",
   "metadata": {},
   "source": [
    "For columns with only a small set of values, you can convert the column type to a 'category', reducing memory used."
   ]
  },
  {
   "cell_type": "code",
   "execution_count": 49,
   "metadata": {},
   "outputs": [
    {
     "name": "stdout",
     "output_type": "stream",
     "text": [
      "Values:\n",
      "['Eruption Dated' 'Evidence Credible' 'Eruption Observed'\n",
      " 'Evidence Uncertain' 'Unrest / Pleistocene' 'Unrest / Holocene' nan]\n",
      "\n",
      "Size before conversion to a category:\n",
      "123063 > 14201\n"
     ]
    }
   ],
   "source": [
    "import sys\n",
    "print('Values:')\n",
    "print(df['Activity Evidence'].unique())    # Check how many options there are with unique()\n",
    "df['Evidence Category'] = df['Activity Evidence'].astype('category')\n",
    "print('\\nSize before conversion to a category:')\n",
    "print(sys.getsizeof(df['Activity Evidence']), '>', sys.getsizeof(df['Evidence Category']))"
   ]
  },
  {
   "cell_type": "markdown",
   "metadata": {},
   "source": [
    "Convert columns to numeric types with pd.to_numeric(). Using errors='coerce' substitutes NaN, while 'ignore' halts and returns the original, and the default 'raise' raises an exception."
   ]
  },
  {
   "cell_type": "code",
   "execution_count": 22,
   "metadata": {},
   "outputs": [
    {
     "name": "stdout",
     "output_type": "stream",
     "text": [
      "float32\n",
      "65112 > 59080\n"
     ]
    }
   ],
   "source": [
    "# These are already numbers, so let's show off a parameter\n",
    "# This should be equivalent to the original column, but stored in smaller space.\n",
    "downcast_column = pd.to_numeric(df.Latitude, downcast='float')\n",
    "print(downcast_column.dtype)\n",
    "print(sys.getsizeof(df.Latitude), '>', sys.getsizeof(downcast_column))"
   ]
  },
  {
   "cell_type": "markdown",
   "metadata": {},
   "source": [
    "### Applying functions"
   ]
  },
  {
   "cell_type": "markdown",
   "metadata": {},
   "source": [
    "Use the apply function! The first argument is the function. Positional arguments to the function can be passed in a sequence to the args parameter of apply, and any unrecognized keyword arguments to apply will be passed as keyword arguemnts to the function."
   ]
  },
  {
   "cell_type": "code",
   "execution_count": 41,
   "metadata": {},
   "outputs": [
    {
     "data": {
      "text/html": [
       "<div>\n",
       "<style>\n",
       "    .dataframe thead tr:only-child th {\n",
       "        text-align: right;\n",
       "    }\n",
       "\n",
       "    .dataframe thead th {\n",
       "        text-align: left;\n",
       "    }\n",
       "\n",
       "    .dataframe tbody tr th {\n",
       "        vertical-align: top;\n",
       "    }\n",
       "</style>\n",
       "<table border=\"1\" class=\"dataframe\">\n",
       "  <thead>\n",
       "    <tr style=\"text-align: right;\">\n",
       "      <th></th>\n",
       "      <th>Name</th>\n",
       "      <th>Country</th>\n",
       "      <th>Region</th>\n",
       "      <th>Type</th>\n",
       "      <th>Activity Evidence</th>\n",
       "      <th>Last Known Eruption</th>\n",
       "      <th>Latitude</th>\n",
       "      <th>Longitude</th>\n",
       "      <th>Elevation (Meters)</th>\n",
       "      <th>Dominant Rock Type</th>\n",
       "      <th>Tectonic Setting</th>\n",
       "    </tr>\n",
       "    <tr>\n",
       "      <th>Number</th>\n",
       "      <th></th>\n",
       "      <th></th>\n",
       "      <th></th>\n",
       "      <th></th>\n",
       "      <th></th>\n",
       "      <th></th>\n",
       "      <th></th>\n",
       "      <th></th>\n",
       "      <th></th>\n",
       "      <th></th>\n",
       "      <th></th>\n",
       "    </tr>\n",
       "  </thead>\n",
       "  <tbody>\n",
       "    <tr>\n",
       "      <th>210010</th>\n",
       "      <td>West Eifel Volcanic Field</td>\n",
       "      <td>Germany</td>\n",
       "      <td>Mediterranean and Western Asia</td>\n",
       "      <td>Maar</td>\n",
       "      <td>Eruption Dated</td>\n",
       "      <td>8300 BCE</td>\n",
       "      <td>50.170</td>\n",
       "      <td>6.85</td>\n",
       "      <td>600</td>\n",
       "      <td>Foidite</td>\n",
       "      <td>Rift Zone / Continental Crust (&gt;25 km)</td>\n",
       "    </tr>\n",
       "    <tr>\n",
       "      <th>210020</th>\n",
       "      <td>Chaine des Puys</td>\n",
       "      <td>France</td>\n",
       "      <td>Mediterranean and Western Asia</td>\n",
       "      <td>Lava dome</td>\n",
       "      <td>Eruption Dated</td>\n",
       "      <td>4040 BCE</td>\n",
       "      <td>45.775</td>\n",
       "      <td>2.97</td>\n",
       "      <td>1464</td>\n",
       "      <td>Basalt / Picro-Basalt</td>\n",
       "      <td>Rift Zone / Continental Crust (&gt;25 km)</td>\n",
       "    </tr>\n",
       "    <tr>\n",
       "      <th>210030</th>\n",
       "      <td>Olot Volcanic Field</td>\n",
       "      <td>Spain</td>\n",
       "      <td>Mediterranean and Western Asia</td>\n",
       "      <td>Pyroclastic cone</td>\n",
       "      <td>Evidence Credible</td>\n",
       "      <td>Unknown</td>\n",
       "      <td>42.170</td>\n",
       "      <td>2.53</td>\n",
       "      <td>893</td>\n",
       "      <td>Trachybasalt / Tephrite Basanite</td>\n",
       "      <td>Intraplate / Continental Crust (&gt;25 km)</td>\n",
       "    </tr>\n",
       "    <tr>\n",
       "      <th>210040</th>\n",
       "      <td>Calatrava Volcanic Field</td>\n",
       "      <td>Spain</td>\n",
       "      <td>Mediterranean and Western Asia</td>\n",
       "      <td>Pyroclastic cone</td>\n",
       "      <td>Eruption Dated</td>\n",
       "      <td>3600 BCE</td>\n",
       "      <td>38.870</td>\n",
       "      <td>-4.02</td>\n",
       "      <td>1117</td>\n",
       "      <td>Basalt / Picro-Basalt</td>\n",
       "      <td>Intraplate / Continental Crust (&gt;25 km)</td>\n",
       "    </tr>\n",
       "    <tr>\n",
       "      <th>211001</th>\n",
       "      <td>Larderello</td>\n",
       "      <td>Italy</td>\n",
       "      <td>Mediterranean and Western Asia</td>\n",
       "      <td>Explosion crater</td>\n",
       "      <td>Eruption Observed</td>\n",
       "      <td>1282 CE</td>\n",
       "      <td>43.250</td>\n",
       "      <td>10.87</td>\n",
       "      <td>500</td>\n",
       "      <td>No Data</td>\n",
       "      <td>Subduction Zone / Continental Crust (&gt;25 km)</td>\n",
       "    </tr>\n",
       "  </tbody>\n",
       "</table>\n",
       "</div>"
      ],
      "text/plain": [
       "                             Name  Country                          Region  \\\n",
       "Number                                                                       \n",
       "210010  West Eifel Volcanic Field  Germany  Mediterranean and Western Asia   \n",
       "210020            Chaine des Puys   France  Mediterranean and Western Asia   \n",
       "210030        Olot Volcanic Field    Spain  Mediterranean and Western Asia   \n",
       "210040   Calatrava Volcanic Field    Spain  Mediterranean and Western Asia   \n",
       "211001                 Larderello    Italy  Mediterranean and Western Asia   \n",
       "\n",
       "                    Type  Activity Evidence Last Known Eruption  Latitude  \\\n",
       "Number                                                                      \n",
       "210010              Maar     Eruption Dated            8300 BCE    50.170   \n",
       "210020         Lava dome     Eruption Dated            4040 BCE    45.775   \n",
       "210030  Pyroclastic cone  Evidence Credible             Unknown    42.170   \n",
       "210040  Pyroclastic cone     Eruption Dated            3600 BCE    38.870   \n",
       "211001  Explosion crater  Eruption Observed             1282 CE    43.250   \n",
       "\n",
       "        Longitude  Elevation (Meters)                Dominant Rock Type  \\\n",
       "Number                                                                    \n",
       "210010       6.85                 600                           Foidite   \n",
       "210020       2.97                1464             Basalt / Picro-Basalt   \n",
       "210030       2.53                 893  Trachybasalt / Tephrite Basanite   \n",
       "210040      -4.02                1117             Basalt / Picro-Basalt   \n",
       "211001      10.87                 500                           No Data   \n",
       "\n",
       "                                    Tectonic Setting  \n",
       "Number                                                \n",
       "210010        Rift Zone / Continental Crust (>25 km)  \n",
       "210020        Rift Zone / Continental Crust (>25 km)  \n",
       "210030       Intraplate / Continental Crust (>25 km)  \n",
       "210040       Intraplate / Continental Crust (>25 km)  \n",
       "211001  Subduction Zone / Continental Crust (>25 km)  "
      ]
     },
     "execution_count": 41,
     "metadata": {},
     "output_type": "execute_result"
    }
   ],
   "source": [
    "import re\n",
    "s_parens_pattern = r'\\(e?s\\)'\n",
    "def singularize(string, plural_pattern):\n",
    "    \"\"\"Remove an optional 's' from the input string.\"\"\"\n",
    "    return re.split(plural_pattern, string)[0]\n",
    "\n",
    "df.Type = df.Type.apply(singularize, args=(s_parens_pattern,))\n",
    "df.head()"
   ]
  },
  {
   "cell_type": "markdown",
   "metadata": {},
   "source": [
    "The default axis, 0 means applying to each column in order. Passing axis=1 means applying to each row in order. (Maybe remember which index of df.iloc[:,:] is the one being incremented each iteration)"
   ]
  },
  {
   "cell_type": "code",
   "execution_count": 81,
   "metadata": {},
   "outputs": [
    {
     "data": {
      "text/html": [
       "<div>\n",
       "<style>\n",
       "    .dataframe thead tr:only-child th {\n",
       "        text-align: right;\n",
       "    }\n",
       "\n",
       "    .dataframe thead th {\n",
       "        text-align: left;\n",
       "    }\n",
       "\n",
       "    .dataframe tbody tr th {\n",
       "        vertical-align: top;\n",
       "    }\n",
       "</style>\n",
       "<table border=\"1\" class=\"dataframe\">\n",
       "  <thead>\n",
       "    <tr style=\"text-align: right;\">\n",
       "      <th></th>\n",
       "      <th>Name</th>\n",
       "      <th>Country</th>\n",
       "      <th>Region</th>\n",
       "      <th>Type</th>\n",
       "      <th>Activity Evidence</th>\n",
       "      <th>Last Known Eruption</th>\n",
       "      <th>Latitude</th>\n",
       "      <th>Longitude</th>\n",
       "      <th>Elevation (Meters)</th>\n",
       "      <th>Dominant Rock Type</th>\n",
       "      <th>Tectonic Setting</th>\n",
       "      <th>Age</th>\n",
       "    </tr>\n",
       "    <tr>\n",
       "      <th>Number</th>\n",
       "      <th></th>\n",
       "      <th></th>\n",
       "      <th></th>\n",
       "      <th></th>\n",
       "      <th></th>\n",
       "      <th></th>\n",
       "      <th></th>\n",
       "      <th></th>\n",
       "      <th></th>\n",
       "      <th></th>\n",
       "      <th></th>\n",
       "      <th></th>\n",
       "    </tr>\n",
       "  </thead>\n",
       "  <tbody>\n",
       "    <tr>\n",
       "      <th>210010</th>\n",
       "      <td>West Eifel Volcanic Field</td>\n",
       "      <td>Germany</td>\n",
       "      <td>Mediterranean and Western Asia</td>\n",
       "      <td>Maar</td>\n",
       "      <td>Eruption Dated</td>\n",
       "      <td>8300 BCE</td>\n",
       "      <td>50.170</td>\n",
       "      <td>6.85</td>\n",
       "      <td>600</td>\n",
       "      <td>Foidite</td>\n",
       "      <td>Rift Zone / Continental Crust (&gt;25 km)</td>\n",
       "      <td>10318</td>\n",
       "    </tr>\n",
       "    <tr>\n",
       "      <th>210020</th>\n",
       "      <td>Chaine des Puys</td>\n",
       "      <td>France</td>\n",
       "      <td>Mediterranean and Western Asia</td>\n",
       "      <td>Lava dome</td>\n",
       "      <td>Eruption Dated</td>\n",
       "      <td>4040 BCE</td>\n",
       "      <td>45.775</td>\n",
       "      <td>2.97</td>\n",
       "      <td>1464</td>\n",
       "      <td>Basalt / Picro-Basalt</td>\n",
       "      <td>Rift Zone / Continental Crust (&gt;25 km)</td>\n",
       "      <td>6058</td>\n",
       "    </tr>\n",
       "    <tr>\n",
       "      <th>210030</th>\n",
       "      <td>Olot Volcanic Field</td>\n",
       "      <td>Spain</td>\n",
       "      <td>Mediterranean and Western Asia</td>\n",
       "      <td>Pyroclastic cone</td>\n",
       "      <td>Evidence Credible</td>\n",
       "      <td>Unknown</td>\n",
       "      <td>42.170</td>\n",
       "      <td>2.53</td>\n",
       "      <td>893</td>\n",
       "      <td>Trachybasalt / Tephrite Basanite</td>\n",
       "      <td>Intraplate / Continental Crust (&gt;25 km)</td>\n",
       "      <td>-1</td>\n",
       "    </tr>\n",
       "    <tr>\n",
       "      <th>210040</th>\n",
       "      <td>Calatrava Volcanic Field</td>\n",
       "      <td>Spain</td>\n",
       "      <td>Mediterranean and Western Asia</td>\n",
       "      <td>Pyroclastic cone</td>\n",
       "      <td>Eruption Dated</td>\n",
       "      <td>3600 BCE</td>\n",
       "      <td>38.870</td>\n",
       "      <td>-4.02</td>\n",
       "      <td>1117</td>\n",
       "      <td>Basalt / Picro-Basalt</td>\n",
       "      <td>Intraplate / Continental Crust (&gt;25 km)</td>\n",
       "      <td>5618</td>\n",
       "    </tr>\n",
       "    <tr>\n",
       "      <th>211001</th>\n",
       "      <td>Larderello</td>\n",
       "      <td>Italy</td>\n",
       "      <td>Mediterranean and Western Asia</td>\n",
       "      <td>Explosion crater</td>\n",
       "      <td>Eruption Observed</td>\n",
       "      <td>1282 CE</td>\n",
       "      <td>43.250</td>\n",
       "      <td>10.87</td>\n",
       "      <td>500</td>\n",
       "      <td>No Data</td>\n",
       "      <td>Subduction Zone / Continental Crust (&gt;25 km)</td>\n",
       "      <td>736</td>\n",
       "    </tr>\n",
       "  </tbody>\n",
       "</table>\n",
       "</div>"
      ],
      "text/plain": [
       "                             Name  Country                          Region  \\\n",
       "Number                                                                       \n",
       "210010  West Eifel Volcanic Field  Germany  Mediterranean and Western Asia   \n",
       "210020            Chaine des Puys   France  Mediterranean and Western Asia   \n",
       "210030        Olot Volcanic Field    Spain  Mediterranean and Western Asia   \n",
       "210040   Calatrava Volcanic Field    Spain  Mediterranean and Western Asia   \n",
       "211001                 Larderello    Italy  Mediterranean and Western Asia   \n",
       "\n",
       "                    Type  Activity Evidence Last Known Eruption  Latitude  \\\n",
       "Number                                                                      \n",
       "210010              Maar     Eruption Dated            8300 BCE    50.170   \n",
       "210020         Lava dome     Eruption Dated            4040 BCE    45.775   \n",
       "210030  Pyroclastic cone  Evidence Credible             Unknown    42.170   \n",
       "210040  Pyroclastic cone     Eruption Dated            3600 BCE    38.870   \n",
       "211001  Explosion crater  Eruption Observed             1282 CE    43.250   \n",
       "\n",
       "        Longitude  Elevation (Meters)                Dominant Rock Type  \\\n",
       "Number                                                                    \n",
       "210010       6.85                 600                           Foidite   \n",
       "210020       2.97                1464             Basalt / Picro-Basalt   \n",
       "210030       2.53                 893  Trachybasalt / Tephrite Basanite   \n",
       "210040      -4.02                1117             Basalt / Picro-Basalt   \n",
       "211001      10.87                 500                           No Data   \n",
       "\n",
       "                                    Tectonic Setting    Age  \n",
       "Number                                                       \n",
       "210010        Rift Zone / Continental Crust (>25 km)  10318  \n",
       "210020        Rift Zone / Continental Crust (>25 km)   6058  \n",
       "210030       Intraplate / Continental Crust (>25 km)     -1  \n",
       "210040       Intraplate / Continental Crust (>25 km)   5618  \n",
       "211001  Subduction Zone / Continental Crust (>25 km)    736  "
      ]
     },
     "execution_count": 81,
     "metadata": {},
     "output_type": "execute_result"
    }
   ],
   "source": [
    "def calculate_age(volcano):\n",
    "    \"\"\"Return the age of a volcano givin its birthyear.\n",
    "    \n",
    "    Expect CE or BCE specifier. Return -1 if the input is not a year.\n",
    "    \"\"\"\n",
    "    year = volcano['Last Known Eruption']\n",
    "    try:\n",
    "        year, epoch = year.split()\n",
    "        year = int(year)\n",
    "    except ValueError:     # There weren't two values\n",
    "        # Try to treat the value as just a year (CE)\n",
    "        try:\n",
    "            year = int(year)\n",
    "        except ValueError:\n",
    "            return -1\n",
    "    else:\n",
    "        if epoch == 'BCE':\n",
    "            year *= -1\n",
    "    \n",
    "    return 2018 - year\n",
    "\n",
    "df['Age'] = df.apply(calculate_age, axis=1).astype(int)\n",
    "df.head()"
   ]
  },
  {
   "cell_type": "markdown",
   "metadata": {},
   "source": [
    "### Handling Data"
   ]
  },
  {
   "cell_type": "markdown",
   "metadata": {},
   "source": [
    "You can drop duplicates! This is useful for reducing a DataFrame after taking a subset of the columns."
   ]
  },
  {
   "cell_type": "code",
   "execution_count": 141,
   "metadata": {},
   "outputs": [
    {
     "data": {
      "text/html": [
       "<div>\n",
       "<style>\n",
       "    .dataframe thead tr:only-child th {\n",
       "        text-align: right;\n",
       "    }\n",
       "\n",
       "    .dataframe thead th {\n",
       "        text-align: left;\n",
       "    }\n",
       "\n",
       "    .dataframe tbody tr th {\n",
       "        vertical-align: top;\n",
       "    }\n",
       "</style>\n",
       "<table border=\"1\" class=\"dataframe\">\n",
       "  <thead>\n",
       "    <tr style=\"text-align: right;\">\n",
       "      <th></th>\n",
       "      <th>Country</th>\n",
       "      <th>Region</th>\n",
       "    </tr>\n",
       "    <tr>\n",
       "      <th>Number</th>\n",
       "      <th></th>\n",
       "      <th></th>\n",
       "    </tr>\n",
       "  </thead>\n",
       "  <tbody>\n",
       "    <tr>\n",
       "      <th>210010</th>\n",
       "      <td>Germany</td>\n",
       "      <td>Mediterranean and Western Asia</td>\n",
       "    </tr>\n",
       "    <tr>\n",
       "      <th>210020</th>\n",
       "      <td>France</td>\n",
       "      <td>Mediterranean and Western Asia</td>\n",
       "    </tr>\n",
       "    <tr>\n",
       "      <th>210030</th>\n",
       "      <td>Spain</td>\n",
       "      <td>Mediterranean and Western Asia</td>\n",
       "    </tr>\n",
       "    <tr>\n",
       "      <th>211001</th>\n",
       "      <td>Italy</td>\n",
       "      <td>Mediterranean and Western Asia</td>\n",
       "    </tr>\n",
       "    <tr>\n",
       "      <th>212020</th>\n",
       "      <td>Greece</td>\n",
       "      <td>Mediterranean and Western Asia</td>\n",
       "    </tr>\n",
       "  </tbody>\n",
       "</table>\n",
       "</div>"
      ],
      "text/plain": [
       "        Country                          Region\n",
       "Number                                         \n",
       "210010  Germany  Mediterranean and Western Asia\n",
       "210020   France  Mediterranean and Western Asia\n",
       "210030    Spain  Mediterranean and Western Asia\n",
       "211001    Italy  Mediterranean and Western Asia\n",
       "212020   Greece  Mediterranean and Western Asia"
      ]
     },
     "execution_count": 141,
     "metadata": {},
     "output_type": "execute_result"
    }
   ],
   "source": [
    "df = pd.read_csv('data/volc_holocene.csv', header=0, index_col='Number')\n",
    "countries = df[['Country', 'Region']]\n",
    "countries = countries.drop_duplicates()\n",
    "countries.head()"
   ]
  },
  {
   "cell_type": "markdown",
   "metadata": {},
   "source": [
    "You can fill in nan values, on a whole or partial DataFrame or on a Series. The .fillna() method substitutes a value, perhaps the mean or median of a numerical column. The .dropna() method removes rows with a NaN value in them (or columns: axis=1)."
   ]
  },
  {
   "cell_type": "code",
   "execution_count": 4,
   "metadata": {},
   "outputs": [
    {
     "name": "stdout",
     "output_type": "stream",
     "text": [
      "<class 'pandas.core.frame.DataFrame'>\n",
      "Int64Index: 1455 entries, 210010 to 390829\n",
      "Data columns (total 11 columns):\n",
      "Name                   1455 non-null object\n",
      "Country                1455 non-null object\n",
      "Region                 1455 non-null object\n",
      "Type                   1455 non-null object\n",
      "Activity Evidence      1455 non-null object\n",
      "Last Known Eruption    1455 non-null object\n",
      "Latitude               1455 non-null float64\n",
      "Longitude              1455 non-null float64\n",
      "Elevation (Meters)     1455 non-null int64\n",
      "Dominant Rock Type     1455 non-null object\n",
      "Tectonic Setting       1455 non-null object\n",
      "dtypes: float64(2), int64(1), object(8)\n",
      "memory usage: 136.4+ KB\n"
     ]
    }
   ],
   "source": [
    "# df.info() shows the only missing values are under 'Activity Evidence' (1), 'Tectonic Setting' (7),\n",
    "#   and 'Dominant Rock Type' (53). The original df has 1508 entries.\n",
    "no_nulls = df.dropna()\n",
    "no_nulls.info()"
   ]
  },
  {
   "cell_type": "code",
   "execution_count": 5,
   "metadata": {},
   "outputs": [
    {
     "name": "stdout",
     "output_type": "stream",
     "text": [
      "<class 'pandas.core.frame.DataFrame'>\n",
      "Int64Index: 1508 entries, 210010 to 390847\n",
      "Data columns (total 11 columns):\n",
      "Name                   1508 non-null object\n",
      "Country                1508 non-null object\n",
      "Region                 1508 non-null object\n",
      "Type                   1508 non-null object\n",
      "Activity Evidence      1507 non-null object\n",
      "Last Known Eruption    1508 non-null object\n",
      "Latitude               1508 non-null float64\n",
      "Longitude              1508 non-null float64\n",
      "Elevation (Meters)     1508 non-null int64\n",
      "Dominant Rock Type     1508 non-null object\n",
      "Tectonic Setting       1508 non-null object\n",
      "dtypes: float64(2), int64(1), object(8)\n",
      "memory usage: 141.4+ KB\n"
     ]
    }
   ],
   "source": [
    "filled = df.copy()\n",
    "filled['Dominant Rock Type'] = df['Dominant Rock Type'].fillna('No Data')\n",
    "filled['Tectonic Setting'] = df['Tectonic Setting'].fillna('Unknown')\n",
    "filled.info()"
   ]
  },
  {
   "cell_type": "markdown",
   "metadata": {},
   "source": [
    "Get a boolean array of the missing values with the .notnull() or .isnull() methods. This can be used to check if there are any null values by chaining with .all() or .any() (for a Series, or chaining it twice for a DataFrame)."
   ]
  },
  {
   "cell_type": "code",
   "execution_count": 6,
   "metadata": {},
   "outputs": [
    {
     "name": "stdout",
     "output_type": "stream",
     "text": [
      "No nulls in no_nulls:  True\n",
      "Name                   False\n",
      "Country                False\n",
      "Region                 False\n",
      "Type                   False\n",
      "Activity Evidence       True\n",
      "Last Known Eruption    False\n",
      "Latitude               False\n",
      "Longitude              False\n",
      "Elevation (Meters)     False\n",
      "Dominant Rock Type     False\n",
      "Tectonic Setting       False\n",
      "dtype: bool\n"
     ]
    }
   ],
   "source": [
    "print('No nulls in no_nulls: ', no_nulls.notnull().all().all())\n",
    "print(filled.isnull().any())"
   ]
  },
  {
   "cell_type": "markdown",
   "metadata": {},
   "source": [
    "## Merging DataFrames"
   ]
  },
  {
   "cell_type": "markdown",
   "metadata": {},
   "source": [
    "You can change the index of a DataFrame! This might help allign data to combine the DataFrames. "
   ]
  },
  {
   "cell_type": "code",
   "execution_count": 142,
   "metadata": {},
   "outputs": [
    {
     "data": {
      "text/html": [
       "<div>\n",
       "<style>\n",
       "    .dataframe thead tr:only-child th {\n",
       "        text-align: right;\n",
       "    }\n",
       "\n",
       "    .dataframe thead th {\n",
       "        text-align: left;\n",
       "    }\n",
       "\n",
       "    .dataframe tbody tr th {\n",
       "        vertical-align: top;\n",
       "    }\n",
       "</style>\n",
       "<table border=\"1\" class=\"dataframe\">\n",
       "  <thead>\n",
       "    <tr style=\"text-align: right;\">\n",
       "      <th></th>\n",
       "      <th>Name</th>\n",
       "      <th>Country</th>\n",
       "      <th>Region</th>\n",
       "      <th>Type</th>\n",
       "      <th>Activity Evidence</th>\n",
       "      <th>Last Known Eruption</th>\n",
       "      <th>Latitude</th>\n",
       "      <th>Longitude</th>\n",
       "      <th>Elevation (Meters)</th>\n",
       "      <th>Dominant Rock Type</th>\n",
       "      <th>Tectonic Setting</th>\n",
       "    </tr>\n",
       "    <tr>\n",
       "      <th>Number</th>\n",
       "      <th></th>\n",
       "      <th></th>\n",
       "      <th></th>\n",
       "      <th></th>\n",
       "      <th></th>\n",
       "      <th></th>\n",
       "      <th></th>\n",
       "      <th></th>\n",
       "      <th></th>\n",
       "      <th></th>\n",
       "      <th></th>\n",
       "    </tr>\n",
       "  </thead>\n",
       "  <tbody>\n",
       "    <tr>\n",
       "      <th>390847</th>\n",
       "      <td>Melville</td>\n",
       "      <td>Antarctica</td>\n",
       "      <td>Antarctica</td>\n",
       "      <td>Stratovolcano</td>\n",
       "      <td>Evidence Uncertain</td>\n",
       "      <td>Unknown</td>\n",
       "      <td>-62.020</td>\n",
       "      <td>-57.670</td>\n",
       "      <td>549</td>\n",
       "      <td>NaN</td>\n",
       "      <td>Intraplate / Continental Crust (&gt;25 km)</td>\n",
       "    </tr>\n",
       "    <tr>\n",
       "      <th>390829</th>\n",
       "      <td>James Ross Island</td>\n",
       "      <td>Antarctica</td>\n",
       "      <td>Antarctica</td>\n",
       "      <td>Shield</td>\n",
       "      <td>Evidence Credible</td>\n",
       "      <td>Unknown</td>\n",
       "      <td>-64.150</td>\n",
       "      <td>-57.750</td>\n",
       "      <td>1630</td>\n",
       "      <td>Basalt / Picro-Basalt</td>\n",
       "      <td>Intraplate / Continental Crust (&gt;25 km)</td>\n",
       "    </tr>\n",
       "    <tr>\n",
       "      <th>390812</th>\n",
       "      <td>Rittmann, Mount</td>\n",
       "      <td>Antarctica</td>\n",
       "      <td>Antarctica</td>\n",
       "      <td>Shield</td>\n",
       "      <td>Unrest / Pleistocene</td>\n",
       "      <td>Unknown</td>\n",
       "      <td>-73.450</td>\n",
       "      <td>165.500</td>\n",
       "      <td>2600</td>\n",
       "      <td>NaN</td>\n",
       "      <td>Intraplate / Continental Crust (&gt;25 km)</td>\n",
       "    </tr>\n",
       "    <tr>\n",
       "      <th>390140</th>\n",
       "      <td>Protector Seamounts</td>\n",
       "      <td>United Kingdom</td>\n",
       "      <td>Antarctica</td>\n",
       "      <td>Submarine</td>\n",
       "      <td>Eruption Observed</td>\n",
       "      <td>1962 CE</td>\n",
       "      <td>-55.912</td>\n",
       "      <td>-28.167</td>\n",
       "      <td>-55</td>\n",
       "      <td>Rhyolite</td>\n",
       "      <td>Subduction Zone / Oceanic Crust (&lt; 15 km)</td>\n",
       "    </tr>\n",
       "    <tr>\n",
       "      <th>390130</th>\n",
       "      <td>Zavodovski</td>\n",
       "      <td>United Kingdom</td>\n",
       "      <td>Antarctica</td>\n",
       "      <td>Stratovolcano</td>\n",
       "      <td>Eruption Observed</td>\n",
       "      <td>2016 CE</td>\n",
       "      <td>-56.300</td>\n",
       "      <td>-27.570</td>\n",
       "      <td>551</td>\n",
       "      <td>Basalt / Picro-Basalt</td>\n",
       "      <td>Subduction Zone / Oceanic Crust (&lt; 15 km)</td>\n",
       "    </tr>\n",
       "  </tbody>\n",
       "</table>\n",
       "</div>"
      ],
      "text/plain": [
       "                       Name         Country      Region           Type  \\\n",
       "Number                                                                   \n",
       "390847             Melville      Antarctica  Antarctica  Stratovolcano   \n",
       "390829    James Ross Island      Antarctica  Antarctica         Shield   \n",
       "390812      Rittmann, Mount      Antarctica  Antarctica         Shield   \n",
       "390140  Protector Seamounts  United Kingdom  Antarctica      Submarine   \n",
       "390130           Zavodovski  United Kingdom  Antarctica  Stratovolcano   \n",
       "\n",
       "           Activity Evidence Last Known Eruption  Latitude  Longitude  \\\n",
       "Number                                                                  \n",
       "390847    Evidence Uncertain             Unknown   -62.020    -57.670   \n",
       "390829     Evidence Credible             Unknown   -64.150    -57.750   \n",
       "390812  Unrest / Pleistocene             Unknown   -73.450    165.500   \n",
       "390140     Eruption Observed             1962 CE   -55.912    -28.167   \n",
       "390130     Eruption Observed             2016 CE   -56.300    -27.570   \n",
       "\n",
       "        Elevation (Meters)     Dominant Rock Type  \\\n",
       "Number                                              \n",
       "390847                 549                    NaN   \n",
       "390829                1630  Basalt / Picro-Basalt   \n",
       "390812                2600                    NaN   \n",
       "390140                 -55               Rhyolite   \n",
       "390130                 551  Basalt / Picro-Basalt   \n",
       "\n",
       "                                 Tectonic Setting  \n",
       "Number                                             \n",
       "390847    Intraplate / Continental Crust (>25 km)  \n",
       "390829    Intraplate / Continental Crust (>25 km)  \n",
       "390812    Intraplate / Continental Crust (>25 km)  \n",
       "390140  Subduction Zone / Oceanic Crust (< 15 km)  \n",
       "390130  Subduction Zone / Oceanic Crust (< 15 km)  "
      ]
     },
     "execution_count": 142,
     "metadata": {},
     "output_type": "execute_result"
    }
   ],
   "source": [
    "df.reindex(reversed(df.index)).head()              # Isn't this cute?"
   ]
  },
  {
   "cell_type": "code",
   "execution_count": 143,
   "metadata": {},
   "outputs": [
    {
     "data": {
      "text/html": [
       "<div>\n",
       "<style>\n",
       "    .dataframe thead tr:only-child th {\n",
       "        text-align: right;\n",
       "    }\n",
       "\n",
       "    .dataframe thead th {\n",
       "        text-align: left;\n",
       "    }\n",
       "\n",
       "    .dataframe tbody tr th {\n",
       "        vertical-align: top;\n",
       "    }\n",
       "</style>\n",
       "<table border=\"1\" class=\"dataframe\">\n",
       "  <thead>\n",
       "    <tr style=\"text-align: right;\">\n",
       "      <th></th>\n",
       "      <th>Name</th>\n",
       "      <th>Country</th>\n",
       "      <th>Region</th>\n",
       "      <th>Type</th>\n",
       "      <th>Activity Evidence</th>\n",
       "      <th>Last Known Eruption</th>\n",
       "      <th>Latitude</th>\n",
       "      <th>Longitude</th>\n",
       "      <th>Elevation (Meters)</th>\n",
       "      <th>Dominant Rock Type</th>\n",
       "      <th>Tectonic Setting</th>\n",
       "    </tr>\n",
       "    <tr>\n",
       "      <th>Number</th>\n",
       "      <th></th>\n",
       "      <th></th>\n",
       "      <th></th>\n",
       "      <th></th>\n",
       "      <th></th>\n",
       "      <th></th>\n",
       "      <th></th>\n",
       "      <th></th>\n",
       "      <th></th>\n",
       "      <th></th>\n",
       "      <th></th>\n",
       "    </tr>\n",
       "  </thead>\n",
       "  <tbody>\n",
       "    <tr>\n",
       "      <th>210000</th>\n",
       "      <td>NaN</td>\n",
       "      <td>NaN</td>\n",
       "      <td>NaN</td>\n",
       "      <td>NaN</td>\n",
       "      <td>NaN</td>\n",
       "      <td>NaN</td>\n",
       "      <td>NaN</td>\n",
       "      <td>NaN</td>\n",
       "      <td>NaN</td>\n",
       "      <td>NaN</td>\n",
       "      <td>NaN</td>\n",
       "    </tr>\n",
       "    <tr>\n",
       "      <th>210010</th>\n",
       "      <td>West Eifel Volcanic Field</td>\n",
       "      <td>Germany</td>\n",
       "      <td>Mediterranean and Western Asia</td>\n",
       "      <td>Maar(s)</td>\n",
       "      <td>Eruption Dated</td>\n",
       "      <td>8300 BCE</td>\n",
       "      <td>50.170</td>\n",
       "      <td>6.85</td>\n",
       "      <td>600.0</td>\n",
       "      <td>Foidite</td>\n",
       "      <td>Rift Zone / Continental Crust (&gt;25 km)</td>\n",
       "    </tr>\n",
       "    <tr>\n",
       "      <th>210020</th>\n",
       "      <td>Chaine des Puys</td>\n",
       "      <td>France</td>\n",
       "      <td>Mediterranean and Western Asia</td>\n",
       "      <td>Lava dome(s)</td>\n",
       "      <td>Eruption Dated</td>\n",
       "      <td>4040 BCE</td>\n",
       "      <td>45.775</td>\n",
       "      <td>2.97</td>\n",
       "      <td>1464.0</td>\n",
       "      <td>Basalt / Picro-Basalt</td>\n",
       "      <td>Rift Zone / Continental Crust (&gt;25 km)</td>\n",
       "    </tr>\n",
       "    <tr>\n",
       "      <th>210030</th>\n",
       "      <td>Olot Volcanic Field</td>\n",
       "      <td>Spain</td>\n",
       "      <td>Mediterranean and Western Asia</td>\n",
       "      <td>Pyroclastic cone(s)</td>\n",
       "      <td>Evidence Credible</td>\n",
       "      <td>Unknown</td>\n",
       "      <td>42.170</td>\n",
       "      <td>2.53</td>\n",
       "      <td>893.0</td>\n",
       "      <td>Trachybasalt / Tephrite Basanite</td>\n",
       "      <td>Intraplate / Continental Crust (&gt;25 km)</td>\n",
       "    </tr>\n",
       "    <tr>\n",
       "      <th>210040</th>\n",
       "      <td>Calatrava Volcanic Field</td>\n",
       "      <td>Spain</td>\n",
       "      <td>Mediterranean and Western Asia</td>\n",
       "      <td>Pyroclastic cone(s)</td>\n",
       "      <td>Eruption Dated</td>\n",
       "      <td>3600 BCE</td>\n",
       "      <td>38.870</td>\n",
       "      <td>-4.02</td>\n",
       "      <td>1117.0</td>\n",
       "      <td>Basalt / Picro-Basalt</td>\n",
       "      <td>Intraplate / Continental Crust (&gt;25 km)</td>\n",
       "    </tr>\n",
       "  </tbody>\n",
       "</table>\n",
       "</div>"
      ],
      "text/plain": [
       "                             Name  Country                          Region  \\\n",
       "Number                                                                       \n",
       "210000                        NaN      NaN                             NaN   \n",
       "210010  West Eifel Volcanic Field  Germany  Mediterranean and Western Asia   \n",
       "210020            Chaine des Puys   France  Mediterranean and Western Asia   \n",
       "210030        Olot Volcanic Field    Spain  Mediterranean and Western Asia   \n",
       "210040   Calatrava Volcanic Field    Spain  Mediterranean and Western Asia   \n",
       "\n",
       "                       Type  Activity Evidence Last Known Eruption  Latitude  \\\n",
       "Number                                                                         \n",
       "210000                  NaN                NaN                 NaN       NaN   \n",
       "210010              Maar(s)     Eruption Dated            8300 BCE    50.170   \n",
       "210020         Lava dome(s)     Eruption Dated            4040 BCE    45.775   \n",
       "210030  Pyroclastic cone(s)  Evidence Credible             Unknown    42.170   \n",
       "210040  Pyroclastic cone(s)     Eruption Dated            3600 BCE    38.870   \n",
       "\n",
       "        Longitude  Elevation (Meters)                Dominant Rock Type  \\\n",
       "Number                                                                    \n",
       "210000        NaN                 NaN                               NaN   \n",
       "210010       6.85               600.0                           Foidite   \n",
       "210020       2.97              1464.0             Basalt / Picro-Basalt   \n",
       "210030       2.53               893.0  Trachybasalt / Tephrite Basanite   \n",
       "210040      -4.02              1117.0             Basalt / Picro-Basalt   \n",
       "\n",
       "                               Tectonic Setting  \n",
       "Number                                           \n",
       "210000                                      NaN  \n",
       "210010   Rift Zone / Continental Crust (>25 km)  \n",
       "210020   Rift Zone / Continental Crust (>25 km)  \n",
       "210030  Intraplate / Continental Crust (>25 km)  \n",
       "210040  Intraplate / Continental Crust (>25 km)  "
      ]
     },
     "execution_count": 143,
     "metadata": {},
     "output_type": "execute_result"
    }
   ],
   "source": [
    "# Missing values will be filled in. Strip them with .dropna().\n",
    "df.reindex(range(210000, 210060, 10)).head()"
   ]
  },
  {
   "cell_type": "code",
   "execution_count": 146,
   "metadata": {},
   "outputs": [
    {
     "data": {
      "text/html": [
       "<div>\n",
       "<style>\n",
       "    .dataframe thead tr:only-child th {\n",
       "        text-align: right;\n",
       "    }\n",
       "\n",
       "    .dataframe thead th {\n",
       "        text-align: left;\n",
       "    }\n",
       "\n",
       "    .dataframe tbody tr th {\n",
       "        vertical-align: top;\n",
       "    }\n",
       "</style>\n",
       "<table border=\"1\" class=\"dataframe\">\n",
       "  <thead>\n",
       "    <tr style=\"text-align: right;\">\n",
       "      <th></th>\n",
       "      <th>Name</th>\n",
       "      <th>Country</th>\n",
       "      <th>Region</th>\n",
       "      <th>Type</th>\n",
       "      <th>Activity Evidence</th>\n",
       "      <th>Last Known Eruption</th>\n",
       "      <th>Latitude</th>\n",
       "      <th>Longitude</th>\n",
       "      <th>Elevation (Meters)</th>\n",
       "      <th>Dominant Rock Type</th>\n",
       "      <th>Tectonic Setting</th>\n",
       "    </tr>\n",
       "    <tr>\n",
       "      <th>Number</th>\n",
       "      <th></th>\n",
       "      <th></th>\n",
       "      <th></th>\n",
       "      <th></th>\n",
       "      <th></th>\n",
       "      <th></th>\n",
       "      <th></th>\n",
       "      <th></th>\n",
       "      <th></th>\n",
       "      <th></th>\n",
       "      <th></th>\n",
       "    </tr>\n",
       "  </thead>\n",
       "  <tbody>\n",
       "    <tr>\n",
       "      <th>210000</th>\n",
       "      <td>West Eifel Volcanic Field</td>\n",
       "      <td>Germany</td>\n",
       "      <td>Mediterranean and Western Asia</td>\n",
       "      <td>Maar(s)</td>\n",
       "      <td>Eruption Dated</td>\n",
       "      <td>8300 BCE</td>\n",
       "      <td>50.170</td>\n",
       "      <td>6.85</td>\n",
       "      <td>600</td>\n",
       "      <td>Foidite</td>\n",
       "      <td>Rift Zone / Continental Crust (&gt;25 km)</td>\n",
       "    </tr>\n",
       "    <tr>\n",
       "      <th>210010</th>\n",
       "      <td>West Eifel Volcanic Field</td>\n",
       "      <td>Germany</td>\n",
       "      <td>Mediterranean and Western Asia</td>\n",
       "      <td>Maar(s)</td>\n",
       "      <td>Eruption Dated</td>\n",
       "      <td>8300 BCE</td>\n",
       "      <td>50.170</td>\n",
       "      <td>6.85</td>\n",
       "      <td>600</td>\n",
       "      <td>Foidite</td>\n",
       "      <td>Rift Zone / Continental Crust (&gt;25 km)</td>\n",
       "    </tr>\n",
       "    <tr>\n",
       "      <th>210020</th>\n",
       "      <td>Chaine des Puys</td>\n",
       "      <td>France</td>\n",
       "      <td>Mediterranean and Western Asia</td>\n",
       "      <td>Lava dome(s)</td>\n",
       "      <td>Eruption Dated</td>\n",
       "      <td>4040 BCE</td>\n",
       "      <td>45.775</td>\n",
       "      <td>2.97</td>\n",
       "      <td>1464</td>\n",
       "      <td>Basalt / Picro-Basalt</td>\n",
       "      <td>Rift Zone / Continental Crust (&gt;25 km)</td>\n",
       "    </tr>\n",
       "    <tr>\n",
       "      <th>210030</th>\n",
       "      <td>Olot Volcanic Field</td>\n",
       "      <td>Spain</td>\n",
       "      <td>Mediterranean and Western Asia</td>\n",
       "      <td>Pyroclastic cone(s)</td>\n",
       "      <td>Evidence Credible</td>\n",
       "      <td>Unknown</td>\n",
       "      <td>42.170</td>\n",
       "      <td>2.53</td>\n",
       "      <td>893</td>\n",
       "      <td>Trachybasalt / Tephrite Basanite</td>\n",
       "      <td>Intraplate / Continental Crust (&gt;25 km)</td>\n",
       "    </tr>\n",
       "    <tr>\n",
       "      <th>210040</th>\n",
       "      <td>Calatrava Volcanic Field</td>\n",
       "      <td>Spain</td>\n",
       "      <td>Mediterranean and Western Asia</td>\n",
       "      <td>Pyroclastic cone(s)</td>\n",
       "      <td>Eruption Dated</td>\n",
       "      <td>3600 BCE</td>\n",
       "      <td>38.870</td>\n",
       "      <td>-4.02</td>\n",
       "      <td>1117</td>\n",
       "      <td>Basalt / Picro-Basalt</td>\n",
       "      <td>Intraplate / Continental Crust (&gt;25 km)</td>\n",
       "    </tr>\n",
       "  </tbody>\n",
       "</table>\n",
       "</div>"
      ],
      "text/plain": [
       "                             Name  Country                          Region  \\\n",
       "Number                                                                       \n",
       "210000  West Eifel Volcanic Field  Germany  Mediterranean and Western Asia   \n",
       "210010  West Eifel Volcanic Field  Germany  Mediterranean and Western Asia   \n",
       "210020            Chaine des Puys   France  Mediterranean and Western Asia   \n",
       "210030        Olot Volcanic Field    Spain  Mediterranean and Western Asia   \n",
       "210040   Calatrava Volcanic Field    Spain  Mediterranean and Western Asia   \n",
       "\n",
       "                       Type  Activity Evidence Last Known Eruption  Latitude  \\\n",
       "Number                                                                         \n",
       "210000              Maar(s)     Eruption Dated            8300 BCE    50.170   \n",
       "210010              Maar(s)     Eruption Dated            8300 BCE    50.170   \n",
       "210020         Lava dome(s)     Eruption Dated            4040 BCE    45.775   \n",
       "210030  Pyroclastic cone(s)  Evidence Credible             Unknown    42.170   \n",
       "210040  Pyroclastic cone(s)     Eruption Dated            3600 BCE    38.870   \n",
       "\n",
       "        Longitude  Elevation (Meters)                Dominant Rock Type  \\\n",
       "Number                                                                    \n",
       "210000       6.85                 600                           Foidite   \n",
       "210010       6.85                 600                           Foidite   \n",
       "210020       2.97                1464             Basalt / Picro-Basalt   \n",
       "210030       2.53                 893  Trachybasalt / Tephrite Basanite   \n",
       "210040      -4.02                1117             Basalt / Picro-Basalt   \n",
       "\n",
       "                               Tectonic Setting  \n",
       "Number                                           \n",
       "210000   Rift Zone / Continental Crust (>25 km)  \n",
       "210010   Rift Zone / Continental Crust (>25 km)  \n",
       "210020   Rift Zone / Continental Crust (>25 km)  \n",
       "210030  Intraplate / Continental Crust (>25 km)  \n",
       "210040  Intraplate / Continental Crust (>25 km)  "
      ]
     },
     "execution_count": 146,
     "metadata": {},
     "output_type": "execute_result"
    }
   ],
   "source": [
    "# ...or fill in the missing values. Methods are 'ffill' or 'pad', 'bfill' or 'backfill', and 'nearest'.\n",
    "df.reindex(range(210000, 210060, 10), method='nearest').head()"
   ]
  },
  {
   "cell_type": "markdown",
   "metadata": {},
   "source": [
    "#### Arithmetic"
   ]
  },
  {
   "cell_type": "markdown",
   "metadata": {},
   "source": [
    "You can do simple arithmetic with the builtin operators. But for applying operations to multiple columns, to change the axis, or to use special extra arguments (like the fill_value=0 parameter to .add()) you can use and chain arithmetic methods."
   ]
  },
  {
   "cell_type": "code",
   "execution_count": 81,
   "metadata": {},
   "outputs": [
    {
     "data": {
      "text/html": [
       "<div>\n",
       "<style>\n",
       "    .dataframe thead tr:only-child th {\n",
       "        text-align: right;\n",
       "    }\n",
       "\n",
       "    .dataframe thead th {\n",
       "        text-align: left;\n",
       "    }\n",
       "\n",
       "    .dataframe tbody tr th {\n",
       "        vertical-align: top;\n",
       "    }\n",
       "</style>\n",
       "<table border=\"1\" class=\"dataframe\">\n",
       "  <thead>\n",
       "    <tr style=\"text-align: right;\">\n",
       "      <th></th>\n",
       "      <th>Latitude</th>\n",
       "      <th>Longitude</th>\n",
       "    </tr>\n",
       "    <tr>\n",
       "      <th>Number</th>\n",
       "      <th></th>\n",
       "      <th></th>\n",
       "    </tr>\n",
       "  </thead>\n",
       "  <tbody>\n",
       "    <tr>\n",
       "      <th>210010</th>\n",
       "      <td>77.872222</td>\n",
       "      <td>51.902778</td>\n",
       "    </tr>\n",
       "    <tr>\n",
       "      <th>210020</th>\n",
       "      <td>75.430556</td>\n",
       "      <td>50.825000</td>\n",
       "    </tr>\n",
       "    <tr>\n",
       "      <th>210030</th>\n",
       "      <td>73.427778</td>\n",
       "      <td>50.702778</td>\n",
       "    </tr>\n",
       "    <tr>\n",
       "      <th>210040</th>\n",
       "      <td>71.594444</td>\n",
       "      <td>48.883333</td>\n",
       "    </tr>\n",
       "    <tr>\n",
       "      <th>211001</th>\n",
       "      <td>74.027778</td>\n",
       "      <td>53.019444</td>\n",
       "    </tr>\n",
       "  </tbody>\n",
       "</table>\n",
       "</div>"
      ],
      "text/plain": [
       "         Latitude  Longitude\n",
       "Number                      \n",
       "210010  77.872222  51.902778\n",
       "210020  75.430556  50.825000\n",
       "210030  73.427778  50.702778\n",
       "210040  71.594444  48.883333\n",
       "211001  74.027778  53.019444"
      ]
     },
     "execution_count": 81,
     "metadata": {},
     "output_type": "execute_result"
    }
   ],
   "source": [
    "# What percentage of the way around the earth are you?\n",
    "percent_coords = pd.concat([df.Latitude.add(90).divide(180), df.Longitude.add(180).divide(360)], axis=1)\n",
    "percent_coords.multiply(100).head()"
   ]
  },
  {
   "cell_type": "markdown",
   "metadata": {},
   "source": [
    "The .pct_change() method gives the amount of change from the last row (NaN for the first row)`"
   ]
  },
  {
   "cell_type": "code",
   "execution_count": 85,
   "metadata": {},
   "outputs": [
    {
     "data": {
      "text/html": [
       "<div>\n",
       "<style>\n",
       "    .dataframe thead tr:only-child th {\n",
       "        text-align: right;\n",
       "    }\n",
       "\n",
       "    .dataframe thead th {\n",
       "        text-align: left;\n",
       "    }\n",
       "\n",
       "    .dataframe tbody tr th {\n",
       "        vertical-align: top;\n",
       "    }\n",
       "</style>\n",
       "<table border=\"1\" class=\"dataframe\">\n",
       "  <thead>\n",
       "    <tr style=\"text-align: right;\">\n",
       "      <th></th>\n",
       "      <th>Latitude</th>\n",
       "      <th>Longitude</th>\n",
       "    </tr>\n",
       "    <tr>\n",
       "      <th>Number</th>\n",
       "      <th></th>\n",
       "      <th></th>\n",
       "    </tr>\n",
       "  </thead>\n",
       "  <tbody>\n",
       "    <tr>\n",
       "      <th>210010</th>\n",
       "      <td>NaN</td>\n",
       "      <td>NaN</td>\n",
       "    </tr>\n",
       "    <tr>\n",
       "      <th>210020</th>\n",
       "      <td>-0.031355</td>\n",
       "      <td>-0.020765</td>\n",
       "    </tr>\n",
       "    <tr>\n",
       "      <th>210030</th>\n",
       "      <td>-0.026551</td>\n",
       "      <td>-0.002405</td>\n",
       "    </tr>\n",
       "    <tr>\n",
       "      <th>210040</th>\n",
       "      <td>-0.024968</td>\n",
       "      <td>-0.035885</td>\n",
       "    </tr>\n",
       "    <tr>\n",
       "      <th>211001</th>\n",
       "      <td>0.033988</td>\n",
       "      <td>0.084612</td>\n",
       "    </tr>\n",
       "  </tbody>\n",
       "</table>\n",
       "</div>"
      ],
      "text/plain": [
       "                            Name Country                          Region  \\\n",
       "Number                                                                     \n",
       "210040  Calatrava Volcanic Field   Spain  Mediterranean and Western Asia   \n",
       "\n",
       "                       Type Activity Evidence Last Known Eruption  Latitude  \\\n",
       "Number                                                                        \n",
       "210040  Pyroclastic cone(s)    Eruption Dated            3600 BCE     38.87   \n",
       "\n",
       "        Longitude  Elevation (Meters)     Dominant Rock Type  \\\n",
       "Number                                                         \n",
       "210040      -4.02                1117  Basalt / Picro-Basalt   \n",
       "\n",
       "                               Tectonic Setting  \n",
       "Number                                           \n",
       "210040  Intraplate / Continental Crust (>25 km)  "
      ]
     },
     "execution_count": 26,
     "metadata": {},
     "output_type": "execute_result"
    }
   ],
   "source": [
    "# Access a column\n",
    "df['Name']            # As a Series\n",
    "df[['Name']]          # As a DataFrame\n",
    "df[['Name', 'Type']]  # Multiple columns!"
   ]
  },
  {
   "cell_type": "code",
   "execution_count": 32,
   "metadata": {},
   "outputs": [
    {
     "data": {
      "text/html": [
       "<div>\n",
       "<style>\n",
       "    .dataframe thead tr:only-child th {\n",
       "        text-align: right;\n",
       "    }\n",
       "\n",
       "    .dataframe thead th {\n",
       "        text-align: left;\n",
       "    }\n",
       "\n",
       "    .dataframe tbody tr th {\n",
       "        vertical-align: top;\n",
       "    }\n",
       "</style>\n",
       "<table border=\"1\" class=\"dataframe\">\n",
       "  <thead>\n",
       "    <tr style=\"text-align: right;\">\n",
       "      <th></th>\n",
       "      <th>Name</th>\n",
       "      <th>Country</th>\n",
       "      <th>Region</th>\n",
       "      <th>Type</th>\n",
       "      <th>Activity Evidence</th>\n",
       "      <th>Last Known Eruption</th>\n",
       "      <th>Latitude</th>\n",
       "      <th>Longitude</th>\n",
       "      <th>Elevation (Meters)</th>\n",
       "      <th>Dominant Rock Type</th>\n",
       "      <th>Tectonic Setting</th>\n",
       "    </tr>\n",
       "    <tr>\n",
       "      <th>Number</th>\n",
       "      <th></th>\n",
       "      <th></th>\n",
       "      <th></th>\n",
       "      <th></th>\n",
       "      <th></th>\n",
       "      <th></th>\n",
       "      <th></th>\n",
       "      <th></th>\n",
       "      <th></th>\n",
       "      <th></th>\n",
       "      <th></th>\n",
       "    </tr>\n",
       "  </thead>\n",
       "  <tbody>\n",
       "    <tr>\n",
       "      <th>210040</th>\n",
       "      <td>Calatrava Volcanic Field</td>\n",
       "      <td>Spain</td>\n",
       "      <td>Mediterranean and Western Asia</td>\n",
       "      <td>Pyroclastic cone(s)</td>\n",
       "      <td>Eruption Dated</td>\n",
       "      <td>3600 BCE</td>\n",
       "      <td>38.87</td>\n",
       "      <td>-4.020</td>\n",
       "      <td>1117</td>\n",
       "      <td>Basalt / Picro-Basalt</td>\n",
       "      <td>Intraplate / Continental Crust (&gt;25 km)</td>\n",
       "    </tr>\n",
       "    <tr>\n",
       "      <th>211004</th>\n",
       "      <td>Colli Alban</td>\n",
       "      <td>Italy</td>\n",
       "      <td>Mediterranean and Western Asia</td>\n",
       "      <td>Caldera</td>\n",
       "      <td>Evidence Uncertain</td>\n",
       "      <td>Unknown</td>\n",
       "      <td>41.73</td>\n",
       "      <td>12.700</td>\n",
       "      <td>949</td>\n",
       "      <td>Foidite</td>\n",
       "      <td>Subduction Zone / Continental Crust (&gt;25 km)</td>\n",
       "    </tr>\n",
       "    <tr>\n",
       "      <th>211030</th>\n",
       "      <td>Ischia</td>\n",
       "      <td>Italy</td>\n",
       "      <td>Mediterranean and Western Asia</td>\n",
       "      <td>Complex</td>\n",
       "      <td>Eruption Observed</td>\n",
       "      <td>1302 CE</td>\n",
       "      <td>40.73</td>\n",
       "      <td>13.897</td>\n",
       "      <td>789</td>\n",
       "      <td>Trachyte / Trachydacite</td>\n",
       "      <td>Subduction Zone / Continental Crust (&gt;25 km)</td>\n",
       "    </tr>\n",
       "  </tbody>\n",
       "</table>\n",
       "</div>"
      ],
      "text/plain": [
       "                            Name Country                          Region  \\\n",
       "Number                                                                     \n",
       "210040  Calatrava Volcanic Field   Spain  Mediterranean and Western Asia   \n",
       "211004               Colli Alban   Italy  Mediterranean and Western Asia   \n",
       "211030                    Ischia   Italy  Mediterranean and Western Asia   \n",
       "\n",
       "                       Type   Activity Evidence Last Known Eruption  Latitude  \\\n",
       "Number                                                                          \n",
       "210040  Pyroclastic cone(s)      Eruption Dated            3600 BCE     38.87   \n",
       "211004              Caldera  Evidence Uncertain             Unknown     41.73   \n",
       "211030              Complex   Eruption Observed             1302 CE     40.73   \n",
       "\n",
       "        Longitude  Elevation (Meters)       Dominant Rock Type  \\\n",
       "Number                                                           \n",
       "210040     -4.020                1117    Basalt / Picro-Basalt   \n",
       "211004     12.700                 949                  Foidite   \n",
       "211030     13.897                 789  Trachyte / Trachydacite   \n",
       "\n",
       "                                    Tectonic Setting  \n",
       "Number                                                \n",
       "210040       Intraplate / Continental Crust (>25 km)  \n",
       "211004  Subduction Zone / Continental Crust (>25 km)  \n",
       "211030  Subduction Zone / Continental Crust (>25 km)  "
      ]
     },
     "execution_count": 32,
     "metadata": {},
     "output_type": "execute_result"
    }
   ],
   "source": [
    "# Access rows\n",
    "df.loc[210010]               # By key. As a Series\n",
    "df.loc[[210010]]             # As a DataFrame\n",
    "df.loc[[210010, 390847]]     # Multiple rows\n",
    "\n",
    "df.iloc[0]                   # By row index. As a Series\n",
    "df.iloc[[0]]                 # As a DataFrame\n",
    "df[slice(3,10,3)]               # Use a slice! Also df.iloc[slice(3,4)]"
   ]
  },
  {
   "cell_type": "code",
   "execution_count": 21,
   "metadata": {},
   "outputs": [
    {
     "data": {
      "text/html": [
       "<div>\n",
       "<style>\n",
       "    .dataframe thead tr:only-child th {\n",
       "        text-align: right;\n",
       "    }\n",
       "\n",
       "    .dataframe thead th {\n",
       "        text-align: left;\n",
       "    }\n",
       "\n",
       "    .dataframe tbody tr th {\n",
       "        vertical-align: top;\n",
       "    }\n",
       "</style>\n",
       "<table border=\"1\" class=\"dataframe\">\n",
       "  <thead>\n",
       "    <tr style=\"text-align: right;\">\n",
       "      <th></th>\n",
       "      <th>Name</th>\n",
       "      <th>Country</th>\n",
       "      <th>Region</th>\n",
       "      <th>Type</th>\n",
       "      <th>Activity Evidence</th>\n",
       "      <th>Last Known Eruption</th>\n",
       "      <th>Latitude</th>\n",
       "      <th>Longitude</th>\n",
       "      <th>Elevation (Meters)</th>\n",
       "      <th>Dominant Rock Type</th>\n",
       "      <th>Tectonic Setting</th>\n",
       "    </tr>\n",
       "    <tr>\n",
       "      <th>Number</th>\n",
       "      <th></th>\n",
       "      <th></th>\n",
       "      <th></th>\n",
       "      <th></th>\n",
       "      <th></th>\n",
       "      <th></th>\n",
       "      <th></th>\n",
       "      <th></th>\n",
       "      <th></th>\n",
       "      <th></th>\n",
       "      <th></th>\n",
       "    </tr>\n",
       "  </thead>\n",
       "  <tbody>\n",
       "    <tr>\n",
       "      <th>210010</th>\n",
       "      <td>West Eifel Volcanic Field</td>\n",
       "      <td>Germany</td>\n",
       "      <td>Mediterranean and Western Asia</td>\n",
       "      <td>Maar(s)</td>\n",
       "      <td>Eruption Dated</td>\n",
       "      <td>8300 BCE</td>\n",
       "      <td>50.17</td>\n",
       "      <td>6.85</td>\n",
       "      <td>600</td>\n",
       "      <td>Foidite</td>\n",
       "      <td>Rift Zone / Continental Crust (&gt;25 km)</td>\n",
       "    </tr>\n",
       "    <tr>\n",
       "      <th>390847</th>\n",
       "      <td>Melville</td>\n",
       "      <td>Antarctica</td>\n",
       "      <td>Antarctica</td>\n",
       "      <td>Stratovolcano</td>\n",
       "      <td>Evidence Uncertain</td>\n",
       "      <td>Unknown</td>\n",
       "      <td>-62.02</td>\n",
       "      <td>-57.67</td>\n",
       "      <td>549</td>\n",
       "      <td>NaN</td>\n",
       "      <td>Intraplate / Continental Crust (&gt;25 km)</td>\n",
       "    </tr>\n",
       "  </tbody>\n",
       "</table>\n",
       "</div>"
      ],
      "text/plain": [
       "                             Name     Country                          Region  \\\n",
       "Number                                                                          \n",
       "210010  West Eifel Volcanic Field     Germany  Mediterranean and Western Asia   \n",
       "390847                   Melville  Antarctica                      Antarctica   \n",
       "\n",
       "                 Type   Activity Evidence Last Known Eruption  Latitude  \\\n",
       "Number                                                                    \n",
       "210010        Maar(s)      Eruption Dated            8300 BCE     50.17   \n",
       "390847  Stratovolcano  Evidence Uncertain             Unknown    -62.02   \n",
       "\n",
       "        Longitude  Elevation (Meters) Dominant Rock Type  \\\n",
       "Number                                                     \n",
       "210010       6.85                 600            Foidite   \n",
       "390847     -57.67                 549                NaN   \n",
       "\n",
       "                               Tectonic Setting  \n",
       "Number                                           \n",
       "210010   Rift Zone / Continental Crust (>25 km)  \n",
       "390847  Intraplate / Continental Crust (>25 km)  "
      ]
     },
     "execution_count": 21,
     "metadata": {},
     "output_type": "execute_result"
    }
   ],
   "source": [
    "# Rows and columns!\n",
    "df.loc[[210010, 390847], ['Name', 'Type']]\n",
    "df.loc[[210010, 390847], :]                  # Slice to get all values!\n",
    "df.iloc[:, ['Name', 'Type']]"
   ]
  },
  {
   "cell_type": "markdown",
   "metadata": {},
   "source": [
    "### Filtering"
   ]
  },
  {
   "cell_type": "markdown",
   "metadata": {},
   "source": [
    "Select based on a criteria by creating a boolean array, then passing it as an index to the DataFrame"
   ]
  },
  {
   "cell_type": "code",
   "execution_count": 19,
   "metadata": {},
   "outputs": [
    {
     "data": {
      "text/html": [
       "<div>\n",
       "<style>\n",
       "    .dataframe thead tr:only-child th {\n",
       "        text-align: right;\n",
       "    }\n",
       "\n",
       "    .dataframe thead th {\n",
       "        text-align: left;\n",
       "    }\n",
       "\n",
       "    .dataframe tbody tr th {\n",
       "        vertical-align: top;\n",
       "    }\n",
       "</style>\n",
       "<table border=\"1\" class=\"dataframe\">\n",
       "  <thead>\n",
       "    <tr style=\"text-align: right;\">\n",
       "      <th></th>\n",
       "      <th>A</th>\n",
       "      <th>B</th>\n",
       "      <th>C</th>\n",
       "    </tr>\n",
       "  </thead>\n",
       "  <tbody>\n",
       "    <tr>\n",
       "      <th>73</th>\n",
       "      <td>13</td>\n",
       "      <td>94</td>\n",
       "      <td>51</td>\n",
       "    </tr>\n",
       "    <tr>\n",
       "      <th>74</th>\n",
       "      <td>13</td>\n",
       "      <td>97</td>\n",
       "      <td>55</td>\n",
       "    </tr>\n",
       "    <tr>\n",
       "      <th>82</th>\n",
       "      <td>83</td>\n",
       "      <td>98</td>\n",
       "      <td>59</td>\n",
       "    </tr>\n",
       "    <tr>\n",
       "      <th>84</th>\n",
       "      <td>95</td>\n",
       "      <td>99</td>\n",
       "      <td>62</td>\n",
       "    </tr>\n",
       "    <tr>\n",
       "      <th>94</th>\n",
       "      <td>27</td>\n",
       "      <td>95</td>\n",
       "      <td>14</td>\n",
       "    </tr>\n",
       "  </tbody>\n",
       "</table>\n",
       "</div>"
      ],
      "text/plain": [
       "     A   B   C\n",
       "73  13  94  51\n",
       "74  13  97  55\n",
       "82  83  98  59\n",
       "84  95  99  62\n",
       "94  27  95  14"
      ]
     },
     "execution_count": 19,
     "metadata": {},
     "output_type": "execute_result"
    }
   ],
   "source": [
    "df = pd.DataFrame(np.random.randint(10, 100, (100, 3)), columns=['A', 'B', 'C'])\n",
    "big_B = df.B > 90\n",
    "df[big_B]         # Or all together as df[df.B > 90]"
   ]
  },
  {
   "cell_type": "markdown",
   "metadata": {},
   "source": [
    "Apply a function to a DataFrame or Series."
   ]
  },
  {
   "cell_type": "code",
   "execution_count": 28,
   "metadata": {},
   "outputs": [
    {
     "data": {
      "text/plain": [
       "A    <class 'pandas.core.series.Series'>\n",
       "B    <class 'pandas.core.series.Series'>\n",
       "C    <class 'pandas.core.series.Series'>\n",
       "dtype: object"
      ]
     },
     "execution_count": 28,
     "metadata": {},
     "output_type": "execute_result"
    }
   ],
   "source": [
    "df.apply(type)"
   ]
  },
  {
   "cell_type": "markdown",
   "metadata": {},
   "source": [
    "### Iteration"
   ]
  },
  {
   "cell_type": "markdown",
   "metadata": {},
   "source": [
    "Iterate through the column names in the dataframe."
   ]
  },
  {
   "cell_type": "code",
   "execution_count": 24,
   "metadata": {
    "collapsed": true
   },
   "outputs": [],
   "source": [
    "for column_name in df:\n",
    "    if int(label) % 13 == 0:\n",
    "        print(column_name)"
   ]
  },
  {
   "cell_type": "markdown",
   "metadata": {},
   "source": [
    "Iterate through the rows, with the indices. The row comes as a Series."
   ]
  },
  {
   "cell_type": "code",
   "execution_count": 23,
   "metadata": {},
   "outputs": [
    {
     "name": "stdout",
     "output_type": "stream",
     "text": [
      "0 23\n",
      "1 86\n",
      "2 45\n",
      "3 50\n",
      "4 56\n",
      "5 14\n",
      "6 10\n",
      "7 47\n",
      "8 32\n",
      "9 56\n",
      "10 70\n",
      "11 20\n",
      "12 38\n",
      "13 38\n",
      "14 79\n",
      "15 74\n",
      "16 79\n",
      "17 68\n",
      "18 91\n",
      "19 40\n",
      "20 96\n",
      "21 23\n",
      "22 23\n",
      "23 80\n",
      "24 76\n",
      "25 50\n",
      "26 69\n",
      "27 16\n",
      "28 55\n",
      "29 39\n",
      "30 41\n",
      "31 69\n",
      "32 84\n",
      "33 72\n",
      "34 69\n",
      "35 14\n",
      "36 15\n",
      "37 63\n",
      "38 83\n",
      "39 60\n",
      "40 94\n",
      "41 48\n",
      "42 69\n",
      "43 10\n",
      "44 78\n",
      "45 86\n",
      "46 50\n",
      "47 30\n",
      "48 19\n",
      "49 19\n",
      "50 74\n",
      "51 96\n",
      "52 20\n",
      "53 24\n",
      "54 19\n",
      "55 74\n",
      "56 80\n",
      "57 59\n",
      "58 61\n",
      "59 85\n",
      "60 99\n",
      "61 59\n",
      "62 81\n",
      "63 13\n",
      "64 52\n",
      "65 87\n",
      "66 69\n",
      "67 57\n",
      "68 33\n",
      "69 37\n",
      "70 72\n",
      "71 48\n",
      "72 18\n",
      "73 13\n",
      "74 13\n",
      "75 32\n",
      "76 39\n",
      "77 21\n",
      "78 55\n",
      "79 35\n",
      "80 67\n",
      "81 47\n",
      "82 83\n",
      "83 46\n",
      "84 95\n",
      "85 73\n",
      "86 99\n",
      "87 95\n",
      "88 17\n",
      "89 57\n",
      "90 92\n",
      "91 32\n",
      "92 48\n",
      "93 43\n",
      "94 27\n",
      "95 40\n",
      "96 50\n",
      "97 96\n",
      "98 58\n",
      "99 18\n"
     ]
    }
   ],
   "source": [
    "for label, row in df.iterrows():\n",
    "    print(label, row.iloc[0])"
   ]
  },
  {
   "cell_type": "markdown",
   "metadata": {},
   "source": [
    "### Analysis"
   ]
  },
  {
   "cell_type": "code",
   "execution_count": 14,
   "metadata": {},
   "outputs": [
    {
     "name": "stdout",
     "output_type": "stream",
     "text": [
      "<class 'pandas.core.frame.DataFrame'>\n",
      "RangeIndex: 1508 entries, 0 to 1507\n",
      "Data columns (total 12 columns):\n",
      "Number                 1508 non-null int64\n",
      "Name                   1508 non-null object\n",
      "Country                1508 non-null object\n",
      "Region                 1508 non-null object\n",
      "Type                   1508 non-null object\n",
      "Activity Evidence      1507 non-null object\n",
      "Last Known Eruption    1508 non-null object\n",
      "Latitude               1508 non-null float64\n",
      "Longitude              1508 non-null float64\n",
      "Elevation (Meters)     1508 non-null int64\n",
      "Dominant Rock Type     1455 non-null object\n",
      "Tectonic Setting       1501 non-null object\n",
      "dtypes: float64(2), int64(2), object(8)\n",
      "memory usage: 141.5+ KB\n"
     ]
    }
   ],
   "source": [
    "df.info()    # Info on column types and counts"
   ]
  },
  {
   "cell_type": "code",
   "execution_count": 15,
   "metadata": {},
   "outputs": [
    {
     "data": {
      "text/html": [
       "<div>\n",
       "<style>\n",
       "    .dataframe thead tr:only-child th {\n",
       "        text-align: right;\n",
       "    }\n",
       "\n",
       "    .dataframe thead th {\n",
       "        text-align: left;\n",
       "    }\n",
       "\n",
       "    .dataframe tbody tr th {\n",
       "        vertical-align: top;\n",
       "    }\n",
       "</style>\n",
       "<table border=\"1\" class=\"dataframe\">\n",
       "  <thead>\n",
       "    <tr style=\"text-align: right;\">\n",
       "      <th></th>\n",
       "      <th>Number</th>\n",
       "      <th>Latitude</th>\n",
       "      <th>Longitude</th>\n",
       "      <th>Elevation (Meters)</th>\n",
       "    </tr>\n",
       "  </thead>\n",
       "  <tbody>\n",
       "    <tr>\n",
       "      <th>count</th>\n",
       "      <td>1508.000000</td>\n",
       "      <td>1508.000000</td>\n",
       "      <td>1508.000000</td>\n",
       "      <td>1508.000000</td>\n",
       "    </tr>\n",
       "    <tr>\n",
       "      <th>mean</th>\n",
       "      <td>296656.110743</td>\n",
       "      <td>14.083156</td>\n",
       "      <td>23.391469</td>\n",
       "      <td>1683.357427</td>\n",
       "    </tr>\n",
       "    <tr>\n",
       "      <th>std</th>\n",
       "      <td>48861.852600</td>\n",
       "      <td>31.871107</td>\n",
       "      <td>113.656588</td>\n",
       "      <td>1571.102885</td>\n",
       "    </tr>\n",
       "    <tr>\n",
       "      <th>min</th>\n",
       "      <td>210010.000000</td>\n",
       "      <td>-78.500000</td>\n",
       "      <td>-179.970000</td>\n",
       "      <td>-4200.000000</td>\n",
       "    </tr>\n",
       "    <tr>\n",
       "      <th>25%</th>\n",
       "      <td>261157.500000</td>\n",
       "      <td>-7.068750</td>\n",
       "      <td>-78.274250</td>\n",
       "      <td>687.250000</td>\n",
       "    </tr>\n",
       "    <tr>\n",
       "      <th>50%</th>\n",
       "      <td>300015.000000</td>\n",
       "      <td>13.861500</td>\n",
       "      <td>38.390000</td>\n",
       "      <td>1464.000000</td>\n",
       "    </tr>\n",
       "    <tr>\n",
       "      <th>75%</th>\n",
       "      <td>342123.250000</td>\n",
       "      <td>41.748750</td>\n",
       "      <td>138.578000</td>\n",
       "      <td>2352.250000</td>\n",
       "    </tr>\n",
       "    <tr>\n",
       "      <th>max</th>\n",
       "      <td>390847.000000</td>\n",
       "      <td>85.608000</td>\n",
       "      <td>179.580000</td>\n",
       "      <td>6879.000000</td>\n",
       "    </tr>\n",
       "  </tbody>\n",
       "</table>\n",
       "</div>"
      ],
      "text/plain": [
       "              Number     Latitude    Longitude  Elevation (Meters)\n",
       "count    1508.000000  1508.000000  1508.000000         1508.000000\n",
       "mean   296656.110743    14.083156    23.391469         1683.357427\n",
       "std     48861.852600    31.871107   113.656588         1571.102885\n",
       "min    210010.000000   -78.500000  -179.970000        -4200.000000\n",
       "25%    261157.500000    -7.068750   -78.274250          687.250000\n",
       "50%    300015.000000    13.861500    38.390000         1464.000000\n",
       "75%    342123.250000    41.748750   138.578000         2352.250000\n",
       "max    390847.000000    85.608000   179.580000         6879.000000"
      ]
     },
     "execution_count": 15,
     "metadata": {},
     "output_type": "execute_result"
    }
   ],
   "source": [
    "df.describe()   # Basic statistics on column values "
   ]
  },
  {
   "cell_type": "markdown",
   "metadata": {},
   "source": [
    "## Cleaning\n",
    "### Exploratory Data Analysis"
   ]
  },
  {
   "cell_type": "code",
   "execution_count": 64,
   "metadata": {},
   "outputs": [
    {
     "name": "stdout",
     "output_type": "stream",
     "text": [
      "<class 'pandas.core.frame.DataFrame'>\n",
      "Int64Index: 1508 entries, 210010 to 390847\n",
      "Data columns (total 11 columns):\n",
      "Name                   1508 non-null object\n",
      "Country                1508 non-null object\n",
      "Region                 1508 non-null object\n",
      "Type                   1508 non-null object\n",
      "Activity Evidence      1507 non-null object\n",
      "Last Known Eruption    1508 non-null object\n",
      "Latitude               1508 non-null float64\n",
      "Longitude              1508 non-null float64\n",
      "Elevation (Meters)     1508 non-null int64\n",
      "Dominant Rock Type     1455 non-null object\n",
      "Tectonic Setting       1501 non-null object\n",
      "dtypes: float64(2), int64(1), object(8)\n",
      "memory usage: 141.4+ KB\n"
     ]
    }
   ],
   "source": [
    "# Reload this guy\n",
    "df = pd.read_csv('data/volc_holocene.csv', header=0, index_col='Number')\n",
    "# Check missing values and surprising data types. Strings appear as 'object'\n",
    "df.info()"
   ]
  },
  {
   "cell_type": "code",
   "execution_count": 75,
   "metadata": {},
   "outputs": [
    {
     "data": {
      "text/plain": [
       "South America                     197\n",
       "Indonesia                         142\n",
       "Japan, Taiwan, Marianas           141\n",
       "Kamchatka and Mainland Asia       132\n",
       "Africa and Red Sea                131\n",
       "México and Central America        120\n",
       "Alaska                             88\n",
       "Melanesia and Australia            80\n",
       "Canada and Western USA             71\n",
       "Philippines and SE Asia            62\n",
       "New Zealand to Fiji                60\n",
       "Middle East and Indian Ocean       46\n",
       "Kuril Islands                      46\n",
       "Mediterranean and Western Asia     44\n",
       "Antarctica                         34\n",
       "Iceland and Arctic Ocean           34\n",
       "Hawaii and Pacific Ocean           33\n",
       "Atlantic Ocean                     30\n",
       "West Indies                        17\n",
       "Name: Region, dtype: int64"
      ]
     },
     "execution_count": 75,
     "metadata": {},
     "output_type": "execute_result"
    }
   ],
   "source": [
    "# Check the frequency of values\n",
    "df.Region.value_counts(dropna=False)"
   ]
  },
  {
   "cell_type": "markdown",
   "metadata": {},
   "source": [
    "#### With graphs"
   ]
  },
  {
   "cell_type": "code",
   "execution_count": 74,
   "metadata": {},
   "outputs": [
    {
     "data": {
      "text/plain": [
       "[]"
      ]
     },
     "execution_count": 74,
     "metadata": {},
     "output_type": "execute_result"
    },
    {
     "data": {
      "image/png": "[encoded data removed]",
      "text/plain": [
       "<matplotlib.figure.Figure at 0x1cc6fdc94e0>"
      ]
     },
     "metadata": {},
     "output_type": "display_data"
    }
   ],
   "source": [
    "df['Elevation (Meters)'].hist() # Optional parameters include logx, logy (booleans)\n",
    "                                # rot (degrees to rotate x label)\n",
    "plt.plot()"
   ]
  },
  {
   "cell_type": "code",
   "execution_count": 77,
   "metadata": {},
   "outputs": [
    {
     "name": "stderr",
     "output_type": "stream",
     "text": [
      "C:\\ProgramData\\Anaconda3\\lib\\site-packages\\numpy\\core\\fromnumeric.py:57: FutureWarning: reshape is deprecated and will raise in a subsequent release. Please use .values.reshape(...) instead\n",
      "  return getattr(obj, method)(*args, **kwds)\n"
     ]
    },
    {
     "data": {
      "text/plain": [
       "[]"
      ]
     },
     "execution_count": 77,
     "metadata": {},
     "output_type": "execute_result"
    },
    {
     "data": {
      "image/png": "[encoded data removed]",
      "text/plain": [
       "<matplotlib.figure.Figure at 0x1cc70779898>"
      ]
     },
     "metadata": {},
     "output_type": "display_data"
    }
   ],
   "source": [
    "# Another slightly nonsensical plot...\n",
    "df.boxplot(column='Latitude', by='Region', rot=80)\n",
    "plt.plot()"
   ]
  }
 ],
 "metadata": {
  "kernelspec": {
   "display_name": "Python 3",
   "language": "python",
   "name": "python3"
  },
  "language_info": {
   "codemirror_mode": {
    "name": "ipython",
    "version": 3
   },
   "file_extension": ".py",
   "mimetype": "text/x-python",
   "name": "python",
   "nbconvert_exporter": "python",
   "pygments_lexer": "ipython3",
   "version": "3.6.3"
  }
 },
 "nbformat": 4,
 "nbformat_minor": 2
}
