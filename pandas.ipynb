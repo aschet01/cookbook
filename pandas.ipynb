{
 "cells": [
  {
   "cell_type": "markdown",
   "metadata": {},
   "source": [
    "# Pandas cookbook"
   ]
  },
  {
   "cell_type": "code",
   "execution_count": 3,
   "metadata": {
    "collapsed": true
   },
   "outputs": [],
   "source": [
    "%matplotlib inline\n",
    "import pandas as pd\n",
    "import numpy as np\n",
    "import matplotlib.pyplot as plt"
   ]
  },
  {
   "cell_type": "markdown",
   "metadata": {},
   "source": [
    "## Creating DataFrames"
   ]
  },
  {
   "cell_type": "markdown",
   "metadata": {},
   "source": [
    "### Building a DataFrame"
   ]
  },
  {
   "cell_type": "markdown",
   "metadata": {},
   "source": [
    "Pass a dictionary of {column_name: column_values}. Using list(zip()) may be useful for adding names to values"
   ]
  },
  {
   "cell_type": "code",
   "execution_count": 21,
   "metadata": {},
   "outputs": [
    {
     "name": "stdout",
     "output_type": "stream",
     "text": [
      "   A    B\n",
      "0  1    I\n",
      "1  2   II\n",
      "2  3  III\n"
     ]
    }
   ],
   "source": [
    "my_df = pd.DataFrame({'A': [1, 2, 3], 'B': ['I', 'II', 'III']})\n",
    "print(my_df)"
   ]
  },
  {
   "cell_type": "markdown",
   "metadata": {},
   "source": [
    "Broadcast a single value to all rows"
   ]
  },
  {
   "cell_type": "code",
   "execution_count": 27,
   "metadata": {},
   "outputs": [
    {
     "name": "stdout",
     "output_type": "stream",
     "text": [
      "   A    Type\n",
      "0  1  Number\n",
      "1  2  Number\n",
      "2  3  Number\n"
     ]
    }
   ],
   "source": [
    "my_df = pd.DataFrame({'A': [1, 2, 3], 'Type': 'Number'})\n",
    "print(my_df)"
   ]
  },
  {
   "cell_type": "markdown",
   "metadata": {},
   "source": [
    "Random numbers in a DataFrame"
   ]
  },
  {
   "cell_type": "code",
   "execution_count": 22,
   "metadata": {},
   "outputs": [
    {
     "name": "stdout",
     "output_type": "stream",
     "text": [
      "   A  B  C\n",
      "0  6  8  7\n",
      "1  3  8  6\n",
      "2  6  9  0\n"
     ]
    }
   ],
   "source": [
    "my_df = pd.DataFrame(np.random.randint(low=0, high=10, size=(3,3)),\n",
    "                     columns=['A', 'B', 'C'])\n",
    "print(my_df)"
   ]
  },
  {
   "cell_type": "markdown",
   "metadata": {},
   "source": [
    "Setting the index"
   ]
  },
  {
   "cell_type": "code",
   "execution_count": 4,
   "metadata": {},
   "outputs": [
    {
     "name": "stdout",
     "output_type": "stream",
     "text": [
      "     On  Tw  Th\n",
      "Fir   8   8   2\n",
      "Sec   6   5   5\n",
      "Thi   5   0   9\n"
     ]
    }
   ],
   "source": [
    "my_df = pd.DataFrame(np.random.randint(low=0, high=10, size=(3,3)),\n",
    "                     columns=['On', 'Tw', 'Th'])\n",
    "my_df.index = ['Fir', 'Sec', 'Thi']\n",
    "print(my_df)"
   ]
  },
  {
   "cell_type": "markdown",
   "metadata": {},
   "source": [
    "### Reading Into a DataFrame"
   ]
  },
  {
   "cell_type": "markdown",
   "metadata": {},
   "source": [
    "From CSV:"
   ]
  },
  {
   "cell_type": "code",
   "execution_count": 19,
   "metadata": {},
   "outputs": [
    {
     "data": {
      "text/html": [
       "<div>\n",
       "<style>\n",
       "    .dataframe thead tr:only-child th {\n",
       "        text-align: right;\n",
       "    }\n",
       "\n",
       "    .dataframe thead th {\n",
       "        text-align: left;\n",
       "    }\n",
       "\n",
       "    .dataframe tbody tr th {\n",
       "        vertical-align: top;\n",
       "    }\n",
       "</style>\n",
       "<table border=\"1\" class=\"dataframe\">\n",
       "  <thead>\n",
       "    <tr style=\"text-align: right;\">\n",
       "      <th></th>\n",
       "      <th>Name</th>\n",
       "      <th>Country</th>\n",
       "      <th>Region</th>\n",
       "      <th>Type</th>\n",
       "      <th>Activity Evidence</th>\n",
       "      <th>Last Known Eruption</th>\n",
       "      <th>Latitude</th>\n",
       "      <th>Longitude</th>\n",
       "      <th>Elevation (Meters)</th>\n",
       "      <th>Dominant Rock Type</th>\n",
       "      <th>Tectonic Setting</th>\n",
       "    </tr>\n",
       "    <tr>\n",
       "      <th>Number</th>\n",
       "      <th></th>\n",
       "      <th></th>\n",
       "      <th></th>\n",
       "      <th></th>\n",
       "      <th></th>\n",
       "      <th></th>\n",
       "      <th></th>\n",
       "      <th></th>\n",
       "      <th></th>\n",
       "      <th></th>\n",
       "      <th></th>\n",
       "    </tr>\n",
       "  </thead>\n",
       "  <tbody>\n",
       "    <tr>\n",
       "      <th>210010</th>\n",
       "      <td>West Eifel Volcanic Field</td>\n",
       "      <td>Germany</td>\n",
       "      <td>Mediterranean and Western Asia</td>\n",
       "      <td>Maar(s)</td>\n",
       "      <td>Eruption Dated</td>\n",
       "      <td>8300 BCE</td>\n",
       "      <td>50.170</td>\n",
       "      <td>6.85</td>\n",
       "      <td>600</td>\n",
       "      <td>Foidite</td>\n",
       "      <td>Rift Zone / Continental Crust (&gt;25 km)</td>\n",
       "    </tr>\n",
       "    <tr>\n",
       "      <th>210020</th>\n",
       "      <td>Chaine des Puys</td>\n",
       "      <td>France</td>\n",
       "      <td>Mediterranean and Western Asia</td>\n",
       "      <td>Lava dome(s)</td>\n",
       "      <td>Eruption Dated</td>\n",
       "      <td>4040 BCE</td>\n",
       "      <td>45.775</td>\n",
       "      <td>2.97</td>\n",
       "      <td>1464</td>\n",
       "      <td>Basalt / Picro-Basalt</td>\n",
       "      <td>Rift Zone / Continental Crust (&gt;25 km)</td>\n",
       "    </tr>\n",
       "    <tr>\n",
       "      <th>210030</th>\n",
       "      <td>Olot Volcanic Field</td>\n",
       "      <td>Spain</td>\n",
       "      <td>Mediterranean and Western Asia</td>\n",
       "      <td>Pyroclastic cone(s)</td>\n",
       "      <td>Evidence Credible</td>\n",
       "      <td>Unknown</td>\n",
       "      <td>42.170</td>\n",
       "      <td>2.53</td>\n",
       "      <td>893</td>\n",
       "      <td>Trachybasalt / Tephrite Basanite</td>\n",
       "      <td>Intraplate / Continental Crust (&gt;25 km)</td>\n",
       "    </tr>\n",
       "  </tbody>\n",
       "</table>\n",
       "</div>"
      ],
      "text/plain": [
       "                             Name  Country                          Region  \\\n",
       "Number                                                                       \n",
       "210010  West Eifel Volcanic Field  Germany  Mediterranean and Western Asia   \n",
       "210020            Chaine des Puys   France  Mediterranean and Western Asia   \n",
       "210030        Olot Volcanic Field    Spain  Mediterranean and Western Asia   \n",
       "\n",
       "                       Type  Activity Evidence Last Known Eruption  Latitude  \\\n",
       "Number                                                                         \n",
       "210010              Maar(s)     Eruption Dated            8300 BCE    50.170   \n",
       "210020         Lava dome(s)     Eruption Dated            4040 BCE    45.775   \n",
       "210030  Pyroclastic cone(s)  Evidence Credible             Unknown    42.170   \n",
       "\n",
       "        Longitude  Elevation (Meters)                Dominant Rock Type  \\\n",
       "Number                                                                    \n",
       "210010       6.85                 600                           Foidite   \n",
       "210020       2.97                1464             Basalt / Picro-Basalt   \n",
       "210030       2.53                 893  Trachybasalt / Tephrite Basanite   \n",
       "\n",
       "                               Tectonic Setting  \n",
       "Number                                           \n",
       "210010   Rift Zone / Continental Crust (>25 km)  \n",
       "210020   Rift Zone / Continental Crust (>25 km)  \n",
       "210030  Intraplate / Continental Crust (>25 km)  "
      ]
     },
     "execution_count": 19,
     "metadata": {},
     "output_type": "execute_result"
    }
   ],
   "source": [
    "df = pd.read_csv('./volc_holocene.csv',\n",
    "                 header=0,    # Give the row with the column names\n",
    "                              # Start reading data from after this point\n",
    "                              # Can be a list for setting a multi-index\n",
    "                              # Set None if there are no names\n",
    "                 delimiter=',', # Override the delimiter\n",
    "                 comment='#', # Specify a comment marker\n",
    "                 nrows=3,     # Limit the number of rows to read\n",
    "                 index_col='Number', # Give a column name or number to\n",
    "                )                    #    become the index\n",
    "df.head()"
   ]
  },
  {
   "cell_type": "markdown",
   "metadata": {},
   "source": [
    "#### To a numpy array"
   ]
  },
  {
   "cell_type": "markdown",
   "metadata": {},
   "source": [
    "From a text file: (homogeneous)"
   ]
  },
  {
   "cell_type": "code",
   "execution_count": 10,
   "metadata": {},
   "outputs": [
    {
     "data": {
      "text/plain": [
       "array([[ 400,  180,  160, 1400],\n",
       "       [  20,    8,    7,    1],\n",
       "       [ 140,   50,   40,   35]])"
      ]
     },
     "execution_count": 10,
     "metadata": {},
     "output_type": "execute_result"
    }
   ],
   "source": [
    "data = np.loadtxt('dimensions.txt',   # Source file\n",
    "                  skiprows=1,         # A number of rows to skip at the top\n",
    "                  usecols=[1, 2, 3, 4],   # A list of row indices to take\n",
    "                  dtype=int,          # Specify the data type\n",
    "                  delimiter='/')      # Default is whitespace\n",
    "data"
   ]
  },
  {
   "cell_type": "markdown",
   "metadata": {},
   "source": [
    "Loading a structured (heterogeneous) array:"
   ]
  },
  {
   "cell_type": "code",
   "execution_count": 16,
   "metadata": {},
   "outputs": [
    {
     "data": {
      "text/plain": [
       "35"
      ]
     },
     "execution_count": 16,
     "metadata": {},
     "output_type": "execute_result"
    }
   ],
   "source": [
    "data = np.genfromtxt('dimensions.txt',\n",
    "                     dtype=None,                    # Infer column data types\n",
    "                     delimiter='/',\n",
    "                     names=True)                    # Store column names from first row\n",
    "np.shape(data)          # This is a 1-D array, with labelled entries for each row\n",
    "data[2]['Weight']       # Access by index AND/OR column number"
   ]
  },
  {
   "cell_type": "markdown",
   "metadata": {},
   "source": [
    "The default dtype here is None, and we get a record array:"
   ]
  },
  {
   "cell_type": "code",
   "execution_count": 18,
   "metadata": {},
   "outputs": [
    {
     "data": {
      "text/plain": [
       "rec.array([(b'Car', 400, 180, 160, 1400), (b'Bread',  20,   8,   7,    1),\n",
       " (b'Coffee Table', 140,  50,  40,   35)], \n",
       "          dtype=[('Name', 'S12'), ('Length', '<i4'), ('Width', '<i4'), ('Height', '<i4'), ('Weight', '<i4')])"
      ]
     },
     "execution_count": 18,
     "metadata": {},
     "output_type": "execute_result"
    }
   ],
   "source": [
    "data = np.recfromtxt('dimensions.txt', delimiter='/', names=True)\n",
    "data"
   ]
  },
  {
   "cell_type": "markdown",
   "metadata": {},
   "source": [
    "Loading and plotting pixel data:"
   ]
  },
  {
   "cell_type": "code",
   "execution_count": null,
   "metadata": {
    "collapsed": true
   },
   "outputs": [],
   "source": [
    "# values = np.readtext(input_file)  # Assumes whitespace-separated\n",
    "# image_square = np.reshape(values, (h, w))\n",
    "# plt.imshow(image_square, cmap='Greys', interpolation='nearest')\n",
    "# plt.show()"
   ]
  },
  {
   "cell_type": "markdown",
   "metadata": {},
   "source": [
    "## Exploring a DataFrame"
   ]
  },
  {
   "cell_type": "markdown",
   "metadata": {},
   "source": [
    "### Examining values"
   ]
  },
  {
   "cell_type": "code",
   "execution_count": 13,
   "metadata": {},
   "outputs": [
    {
     "data": {
      "text/html": [
       "<div>\n",
       "<style>\n",
       "    .dataframe thead tr:only-child th {\n",
       "        text-align: right;\n",
       "    }\n",
       "\n",
       "    .dataframe thead th {\n",
       "        text-align: left;\n",
       "    }\n",
       "\n",
       "    .dataframe tbody tr th {\n",
       "        vertical-align: top;\n",
       "    }\n",
       "</style>\n",
       "<table border=\"1\" class=\"dataframe\">\n",
       "  <thead>\n",
       "    <tr style=\"text-align: right;\">\n",
       "      <th></th>\n",
       "      <th>Number</th>\n",
       "      <th>Name</th>\n",
       "      <th>Country</th>\n",
       "      <th>Region</th>\n",
       "      <th>Type</th>\n",
       "      <th>Activity Evidence</th>\n",
       "      <th>Last Known Eruption</th>\n",
       "      <th>Latitude</th>\n",
       "      <th>Longitude</th>\n",
       "      <th>Elevation (Meters)</th>\n",
       "      <th>Dominant Rock Type</th>\n",
       "      <th>Tectonic Setting</th>\n",
       "    </tr>\n",
       "  </thead>\n",
       "  <tbody>\n",
       "    <tr>\n",
       "      <th>1505</th>\n",
       "      <td>390812</td>\n",
       "      <td>Rittmann, Mount</td>\n",
       "      <td>Antarctica</td>\n",
       "      <td>Antarctica</td>\n",
       "      <td>Shield</td>\n",
       "      <td>Unrest / Pleistocene</td>\n",
       "      <td>Unknown</td>\n",
       "      <td>-73.45</td>\n",
       "      <td>165.50</td>\n",
       "      <td>2600</td>\n",
       "      <td>NaN</td>\n",
       "      <td>Intraplate / Continental Crust (&gt;25 km)</td>\n",
       "    </tr>\n",
       "    <tr>\n",
       "      <th>1506</th>\n",
       "      <td>390829</td>\n",
       "      <td>James Ross Island</td>\n",
       "      <td>Antarctica</td>\n",
       "      <td>Antarctica</td>\n",
       "      <td>Shield</td>\n",
       "      <td>Evidence Credible</td>\n",
       "      <td>Unknown</td>\n",
       "      <td>-64.15</td>\n",
       "      <td>-57.75</td>\n",
       "      <td>1630</td>\n",
       "      <td>Basalt / Picro-Basalt</td>\n",
       "      <td>Intraplate / Continental Crust (&gt;25 km)</td>\n",
       "    </tr>\n",
       "    <tr>\n",
       "      <th>1507</th>\n",
       "      <td>390847</td>\n",
       "      <td>Melville</td>\n",
       "      <td>Antarctica</td>\n",
       "      <td>Antarctica</td>\n",
       "      <td>Stratovolcano</td>\n",
       "      <td>Evidence Uncertain</td>\n",
       "      <td>Unknown</td>\n",
       "      <td>-62.02</td>\n",
       "      <td>-57.67</td>\n",
       "      <td>549</td>\n",
       "      <td>NaN</td>\n",
       "      <td>Intraplate / Continental Crust (&gt;25 km)</td>\n",
       "    </tr>\n",
       "  </tbody>\n",
       "</table>\n",
       "</div>"
      ],
      "text/plain": [
       "      Number               Name     Country      Region           Type  \\\n",
       "1505  390812    Rittmann, Mount  Antarctica  Antarctica         Shield   \n",
       "1506  390829  James Ross Island  Antarctica  Antarctica         Shield   \n",
       "1507  390847           Melville  Antarctica  Antarctica  Stratovolcano   \n",
       "\n",
       "         Activity Evidence Last Known Eruption  Latitude  Longitude  \\\n",
       "1505  Unrest / Pleistocene             Unknown    -73.45     165.50   \n",
       "1506     Evidence Credible             Unknown    -64.15     -57.75   \n",
       "1507    Evidence Uncertain             Unknown    -62.02     -57.67   \n",
       "\n",
       "      Elevation (Meters)     Dominant Rock Type  \\\n",
       "1505                2600                    NaN   \n",
       "1506                1630  Basalt / Picro-Basalt   \n",
       "1507                 549                    NaN   \n",
       "\n",
       "                             Tectonic Setting  \n",
       "1505  Intraplate / Continental Crust (>25 km)  \n",
       "1506  Intraplate / Continental Crust (>25 km)  \n",
       "1507  Intraplate / Continental Crust (>25 km)  "
      ]
     },
     "execution_count": 13,
     "metadata": {},
     "output_type": "execute_result"
    }
   ],
   "source": [
    "n = 3\n",
    "df.head(n)    # Show the first n rows, default 5\n",
    "df.tail(n)    # Show the last n rows, default 5"
   ]
  },
  {
   "cell_type": "code",
   "execution_count": 16,
   "metadata": {
    "scrolled": true
   },
   "outputs": [
    {
     "data": {
      "text/plain": [
       "array([[210010, 'West Eifel Volcanic Field', 'Germany', ..., 600,\n",
       "        'Foidite', 'Rift Zone / Continental Crust (>25 km)'],\n",
       "       [210020, 'Chaine des Puys', 'France', ..., 1464,\n",
       "        'Basalt / Picro-Basalt', 'Rift Zone / Continental Crust (>25 km)'],\n",
       "       [210030, 'Olot Volcanic Field', 'Spain', ..., 893,\n",
       "        'Trachybasalt / Tephrite Basanite',\n",
       "        'Intraplate / Continental Crust (>25 km)'],\n",
       "       ..., \n",
       "       [390812, 'Rittmann, Mount', 'Antarctica', ..., 2600, nan,\n",
       "        'Intraplate / Continental Crust (>25 km)'],\n",
       "       [390829, 'James Ross Island', 'Antarctica', ..., 1630,\n",
       "        'Basalt / Picro-Basalt', 'Intraplate / Continental Crust (>25 km)'],\n",
       "       [390847, 'Melville', 'Antarctica', ..., 549, nan,\n",
       "        'Intraplate / Continental Crust (>25 km)']], dtype=object)"
      ]
     },
     "execution_count": 16,
     "metadata": {},
     "output_type": "execute_result"
    }
   ],
   "source": [
    "df.values    # Convert to np.array"
   ]
  },
  {
   "cell_type": "code",
   "execution_count": 24,
   "metadata": {},
   "outputs": [
    {
     "data": {
      "text/plain": [
       "Index(['Number', 'Name', 'Country', 'Region', 'Type', 'Activity Evidence',\n",
       "       'Last Known Eruption', 'Latitude', 'Longitude', 'Elevation (Meters)',\n",
       "       'Dominant Rock Type', 'Tectonic Setting'],\n",
       "      dtype='object')"
      ]
     },
     "execution_count": 24,
     "metadata": {},
     "output_type": "execute_result"
    }
   ],
   "source": [
    "df.columns    # Get or set the column names"
   ]
  },
  {
   "cell_type": "code",
   "execution_count": 25,
   "metadata": {},
   "outputs": [
    {
     "data": {
      "text/plain": [
       "RangeIndex(start=0, stop=1508, step=1)"
      ]
     },
     "execution_count": 25,
     "metadata": {},
     "output_type": "execute_result"
    }
   ],
   "source": [
    "df.index    # Get or set the DataFrame's index"
   ]
  },
  {
   "cell_type": "code",
   "execution_count": 26,
   "metadata": {},
   "outputs": [
    {
     "data": {
      "text/html": [
       "<div>\n",
       "<style>\n",
       "    .dataframe thead tr:only-child th {\n",
       "        text-align: right;\n",
       "    }\n",
       "\n",
       "    .dataframe thead th {\n",
       "        text-align: left;\n",
       "    }\n",
       "\n",
       "    .dataframe tbody tr th {\n",
       "        vertical-align: top;\n",
       "    }\n",
       "</style>\n",
       "<table border=\"1\" class=\"dataframe\">\n",
       "  <thead>\n",
       "    <tr style=\"text-align: right;\">\n",
       "      <th></th>\n",
       "      <th>Name</th>\n",
       "      <th>Country</th>\n",
       "      <th>Region</th>\n",
       "      <th>Type</th>\n",
       "      <th>Activity Evidence</th>\n",
       "      <th>Last Known Eruption</th>\n",
       "      <th>Latitude</th>\n",
       "      <th>Longitude</th>\n",
       "      <th>Elevation (Meters)</th>\n",
       "      <th>Dominant Rock Type</th>\n",
       "      <th>Tectonic Setting</th>\n",
       "    </tr>\n",
       "    <tr>\n",
       "      <th>Number</th>\n",
       "      <th></th>\n",
       "      <th></th>\n",
       "      <th></th>\n",
       "      <th></th>\n",
       "      <th></th>\n",
       "      <th></th>\n",
       "      <th></th>\n",
       "      <th></th>\n",
       "      <th></th>\n",
       "      <th></th>\n",
       "      <th></th>\n",
       "    </tr>\n",
       "  </thead>\n",
       "  <tbody>\n",
       "    <tr>\n",
       "      <th>210040</th>\n",
       "      <td>Calatrava Volcanic Field</td>\n",
       "      <td>Spain</td>\n",
       "      <td>Mediterranean and Western Asia</td>\n",
       "      <td>Pyroclastic cone(s)</td>\n",
       "      <td>Eruption Dated</td>\n",
       "      <td>3600 BCE</td>\n",
       "      <td>38.87</td>\n",
       "      <td>-4.02</td>\n",
       "      <td>1117</td>\n",
       "      <td>Basalt / Picro-Basalt</td>\n",
       "      <td>Intraplate / Continental Crust (&gt;25 km)</td>\n",
       "    </tr>\n",
       "  </tbody>\n",
       "</table>\n",
       "</div>"
      ],
      "text/plain": [
       "                            Name Country                          Region  \\\n",
       "Number                                                                     \n",
       "210040  Calatrava Volcanic Field   Spain  Mediterranean and Western Asia   \n",
       "\n",
       "                       Type Activity Evidence Last Known Eruption  Latitude  \\\n",
       "Number                                                                        \n",
       "210040  Pyroclastic cone(s)    Eruption Dated            3600 BCE     38.87   \n",
       "\n",
       "        Longitude  Elevation (Meters)     Dominant Rock Type  \\\n",
       "Number                                                         \n",
       "210040      -4.02                1117  Basalt / Picro-Basalt   \n",
       "\n",
       "                               Tectonic Setting  \n",
       "Number                                           \n",
       "210040  Intraplate / Continental Crust (>25 km)  "
      ]
     },
     "execution_count": 26,
     "metadata": {},
     "output_type": "execute_result"
    }
   ],
   "source": [
    "# Access a column\n",
    "df['Name']            # As a Series\n",
    "df[['Name']]          # As a DataFrame\n",
    "df[['Name', 'Type']]  # Multiple columns!"
   ]
  },
  {
   "cell_type": "code",
   "execution_count": 32,
   "metadata": {},
   "outputs": [
    {
     "data": {
      "text/html": [
       "<div>\n",
       "<style>\n",
       "    .dataframe thead tr:only-child th {\n",
       "        text-align: right;\n",
       "    }\n",
       "\n",
       "    .dataframe thead th {\n",
       "        text-align: left;\n",
       "    }\n",
       "\n",
       "    .dataframe tbody tr th {\n",
       "        vertical-align: top;\n",
       "    }\n",
       "</style>\n",
       "<table border=\"1\" class=\"dataframe\">\n",
       "  <thead>\n",
       "    <tr style=\"text-align: right;\">\n",
       "      <th></th>\n",
       "      <th>Name</th>\n",
       "      <th>Country</th>\n",
       "      <th>Region</th>\n",
       "      <th>Type</th>\n",
       "      <th>Activity Evidence</th>\n",
       "      <th>Last Known Eruption</th>\n",
       "      <th>Latitude</th>\n",
       "      <th>Longitude</th>\n",
       "      <th>Elevation (Meters)</th>\n",
       "      <th>Dominant Rock Type</th>\n",
       "      <th>Tectonic Setting</th>\n",
       "    </tr>\n",
       "    <tr>\n",
       "      <th>Number</th>\n",
       "      <th></th>\n",
       "      <th></th>\n",
       "      <th></th>\n",
       "      <th></th>\n",
       "      <th></th>\n",
       "      <th></th>\n",
       "      <th></th>\n",
       "      <th></th>\n",
       "      <th></th>\n",
       "      <th></th>\n",
       "      <th></th>\n",
       "    </tr>\n",
       "  </thead>\n",
       "  <tbody>\n",
       "    <tr>\n",
       "      <th>210040</th>\n",
       "      <td>Calatrava Volcanic Field</td>\n",
       "      <td>Spain</td>\n",
       "      <td>Mediterranean and Western Asia</td>\n",
       "      <td>Pyroclastic cone(s)</td>\n",
       "      <td>Eruption Dated</td>\n",
       "      <td>3600 BCE</td>\n",
       "      <td>38.87</td>\n",
       "      <td>-4.020</td>\n",
       "      <td>1117</td>\n",
       "      <td>Basalt / Picro-Basalt</td>\n",
       "      <td>Intraplate / Continental Crust (&gt;25 km)</td>\n",
       "    </tr>\n",
       "    <tr>\n",
       "      <th>211004</th>\n",
       "      <td>Colli Alban</td>\n",
       "      <td>Italy</td>\n",
       "      <td>Mediterranean and Western Asia</td>\n",
       "      <td>Caldera</td>\n",
       "      <td>Evidence Uncertain</td>\n",
       "      <td>Unknown</td>\n",
       "      <td>41.73</td>\n",
       "      <td>12.700</td>\n",
       "      <td>949</td>\n",
       "      <td>Foidite</td>\n",
       "      <td>Subduction Zone / Continental Crust (&gt;25 km)</td>\n",
       "    </tr>\n",
       "    <tr>\n",
       "      <th>211030</th>\n",
       "      <td>Ischia</td>\n",
       "      <td>Italy</td>\n",
       "      <td>Mediterranean and Western Asia</td>\n",
       "      <td>Complex</td>\n",
       "      <td>Eruption Observed</td>\n",
       "      <td>1302 CE</td>\n",
       "      <td>40.73</td>\n",
       "      <td>13.897</td>\n",
       "      <td>789</td>\n",
       "      <td>Trachyte / Trachydacite</td>\n",
       "      <td>Subduction Zone / Continental Crust (&gt;25 km)</td>\n",
       "    </tr>\n",
       "  </tbody>\n",
       "</table>\n",
       "</div>"
      ],
      "text/plain": [
       "                            Name Country                          Region  \\\n",
       "Number                                                                     \n",
       "210040  Calatrava Volcanic Field   Spain  Mediterranean and Western Asia   \n",
       "211004               Colli Alban   Italy  Mediterranean and Western Asia   \n",
       "211030                    Ischia   Italy  Mediterranean and Western Asia   \n",
       "\n",
       "                       Type   Activity Evidence Last Known Eruption  Latitude  \\\n",
       "Number                                                                          \n",
       "210040  Pyroclastic cone(s)      Eruption Dated            3600 BCE     38.87   \n",
       "211004              Caldera  Evidence Uncertain             Unknown     41.73   \n",
       "211030              Complex   Eruption Observed             1302 CE     40.73   \n",
       "\n",
       "        Longitude  Elevation (Meters)       Dominant Rock Type  \\\n",
       "Number                                                           \n",
       "210040     -4.020                1117    Basalt / Picro-Basalt   \n",
       "211004     12.700                 949                  Foidite   \n",
       "211030     13.897                 789  Trachyte / Trachydacite   \n",
       "\n",
       "                                    Tectonic Setting  \n",
       "Number                                                \n",
       "210040       Intraplate / Continental Crust (>25 km)  \n",
       "211004  Subduction Zone / Continental Crust (>25 km)  \n",
       "211030  Subduction Zone / Continental Crust (>25 km)  "
      ]
     },
     "execution_count": 32,
     "metadata": {},
     "output_type": "execute_result"
    }
   ],
   "source": [
    "# Access rows\n",
    "df.loc[210010]               # By key. As a Series\n",
    "df.loc[[210010]]             # As a DataFrame\n",
    "df.loc[[210010, 390847]]     # Multiple rows\n",
    "\n",
    "df.iloc[0]                   # By row index. As a Series\n",
    "df.iloc[[0]]                 # As a DataFrame\n",
    "df[slice(3,10,3)]               # Use a slice! Also df.iloc[slice(3,4)]"
   ]
  },
  {
   "cell_type": "code",
   "execution_count": 21,
   "metadata": {},
   "outputs": [
    {
     "data": {
      "text/html": [
       "<div>\n",
       "<style>\n",
       "    .dataframe thead tr:only-child th {\n",
       "        text-align: right;\n",
       "    }\n",
       "\n",
       "    .dataframe thead th {\n",
       "        text-align: left;\n",
       "    }\n",
       "\n",
       "    .dataframe tbody tr th {\n",
       "        vertical-align: top;\n",
       "    }\n",
       "</style>\n",
       "<table border=\"1\" class=\"dataframe\">\n",
       "  <thead>\n",
       "    <tr style=\"text-align: right;\">\n",
       "      <th></th>\n",
       "      <th>Name</th>\n",
       "      <th>Country</th>\n",
       "      <th>Region</th>\n",
       "      <th>Type</th>\n",
       "      <th>Activity Evidence</th>\n",
       "      <th>Last Known Eruption</th>\n",
       "      <th>Latitude</th>\n",
       "      <th>Longitude</th>\n",
       "      <th>Elevation (Meters)</th>\n",
       "      <th>Dominant Rock Type</th>\n",
       "      <th>Tectonic Setting</th>\n",
       "    </tr>\n",
       "    <tr>\n",
       "      <th>Number</th>\n",
       "      <th></th>\n",
       "      <th></th>\n",
       "      <th></th>\n",
       "      <th></th>\n",
       "      <th></th>\n",
       "      <th></th>\n",
       "      <th></th>\n",
       "      <th></th>\n",
       "      <th></th>\n",
       "      <th></th>\n",
       "      <th></th>\n",
       "    </tr>\n",
       "  </thead>\n",
       "  <tbody>\n",
       "    <tr>\n",
       "      <th>210010</th>\n",
       "      <td>West Eifel Volcanic Field</td>\n",
       "      <td>Germany</td>\n",
       "      <td>Mediterranean and Western Asia</td>\n",
       "      <td>Maar(s)</td>\n",
       "      <td>Eruption Dated</td>\n",
       "      <td>8300 BCE</td>\n",
       "      <td>50.17</td>\n",
       "      <td>6.85</td>\n",
       "      <td>600</td>\n",
       "      <td>Foidite</td>\n",
       "      <td>Rift Zone / Continental Crust (&gt;25 km)</td>\n",
       "    </tr>\n",
       "    <tr>\n",
       "      <th>390847</th>\n",
       "      <td>Melville</td>\n",
       "      <td>Antarctica</td>\n",
       "      <td>Antarctica</td>\n",
       "      <td>Stratovolcano</td>\n",
       "      <td>Evidence Uncertain</td>\n",
       "      <td>Unknown</td>\n",
       "      <td>-62.02</td>\n",
       "      <td>-57.67</td>\n",
       "      <td>549</td>\n",
       "      <td>NaN</td>\n",
       "      <td>Intraplate / Continental Crust (&gt;25 km)</td>\n",
       "    </tr>\n",
       "  </tbody>\n",
       "</table>\n",
       "</div>"
      ],
      "text/plain": [
       "                             Name     Country                          Region  \\\n",
       "Number                                                                          \n",
       "210010  West Eifel Volcanic Field     Germany  Mediterranean and Western Asia   \n",
       "390847                   Melville  Antarctica                      Antarctica   \n",
       "\n",
       "                 Type   Activity Evidence Last Known Eruption  Latitude  \\\n",
       "Number                                                                    \n",
       "210010        Maar(s)      Eruption Dated            8300 BCE     50.17   \n",
       "390847  Stratovolcano  Evidence Uncertain             Unknown    -62.02   \n",
       "\n",
       "        Longitude  Elevation (Meters) Dominant Rock Type  \\\n",
       "Number                                                     \n",
       "210010       6.85                 600            Foidite   \n",
       "390847     -57.67                 549                NaN   \n",
       "\n",
       "                               Tectonic Setting  \n",
       "Number                                           \n",
       "210010   Rift Zone / Continental Crust (>25 km)  \n",
       "390847  Intraplate / Continental Crust (>25 km)  "
      ]
     },
     "execution_count": 21,
     "metadata": {},
     "output_type": "execute_result"
    }
   ],
   "source": [
    "# Rows and columns!\n",
    "df.loc[[210010, 390847], ['Name', 'Type']]\n",
    "df.loc[[210010, 390847], :]                  # Slice to get all values!\n",
    "df.iloc[:, ['Name', 'Type']]"
   ]
  },
  {
   "cell_type": "markdown",
   "metadata": {},
   "source": [
    "### Filtering"
   ]
  },
  {
   "cell_type": "markdown",
   "metadata": {},
   "source": [
    "Select based on a criteria by creating a boolean array, then passing it as an index to the DataFrame"
   ]
  },
  {
   "cell_type": "code",
   "execution_count": 19,
   "metadata": {},
   "outputs": [
    {
     "data": {
      "text/html": [
       "<div>\n",
       "<style>\n",
       "    .dataframe thead tr:only-child th {\n",
       "        text-align: right;\n",
       "    }\n",
       "\n",
       "    .dataframe thead th {\n",
       "        text-align: left;\n",
       "    }\n",
       "\n",
       "    .dataframe tbody tr th {\n",
       "        vertical-align: top;\n",
       "    }\n",
       "</style>\n",
       "<table border=\"1\" class=\"dataframe\">\n",
       "  <thead>\n",
       "    <tr style=\"text-align: right;\">\n",
       "      <th></th>\n",
       "      <th>A</th>\n",
       "      <th>B</th>\n",
       "      <th>C</th>\n",
       "    </tr>\n",
       "  </thead>\n",
       "  <tbody>\n",
       "    <tr>\n",
       "      <th>73</th>\n",
       "      <td>13</td>\n",
       "      <td>94</td>\n",
       "      <td>51</td>\n",
       "    </tr>\n",
       "    <tr>\n",
       "      <th>74</th>\n",
       "      <td>13</td>\n",
       "      <td>97</td>\n",
       "      <td>55</td>\n",
       "    </tr>\n",
       "    <tr>\n",
       "      <th>82</th>\n",
       "      <td>83</td>\n",
       "      <td>98</td>\n",
       "      <td>59</td>\n",
       "    </tr>\n",
       "    <tr>\n",
       "      <th>84</th>\n",
       "      <td>95</td>\n",
       "      <td>99</td>\n",
       "      <td>62</td>\n",
       "    </tr>\n",
       "    <tr>\n",
       "      <th>94</th>\n",
       "      <td>27</td>\n",
       "      <td>95</td>\n",
       "      <td>14</td>\n",
       "    </tr>\n",
       "  </tbody>\n",
       "</table>\n",
       "</div>"
      ],
      "text/plain": [
       "     A   B   C\n",
       "73  13  94  51\n",
       "74  13  97  55\n",
       "82  83  98  59\n",
       "84  95  99  62\n",
       "94  27  95  14"
      ]
     },
     "execution_count": 19,
     "metadata": {},
     "output_type": "execute_result"
    }
   ],
   "source": [
    "df = pd.DataFrame(np.random.randint(10, 100, (100, 3)), columns=['A', 'B', 'C'])\n",
    "big_B = df.B > 90\n",
    "df[big_B]         # Or all together as df[df.B > 90]"
   ]
  },
  {
   "cell_type": "markdown",
   "metadata": {},
   "source": [
    "Apply a function to a DataFrame or Series."
   ]
  },
  {
   "cell_type": "code",
   "execution_count": 28,
   "metadata": {},
   "outputs": [
    {
     "data": {
      "text/plain": [
       "A    <class 'pandas.core.series.Series'>\n",
       "B    <class 'pandas.core.series.Series'>\n",
       "C    <class 'pandas.core.series.Series'>\n",
       "dtype: object"
      ]
     },
     "execution_count": 28,
     "metadata": {},
     "output_type": "execute_result"
    }
   ],
   "source": [
    "df.apply(type)"
   ]
  },
  {
   "cell_type": "markdown",
   "metadata": {},
   "source": [
    "### Iteration"
   ]
  },
  {
   "cell_type": "markdown",
   "metadata": {},
   "source": [
    "Iterate through the column names in the dataframe."
   ]
  },
  {
   "cell_type": "code",
   "execution_count": 24,
   "metadata": {
    "collapsed": true
   },
   "outputs": [],
   "source": [
    "for column_name in df:\n",
    "    if int(label) % 13 == 0:\n",
    "        print(column_name)"
   ]
  },
  {
   "cell_type": "markdown",
   "metadata": {},
   "source": [
    "Iterate through the rows, with the indices. The row comes as a Series."
   ]
  },
  {
   "cell_type": "code",
   "execution_count": 23,
   "metadata": {},
   "outputs": [
    {
     "name": "stdout",
     "output_type": "stream",
     "text": [
      "0 23\n",
      "1 86\n",
      "2 45\n",
      "3 50\n",
      "4 56\n",
      "5 14\n",
      "6 10\n",
      "7 47\n",
      "8 32\n",
      "9 56\n",
      "10 70\n",
      "11 20\n",
      "12 38\n",
      "13 38\n",
      "14 79\n",
      "15 74\n",
      "16 79\n",
      "17 68\n",
      "18 91\n",
      "19 40\n",
      "20 96\n",
      "21 23\n",
      "22 23\n",
      "23 80\n",
      "24 76\n",
      "25 50\n",
      "26 69\n",
      "27 16\n",
      "28 55\n",
      "29 39\n",
      "30 41\n",
      "31 69\n",
      "32 84\n",
      "33 72\n",
      "34 69\n",
      "35 14\n",
      "36 15\n",
      "37 63\n",
      "38 83\n",
      "39 60\n",
      "40 94\n",
      "41 48\n",
      "42 69\n",
      "43 10\n",
      "44 78\n",
      "45 86\n",
      "46 50\n",
      "47 30\n",
      "48 19\n",
      "49 19\n",
      "50 74\n",
      "51 96\n",
      "52 20\n",
      "53 24\n",
      "54 19\n",
      "55 74\n",
      "56 80\n",
      "57 59\n",
      "58 61\n",
      "59 85\n",
      "60 99\n",
      "61 59\n",
      "62 81\n",
      "63 13\n",
      "64 52\n",
      "65 87\n",
      "66 69\n",
      "67 57\n",
      "68 33\n",
      "69 37\n",
      "70 72\n",
      "71 48\n",
      "72 18\n",
      "73 13\n",
      "74 13\n",
      "75 32\n",
      "76 39\n",
      "77 21\n",
      "78 55\n",
      "79 35\n",
      "80 67\n",
      "81 47\n",
      "82 83\n",
      "83 46\n",
      "84 95\n",
      "85 73\n",
      "86 99\n",
      "87 95\n",
      "88 17\n",
      "89 57\n",
      "90 92\n",
      "91 32\n",
      "92 48\n",
      "93 43\n",
      "94 27\n",
      "95 40\n",
      "96 50\n",
      "97 96\n",
      "98 58\n",
      "99 18\n"
     ]
    }
   ],
   "source": [
    "for label, row in df.iterrows():\n",
    "    print(label, row.iloc[0])"
   ]
  },
  {
   "cell_type": "markdown",
   "metadata": {},
   "source": [
    "### Analysis"
   ]
  },
  {
   "cell_type": "code",
   "execution_count": 14,
   "metadata": {},
   "outputs": [
    {
     "name": "stdout",
     "output_type": "stream",
     "text": [
      "<class 'pandas.core.frame.DataFrame'>\n",
      "RangeIndex: 1508 entries, 0 to 1507\n",
      "Data columns (total 12 columns):\n",
      "Number                 1508 non-null int64\n",
      "Name                   1508 non-null object\n",
      "Country                1508 non-null object\n",
      "Region                 1508 non-null object\n",
      "Type                   1508 non-null object\n",
      "Activity Evidence      1507 non-null object\n",
      "Last Known Eruption    1508 non-null object\n",
      "Latitude               1508 non-null float64\n",
      "Longitude              1508 non-null float64\n",
      "Elevation (Meters)     1508 non-null int64\n",
      "Dominant Rock Type     1455 non-null object\n",
      "Tectonic Setting       1501 non-null object\n",
      "dtypes: float64(2), int64(2), object(8)\n",
      "memory usage: 141.5+ KB\n"
     ]
    }
   ],
   "source": [
    "df.info()    # Info on column types and counts"
   ]
  },
  {
   "cell_type": "code",
   "execution_count": 15,
   "metadata": {},
   "outputs": [
    {
     "data": {
      "text/html": [
       "<div>\n",
       "<style>\n",
       "    .dataframe thead tr:only-child th {\n",
       "        text-align: right;\n",
       "    }\n",
       "\n",
       "    .dataframe thead th {\n",
       "        text-align: left;\n",
       "    }\n",
       "\n",
       "    .dataframe tbody tr th {\n",
       "        vertical-align: top;\n",
       "    }\n",
       "</style>\n",
       "<table border=\"1\" class=\"dataframe\">\n",
       "  <thead>\n",
       "    <tr style=\"text-align: right;\">\n",
       "      <th></th>\n",
       "      <th>Number</th>\n",
       "      <th>Latitude</th>\n",
       "      <th>Longitude</th>\n",
       "      <th>Elevation (Meters)</th>\n",
       "    </tr>\n",
       "  </thead>\n",
       "  <tbody>\n",
       "    <tr>\n",
       "      <th>count</th>\n",
       "      <td>1508.000000</td>\n",
       "      <td>1508.000000</td>\n",
       "      <td>1508.000000</td>\n",
       "      <td>1508.000000</td>\n",
       "    </tr>\n",
       "    <tr>\n",
       "      <th>mean</th>\n",
       "      <td>296656.110743</td>\n",
       "      <td>14.083156</td>\n",
       "      <td>23.391469</td>\n",
       "      <td>1683.357427</td>\n",
       "    </tr>\n",
       "    <tr>\n",
       "      <th>std</th>\n",
       "      <td>48861.852600</td>\n",
       "      <td>31.871107</td>\n",
       "      <td>113.656588</td>\n",
       "      <td>1571.102885</td>\n",
       "    </tr>\n",
       "    <tr>\n",
       "      <th>min</th>\n",
       "      <td>210010.000000</td>\n",
       "      <td>-78.500000</td>\n",
       "      <td>-179.970000</td>\n",
       "      <td>-4200.000000</td>\n",
       "    </tr>\n",
       "    <tr>\n",
       "      <th>25%</th>\n",
       "      <td>261157.500000</td>\n",
       "      <td>-7.068750</td>\n",
       "      <td>-78.274250</td>\n",
       "      <td>687.250000</td>\n",
       "    </tr>\n",
       "    <tr>\n",
       "      <th>50%</th>\n",
       "      <td>300015.000000</td>\n",
       "      <td>13.861500</td>\n",
       "      <td>38.390000</td>\n",
       "      <td>1464.000000</td>\n",
       "    </tr>\n",
       "    <tr>\n",
       "      <th>75%</th>\n",
       "      <td>342123.250000</td>\n",
       "      <td>41.748750</td>\n",
       "      <td>138.578000</td>\n",
       "      <td>2352.250000</td>\n",
       "    </tr>\n",
       "    <tr>\n",
       "      <th>max</th>\n",
       "      <td>390847.000000</td>\n",
       "      <td>85.608000</td>\n",
       "      <td>179.580000</td>\n",
       "      <td>6879.000000</td>\n",
       "    </tr>\n",
       "  </tbody>\n",
       "</table>\n",
       "</div>"
      ],
      "text/plain": [
       "              Number     Latitude    Longitude  Elevation (Meters)\n",
       "count    1508.000000  1508.000000  1508.000000         1508.000000\n",
       "mean   296656.110743    14.083156    23.391469         1683.357427\n",
       "std     48861.852600    31.871107   113.656588         1571.102885\n",
       "min    210010.000000   -78.500000  -179.970000        -4200.000000\n",
       "25%    261157.500000    -7.068750   -78.274250          687.250000\n",
       "50%    300015.000000    13.861500    38.390000         1464.000000\n",
       "75%    342123.250000    41.748750   138.578000         2352.250000\n",
       "max    390847.000000    85.608000   179.580000         6879.000000"
      ]
     },
     "execution_count": 15,
     "metadata": {},
     "output_type": "execute_result"
    }
   ],
   "source": [
    "df.describe()   # Basic statistics on column values "
   ]
  },
  {
   "cell_type": "markdown",
   "metadata": {},
   "source": [
    "## Plotting DataFrames"
   ]
  },
  {
   "cell_type": "code",
   "execution_count": 60,
   "metadata": {},
   "outputs": [
    {
     "data": {
      "image/png": "[encoded data removed]",
      "text/plain": [
       "<matplotlib.figure.Figure at 0x282e17beb70>"
      ]
     },
     "metadata": {},
     "output_type": "display_data"
    }
   ],
   "source": [
    "df['Elevation (Meters)'].plot(color='red')    # Create a plot from the DataFrame. Include attributes\n",
    "plt.title('Volcanoes!')\n",
    "plt.xlabel('Number')\n",
    "plt.ylabel('Elevation (m)')\n",
    "plt.show()"
   ]
  },
  {
   "cell_type": "code",
   "execution_count": 139,
   "metadata": {
    "scrolled": true
   },
   "outputs": [
    {
     "data": {
      "image/png": "[encoded data removed]",
      "text/plain": [
       "<matplotlib.figure.Figure at 0x282e3023a20>"
      ]
     },
     "metadata": {},
     "output_type": "display_data"
    }
   ],
   "source": [
    "positive_elevations = (df['Elevation (Meters)'] + abs(df['Elevation (Meters)'].min()) + 1).astype(int).values / 50\n",
    "# Choose a type of plot. Scatterplots allow an additional argument for the size of the dots.\n",
    "df.plot.scatter(x='Longitude', y='Latitude', s=positive_elevations)  # Specify source for x and y data\n",
    "# df.plot(x='Longitude', y='Latitude', kind='scatter')    # Alternative syntax\n",
    "plt.axis((-50, 180, -90, 90))   # Limit the section shown\n",
    "plt.show()"
   ]
  },
  {
   "cell_type": "code",
   "execution_count": 101,
   "metadata": {},
   "outputs": [
    {
     "data": {
      "image/png": "[encoded data removed]",
      "text/plain": [
       "<matplotlib.figure.Figure at 0x282e45c52e8>"
      ]
     },
     "metadata": {},
     "output_type": "display_data"
    }
   ],
   "source": [
    "df.plot(kind='box', y='Elevation (Meters)')    # Box plot\n",
    "plt.show()"
   ]
  },
  {
   "cell_type": "code",
   "execution_count": 71,
   "metadata": {},
   "outputs": [
    {
     "data": {
      "image/png": "[encoded data removed]",
      "text/plain": [
       "<matplotlib.figure.Figure at 0x282e2f3c4e0>"
      ]
     },
     "metadata": {},
     "output_type": "display_data"
    }
   ],
   "source": [
    "df[['Latitude', 'Longitude']].plot(subplots=True)   # Show different columns on different plots\n",
    "plt.show()"
   ]
  },
  {
   "cell_type": "code",
   "execution_count": 147,
   "metadata": {},
   "outputs": [
    {
     "data": {
      "image/png": "[encoded data removed]",
      "text/plain": [
       "<matplotlib.figure.Figure at 0x282e5de23c8>"
      ]
     },
     "metadata": {},
     "output_type": "display_data"
    }
   ],
   "source": [
    "fig, axes = plt.subplots(nrows=2, ncols=1)    # Get subplots beforehand. This allows specifying axis labels\n",
    "df['Elevation (Meters)'].plot.hist(ax=axes[0], normed=True,       # Set the number of bins and slice of the histogram\n",
    "                                   bins=15, range=(-5000, 7000))  # This graphs the Probability Density Function\n",
    "df['Elevation (Meters)'].plot.hist(ax=axes[1], normed=True, cumulative=True,\n",
    "                                   bins=15, range=(-5000, 7000))  # Make it a Cumulative Density Function\n",
    "plt.show()"
   ]
  }
 ],
 "metadata": {
  "kernelspec": {
   "display_name": "Python 3",
   "language": "python",
   "name": "python3"
  }
 },
 "nbformat": 4,
 "nbformat_minor": 2
}
